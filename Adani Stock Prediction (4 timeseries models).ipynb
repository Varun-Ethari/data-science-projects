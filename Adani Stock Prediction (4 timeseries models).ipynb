{
 "cells": [
  {
   "cell_type": "markdown",
   "id": "baff8c51",
   "metadata": {},
   "source": [
    "# MODEL 1: LSTM"
   ]
  },
  {
   "cell_type": "code",
   "execution_count": 102,
   "id": "e7e7e957",
   "metadata": {},
   "outputs": [],
   "source": [
    "import pandas as pd\n",
    "import numpy as np\n",
    "import matplotlib.pyplot as plt\n",
    "from datetime import datetime\n",
    "import warnings \n",
    "warnings.filterwarnings(\"ignore\")"
   ]
  },
  {
   "cell_type": "code",
   "execution_count": 9,
   "id": "15bd7a32",
   "metadata": {},
   "outputs": [],
   "source": [
    "df=pd.read_csv(\"ADANIPORTS.csv\")"
   ]
  },
  {
   "cell_type": "code",
   "execution_count": 10,
   "id": "b4549e85",
   "metadata": {},
   "outputs": [
    {
     "data": {
      "text/plain": [
       "(3322, 15)"
      ]
     },
     "execution_count": 10,
     "metadata": {},
     "output_type": "execute_result"
    }
   ],
   "source": [
    "df.shape"
   ]
  },
  {
   "cell_type": "code",
   "execution_count": 11,
   "id": "1f95e5c5",
   "metadata": {},
   "outputs": [
    {
     "data": {
      "text/html": [
       "<div>\n",
       "<style scoped>\n",
       "    .dataframe tbody tr th:only-of-type {\n",
       "        vertical-align: middle;\n",
       "    }\n",
       "\n",
       "    .dataframe tbody tr th {\n",
       "        vertical-align: top;\n",
       "    }\n",
       "\n",
       "    .dataframe thead th {\n",
       "        text-align: right;\n",
       "    }\n",
       "</style>\n",
       "<table border=\"1\" class=\"dataframe\">\n",
       "  <thead>\n",
       "    <tr style=\"text-align: right;\">\n",
       "      <th></th>\n",
       "      <th>Date</th>\n",
       "      <th>Symbol</th>\n",
       "      <th>Series</th>\n",
       "      <th>Prev Close</th>\n",
       "      <th>Open</th>\n",
       "      <th>High</th>\n",
       "      <th>Low</th>\n",
       "      <th>Last</th>\n",
       "      <th>Close</th>\n",
       "      <th>VWAP</th>\n",
       "      <th>Volume</th>\n",
       "      <th>Turnover</th>\n",
       "      <th>Trades</th>\n",
       "      <th>Deliverable Volume</th>\n",
       "      <th>%Deliverble</th>\n",
       "    </tr>\n",
       "  </thead>\n",
       "  <tbody>\n",
       "    <tr>\n",
       "      <th>0</th>\n",
       "      <td>2007-11-27</td>\n",
       "      <td>MUNDRAPORT</td>\n",
       "      <td>EQ</td>\n",
       "      <td>440.00</td>\n",
       "      <td>770.00</td>\n",
       "      <td>1050.00</td>\n",
       "      <td>770.0</td>\n",
       "      <td>959.0</td>\n",
       "      <td>962.90</td>\n",
       "      <td>984.72</td>\n",
       "      <td>27294366</td>\n",
       "      <td>2.687719e+15</td>\n",
       "      <td>NaN</td>\n",
       "      <td>9859619</td>\n",
       "      <td>0.3612</td>\n",
       "    </tr>\n",
       "    <tr>\n",
       "      <th>1</th>\n",
       "      <td>2007-11-28</td>\n",
       "      <td>MUNDRAPORT</td>\n",
       "      <td>EQ</td>\n",
       "      <td>962.90</td>\n",
       "      <td>984.00</td>\n",
       "      <td>990.00</td>\n",
       "      <td>874.0</td>\n",
       "      <td>885.0</td>\n",
       "      <td>893.90</td>\n",
       "      <td>941.38</td>\n",
       "      <td>4581338</td>\n",
       "      <td>4.312765e+14</td>\n",
       "      <td>NaN</td>\n",
       "      <td>1453278</td>\n",
       "      <td>0.3172</td>\n",
       "    </tr>\n",
       "    <tr>\n",
       "      <th>2</th>\n",
       "      <td>2007-11-29</td>\n",
       "      <td>MUNDRAPORT</td>\n",
       "      <td>EQ</td>\n",
       "      <td>893.90</td>\n",
       "      <td>909.00</td>\n",
       "      <td>914.75</td>\n",
       "      <td>841.0</td>\n",
       "      <td>887.0</td>\n",
       "      <td>884.20</td>\n",
       "      <td>888.09</td>\n",
       "      <td>5124121</td>\n",
       "      <td>4.550658e+14</td>\n",
       "      <td>NaN</td>\n",
       "      <td>1069678</td>\n",
       "      <td>0.2088</td>\n",
       "    </tr>\n",
       "    <tr>\n",
       "      <th>3</th>\n",
       "      <td>2007-11-30</td>\n",
       "      <td>MUNDRAPORT</td>\n",
       "      <td>EQ</td>\n",
       "      <td>884.20</td>\n",
       "      <td>890.00</td>\n",
       "      <td>958.00</td>\n",
       "      <td>890.0</td>\n",
       "      <td>929.0</td>\n",
       "      <td>921.55</td>\n",
       "      <td>929.17</td>\n",
       "      <td>4609762</td>\n",
       "      <td>4.283257e+14</td>\n",
       "      <td>NaN</td>\n",
       "      <td>1260913</td>\n",
       "      <td>0.2735</td>\n",
       "    </tr>\n",
       "    <tr>\n",
       "      <th>4</th>\n",
       "      <td>2007-12-03</td>\n",
       "      <td>MUNDRAPORT</td>\n",
       "      <td>EQ</td>\n",
       "      <td>921.55</td>\n",
       "      <td>939.75</td>\n",
       "      <td>995.00</td>\n",
       "      <td>922.0</td>\n",
       "      <td>980.0</td>\n",
       "      <td>969.30</td>\n",
       "      <td>965.65</td>\n",
       "      <td>2977470</td>\n",
       "      <td>2.875200e+14</td>\n",
       "      <td>NaN</td>\n",
       "      <td>816123</td>\n",
       "      <td>0.2741</td>\n",
       "    </tr>\n",
       "  </tbody>\n",
       "</table>\n",
       "</div>"
      ],
      "text/plain": [
       "         Date      Symbol Series  Prev Close    Open     High    Low   Last  \\\n",
       "0  2007-11-27  MUNDRAPORT     EQ      440.00  770.00  1050.00  770.0  959.0   \n",
       "1  2007-11-28  MUNDRAPORT     EQ      962.90  984.00   990.00  874.0  885.0   \n",
       "2  2007-11-29  MUNDRAPORT     EQ      893.90  909.00   914.75  841.0  887.0   \n",
       "3  2007-11-30  MUNDRAPORT     EQ      884.20  890.00   958.00  890.0  929.0   \n",
       "4  2007-12-03  MUNDRAPORT     EQ      921.55  939.75   995.00  922.0  980.0   \n",
       "\n",
       "    Close    VWAP    Volume      Turnover  Trades  Deliverable Volume  \\\n",
       "0  962.90  984.72  27294366  2.687719e+15     NaN             9859619   \n",
       "1  893.90  941.38   4581338  4.312765e+14     NaN             1453278   \n",
       "2  884.20  888.09   5124121  4.550658e+14     NaN             1069678   \n",
       "3  921.55  929.17   4609762  4.283257e+14     NaN             1260913   \n",
       "4  969.30  965.65   2977470  2.875200e+14     NaN              816123   \n",
       "\n",
       "   %Deliverble  \n",
       "0       0.3612  \n",
       "1       0.3172  \n",
       "2       0.2088  \n",
       "3       0.2735  \n",
       "4       0.2741  "
      ]
     },
     "execution_count": 11,
     "metadata": {},
     "output_type": "execute_result"
    }
   ],
   "source": [
    "df.head()"
   ]
  },
  {
   "cell_type": "code",
   "execution_count": 12,
   "id": "a000d442",
   "metadata": {},
   "outputs": [
    {
     "data": {
      "text/html": [
       "<div>\n",
       "<style scoped>\n",
       "    .dataframe tbody tr th:only-of-type {\n",
       "        vertical-align: middle;\n",
       "    }\n",
       "\n",
       "    .dataframe tbody tr th {\n",
       "        vertical-align: top;\n",
       "    }\n",
       "\n",
       "    .dataframe thead th {\n",
       "        text-align: right;\n",
       "    }\n",
       "</style>\n",
       "<table border=\"1\" class=\"dataframe\">\n",
       "  <thead>\n",
       "    <tr style=\"text-align: right;\">\n",
       "      <th></th>\n",
       "      <th>Date</th>\n",
       "      <th>Symbol</th>\n",
       "      <th>Series</th>\n",
       "      <th>Prev Close</th>\n",
       "      <th>Open</th>\n",
       "      <th>High</th>\n",
       "      <th>Low</th>\n",
       "      <th>Last</th>\n",
       "      <th>Close</th>\n",
       "      <th>VWAP</th>\n",
       "      <th>Volume</th>\n",
       "      <th>Turnover</th>\n",
       "      <th>Trades</th>\n",
       "      <th>Deliverable Volume</th>\n",
       "      <th>%Deliverble</th>\n",
       "    </tr>\n",
       "  </thead>\n",
       "  <tbody>\n",
       "    <tr>\n",
       "      <th>3317</th>\n",
       "      <td>2021-04-26</td>\n",
       "      <td>ADANIPORTS</td>\n",
       "      <td>EQ</td>\n",
       "      <td>725.35</td>\n",
       "      <td>733.0</td>\n",
       "      <td>739.65</td>\n",
       "      <td>728.90</td>\n",
       "      <td>729.2</td>\n",
       "      <td>730.75</td>\n",
       "      <td>733.25</td>\n",
       "      <td>9390549</td>\n",
       "      <td>6.885658e+14</td>\n",
       "      <td>116457.0</td>\n",
       "      <td>838079</td>\n",
       "      <td>0.0892</td>\n",
       "    </tr>\n",
       "    <tr>\n",
       "      <th>3318</th>\n",
       "      <td>2021-04-27</td>\n",
       "      <td>ADANIPORTS</td>\n",
       "      <td>EQ</td>\n",
       "      <td>730.75</td>\n",
       "      <td>735.0</td>\n",
       "      <td>757.50</td>\n",
       "      <td>727.35</td>\n",
       "      <td>748.6</td>\n",
       "      <td>749.15</td>\n",
       "      <td>747.67</td>\n",
       "      <td>20573107</td>\n",
       "      <td>1.538191e+15</td>\n",
       "      <td>236896.0</td>\n",
       "      <td>1779639</td>\n",
       "      <td>0.0865</td>\n",
       "    </tr>\n",
       "    <tr>\n",
       "      <th>3319</th>\n",
       "      <td>2021-04-28</td>\n",
       "      <td>ADANIPORTS</td>\n",
       "      <td>EQ</td>\n",
       "      <td>749.15</td>\n",
       "      <td>755.0</td>\n",
       "      <td>760.00</td>\n",
       "      <td>741.10</td>\n",
       "      <td>743.4</td>\n",
       "      <td>746.25</td>\n",
       "      <td>751.02</td>\n",
       "      <td>11156977</td>\n",
       "      <td>8.379106e+14</td>\n",
       "      <td>130847.0</td>\n",
       "      <td>1342353</td>\n",
       "      <td>0.1203</td>\n",
       "    </tr>\n",
       "    <tr>\n",
       "      <th>3320</th>\n",
       "      <td>2021-04-29</td>\n",
       "      <td>ADANIPORTS</td>\n",
       "      <td>EQ</td>\n",
       "      <td>746.25</td>\n",
       "      <td>753.2</td>\n",
       "      <td>765.85</td>\n",
       "      <td>743.40</td>\n",
       "      <td>746.4</td>\n",
       "      <td>746.75</td>\n",
       "      <td>753.06</td>\n",
       "      <td>13851910</td>\n",
       "      <td>1.043139e+15</td>\n",
       "      <td>153293.0</td>\n",
       "      <td>1304895</td>\n",
       "      <td>0.0942</td>\n",
       "    </tr>\n",
       "    <tr>\n",
       "      <th>3321</th>\n",
       "      <td>2021-04-30</td>\n",
       "      <td>ADANIPORTS</td>\n",
       "      <td>EQ</td>\n",
       "      <td>746.75</td>\n",
       "      <td>739.0</td>\n",
       "      <td>759.45</td>\n",
       "      <td>724.50</td>\n",
       "      <td>726.4</td>\n",
       "      <td>730.05</td>\n",
       "      <td>743.35</td>\n",
       "      <td>12600934</td>\n",
       "      <td>9.366911e+14</td>\n",
       "      <td>132141.0</td>\n",
       "      <td>3514692</td>\n",
       "      <td>0.2789</td>\n",
       "    </tr>\n",
       "  </tbody>\n",
       "</table>\n",
       "</div>"
      ],
      "text/plain": [
       "            Date      Symbol Series  Prev Close   Open    High     Low   Last  \\\n",
       "3317  2021-04-26  ADANIPORTS     EQ      725.35  733.0  739.65  728.90  729.2   \n",
       "3318  2021-04-27  ADANIPORTS     EQ      730.75  735.0  757.50  727.35  748.6   \n",
       "3319  2021-04-28  ADANIPORTS     EQ      749.15  755.0  760.00  741.10  743.4   \n",
       "3320  2021-04-29  ADANIPORTS     EQ      746.25  753.2  765.85  743.40  746.4   \n",
       "3321  2021-04-30  ADANIPORTS     EQ      746.75  739.0  759.45  724.50  726.4   \n",
       "\n",
       "       Close    VWAP    Volume      Turnover    Trades  Deliverable Volume  \\\n",
       "3317  730.75  733.25   9390549  6.885658e+14  116457.0              838079   \n",
       "3318  749.15  747.67  20573107  1.538191e+15  236896.0             1779639   \n",
       "3319  746.25  751.02  11156977  8.379106e+14  130847.0             1342353   \n",
       "3320  746.75  753.06  13851910  1.043139e+15  153293.0             1304895   \n",
       "3321  730.05  743.35  12600934  9.366911e+14  132141.0             3514692   \n",
       "\n",
       "      %Deliverble  \n",
       "3317       0.0892  \n",
       "3318       0.0865  \n",
       "3319       0.1203  \n",
       "3320       0.0942  \n",
       "3321       0.2789  "
      ]
     },
     "execution_count": 12,
     "metadata": {},
     "output_type": "execute_result"
    }
   ],
   "source": [
    "df.tail()"
   ]
  },
  {
   "cell_type": "code",
   "execution_count": 13,
   "id": "621b1777",
   "metadata": {},
   "outputs": [
    {
     "data": {
      "text/plain": [
       "Date                    0\n",
       "Symbol                  0\n",
       "Series                  0\n",
       "Prev Close              0\n",
       "Open                    0\n",
       "High                    0\n",
       "Low                     0\n",
       "Last                    0\n",
       "Close                   0\n",
       "VWAP                    0\n",
       "Volume                  0\n",
       "Turnover                0\n",
       "Trades                866\n",
       "Deliverable Volume      0\n",
       "%Deliverble             0\n",
       "dtype: int64"
      ]
     },
     "execution_count": 13,
     "metadata": {},
     "output_type": "execute_result"
    }
   ],
   "source": [
    "df.isnull().sum()"
   ]
  },
  {
   "cell_type": "code",
   "execution_count": 14,
   "id": "e4f16e5f",
   "metadata": {},
   "outputs": [],
   "source": [
    "df.drop(\"Trades\",axis=1,inplace=True)"
   ]
  },
  {
   "cell_type": "code",
   "execution_count": 15,
   "id": "348969c7",
   "metadata": {},
   "outputs": [
    {
     "data": {
      "text/plain": [
       "(3322,)"
      ]
     },
     "execution_count": 15,
     "metadata": {},
     "output_type": "execute_result"
    }
   ],
   "source": [
    "df1=df.reset_index()[\"High\"]\n",
    "df1.shape"
   ]
  },
  {
   "cell_type": "code",
   "execution_count": 16,
   "id": "6e71e487",
   "metadata": {},
   "outputs": [
    {
     "data": {
      "text/plain": [
       "0       1050.00\n",
       "1        990.00\n",
       "2        914.75\n",
       "3        958.00\n",
       "4        995.00\n",
       "         ...   \n",
       "3317     739.65\n",
       "3318     757.50\n",
       "3319     760.00\n",
       "3320     765.85\n",
       "3321     759.45\n",
       "Name: High, Length: 3322, dtype: float64"
      ]
     },
     "execution_count": 16,
     "metadata": {},
     "output_type": "execute_result"
    }
   ],
   "source": [
    "df1"
   ]
  },
  {
   "cell_type": "code",
   "execution_count": null,
   "id": "4978ccc9",
   "metadata": {},
   "outputs": [],
   "source": []
  },
  {
   "cell_type": "code",
   "execution_count": 17,
   "id": "1fcaff61",
   "metadata": {},
   "outputs": [
    {
     "data": {
      "text/plain": [
       "[<matplotlib.lines.Line2D at 0x12264b5b0d0>]"
      ]
     },
     "execution_count": 17,
     "metadata": {},
     "output_type": "execute_result"
    },
    {
     "data": {
      "image/png": "[encoded data removed]",
      "text/plain": [
       "<Figure size 640x480 with 1 Axes>"
      ]
     },
     "metadata": {},
     "output_type": "display_data"
    }
   ],
   "source": [
    "plt.plot(df1)"
   ]
  },
  {
   "cell_type": "markdown",
   "id": "3de82f84",
   "metadata": {},
   "source": [
    "# #Scaling the data"
   ]
  },
  {
   "cell_type": "code",
   "execution_count": 18,
   "id": "6b511474",
   "metadata": {},
   "outputs": [],
   "source": [
    "from sklearn.preprocessing import MinMaxScaler\n",
    "scaler=MinMaxScaler(feature_range=(0,1))\n",
    "df1=scaler.fit_transform(np.array(df1).reshape(-1,1))"
   ]
  },
  {
   "cell_type": "code",
   "execution_count": 19,
   "id": "f639fa2a",
   "metadata": {},
   "outputs": [
    {
     "data": {
      "text/plain": [
       "array([[0.77421614],\n",
       "       [0.72477442],\n",
       "       [0.66276626],\n",
       "       ...,\n",
       "       [0.53524783],\n",
       "       [0.54006839],\n",
       "       [0.53479461]])"
      ]
     },
     "execution_count": 19,
     "metadata": {},
     "output_type": "execute_result"
    }
   ],
   "source": [
    "df1"
   ]
  },
  {
   "cell_type": "markdown",
   "id": "36477234",
   "metadata": {},
   "source": [
    "# #Splitting dataset into train_data, test_data"
   ]
  },
  {
   "cell_type": "code",
   "execution_count": 14,
   "id": "9ef4e243",
   "metadata": {},
   "outputs": [],
   "source": [
    "train_size=int(len(df1)*0.85)\n",
    "test_size=len(df1)-train_size\n",
    "train_data, test_data= df1[0:train_size,:], df1[train_size:len(df1),:]"
   ]
  },
  {
   "cell_type": "code",
   "execution_count": 15,
   "id": "2adec8f5",
   "metadata": {},
   "outputs": [
    {
     "data": {
      "text/plain": [
       "(2823, 499, 2823, 499)"
      ]
     },
     "execution_count": 15,
     "metadata": {},
     "output_type": "execute_result"
    }
   ],
   "source": [
    "train_size,test_size, len(train_data), len(test_data)"
   ]
  },
  {
   "cell_type": "markdown",
   "id": "8292354b",
   "metadata": {},
   "source": [
    "# Converting an array of values into a dataset matrix"
   ]
  },
  {
   "cell_type": "code",
   "execution_count": 16,
   "id": "64e283ec",
   "metadata": {},
   "outputs": [],
   "source": [
    "\n",
    "def create_dataset(dataset, time_step=1):\n",
    "    datax, datay = [], []\n",
    "    for i in range(len(dataset)-time_step-1):\n",
    "        a = dataset[i:(i+time_step), 0]      ###i=0, 0,1,2,3-----99   100 \n",
    "        datax.append(a)\n",
    "        datay.append(dataset[i + time_step, 0])\n",
    "    return np.array(datax), np.array(datay)"
   ]
  },
  {
   "cell_type": "markdown",
   "id": "c44d931d",
   "metadata": {},
   "source": [
    "## Reshaping into x=t, t+1, t+2, t+3 and y=t+4"
   ]
  },
  {
   "cell_type": "code",
   "execution_count": 17,
   "id": "18bac559",
   "metadata": {},
   "outputs": [],
   "source": [
    "time_step= 100\n",
    "x_train, y_train = create_dataset(train_data, time_step)\n",
    "x_test, y_test= create_dataset(test_data, time_step)"
   ]
  },
  {
   "cell_type": "code",
   "execution_count": 18,
   "id": "384cf276",
   "metadata": {},
   "outputs": [
    {
     "name": "stdout",
     "output_type": "stream",
     "text": [
      "[[0.77421614 0.72477442 0.66276626 ... 0.44868361 0.46388694 0.46759507]\n",
      " [0.72477442 0.66276626 0.6984055  ... 0.46388694 0.46759507 0.46755387]\n",
      " [0.66276626 0.6984055  0.72889457 ... 0.46759507 0.46755387 0.50063862]\n",
      " ...\n",
      " [0.21461827 0.21420625 0.21634873 ... 0.22788513 0.22953319 0.2357546 ]\n",
      " [0.21420625 0.21634873 0.21305261 ... 0.22953319 0.2357546  0.23488937]\n",
      " [0.21634873 0.21305261 0.21498908 ... 0.2357546  0.23488937 0.23184047]]\n"
     ]
    }
   ],
   "source": [
    "print(x_train)"
   ]
  },
  {
   "cell_type": "code",
   "execution_count": 19,
   "id": "9526571b",
   "metadata": {},
   "outputs": [
    {
     "name": "stdout",
     "output_type": "stream",
     "text": [
      "[0.46755387 0.50063862 0.51967368 ... 0.23488937 0.23184047 0.23175807]\n"
     ]
    }
   ],
   "source": [
    "print(y_train)"
   ]
  },
  {
   "cell_type": "code",
   "execution_count": 20,
   "id": "b128bdc7",
   "metadata": {},
   "outputs": [
    {
     "name": "stdout",
     "output_type": "stream",
     "text": [
      "[[0.2327469  0.23340612 0.23361213 ... 0.21247579 0.21099254 0.22607227]\n",
      " [0.23340612 0.23361213 0.23612542 ... 0.21099254 0.22607227 0.25301801]\n",
      " [0.23361213 0.23612542 0.23727906 ... 0.22607227 0.25301801 0.25301801]\n",
      " ...\n",
      " [0.24930988 0.25178196 0.26002225 ... 0.52280499 0.52445305 0.51847884]\n",
      " [0.25178196 0.26002225 0.27320671 ... 0.52445305 0.51847884 0.53318775]\n",
      " [0.26002225 0.27320671 0.27526678 ... 0.51847884 0.53318775 0.53524783]]\n"
     ]
    }
   ],
   "source": [
    "print(x_test)"
   ]
  },
  {
   "cell_type": "code",
   "execution_count": 21,
   "id": "941b85fc",
   "metadata": {},
   "outputs": [
    {
     "name": "stdout",
     "output_type": "stream",
     "text": [
      "(2722, 100)\n",
      "(2722,)\n"
     ]
    },
    {
     "data": {
      "text/plain": [
       "(None, None)"
      ]
     },
     "execution_count": 21,
     "metadata": {},
     "output_type": "execute_result"
    }
   ],
   "source": [
    "print(x_train.shape),print(y_train.shape)"
   ]
  },
  {
   "cell_type": "code",
   "execution_count": 22,
   "id": "c93b6188",
   "metadata": {},
   "outputs": [
    {
     "name": "stdout",
     "output_type": "stream",
     "text": [
      "(398, 100)\n",
      "(398,)\n"
     ]
    },
    {
     "data": {
      "text/plain": [
       "(None, None)"
      ]
     },
     "execution_count": 22,
     "metadata": {},
     "output_type": "execute_result"
    }
   ],
   "source": [
    "print(x_test.shape),print(y_test.shape)"
   ]
  },
  {
   "cell_type": "markdown",
   "id": "a26d4b07",
   "metadata": {},
   "source": [
    "# #Reshaping from 2d array to 3d array"
   ]
  },
  {
   "cell_type": "code",
   "execution_count": 23,
   "id": "0ac3dd00",
   "metadata": {},
   "outputs": [],
   "source": [
    "x_train=x_train.reshape(x_train.shape[0],x_train.shape[1],1)\n",
    "x_test=x_test.reshape(x_test.shape[0],x_test.shape[1],1)"
   ]
  },
  {
   "cell_type": "code",
   "execution_count": 24,
   "id": "9ab3becc",
   "metadata": {},
   "outputs": [
    {
     "name": "stdout",
     "output_type": "stream",
     "text": [
      "[[[0.77421614]\n",
      "  [0.72477442]\n",
      "  [0.66276626]\n",
      "  ...\n",
      "  [0.44868361]\n",
      "  [0.46388694]\n",
      "  [0.46759507]]\n",
      "\n",
      " [[0.72477442]\n",
      "  [0.66276626]\n",
      "  [0.6984055 ]\n",
      "  ...\n",
      "  [0.46388694]\n",
      "  [0.46759507]\n",
      "  [0.46755387]]\n",
      "\n",
      " [[0.66276626]\n",
      "  [0.6984055 ]\n",
      "  [0.72889457]\n",
      "  ...\n",
      "  [0.46759507]\n",
      "  [0.46755387]\n",
      "  [0.50063862]]\n",
      "\n",
      " ...\n",
      "\n",
      " [[0.21461827]\n",
      "  [0.21420625]\n",
      "  [0.21634873]\n",
      "  ...\n",
      "  [0.22788513]\n",
      "  [0.22953319]\n",
      "  [0.2357546 ]]\n",
      "\n",
      " [[0.21420625]\n",
      "  [0.21634873]\n",
      "  [0.21305261]\n",
      "  ...\n",
      "  [0.22953319]\n",
      "  [0.2357546 ]\n",
      "  [0.23488937]]\n",
      "\n",
      " [[0.21634873]\n",
      "  [0.21305261]\n",
      "  [0.21498908]\n",
      "  ...\n",
      "  [0.2357546 ]\n",
      "  [0.23488937]\n",
      "  [0.23184047]]]\n"
     ]
    }
   ],
   "source": [
    "print(x_train)"
   ]
  },
  {
   "cell_type": "markdown",
   "id": "1dfeb3ba",
   "metadata": {},
   "source": [
    "## Creating stack LSTM model"
   ]
  },
  {
   "cell_type": "code",
   "execution_count": null,
   "id": "661df6be",
   "metadata": {},
   "outputs": [],
   "source": []
  },
  {
   "cell_type": "code",
   "execution_count": 26,
   "id": "74f1353c",
   "metadata": {},
   "outputs": [],
   "source": [
    "from tensorflow.keras.models import Sequential\n",
    "from tensorflow.keras.layers import Dense\n",
    "from tensorflow.keras.layers import LSTM"
   ]
  },
  {
   "cell_type": "code",
   "execution_count": 27,
   "id": "da8f125f",
   "metadata": {},
   "outputs": [],
   "source": [
    "model=Sequential()\n",
    "#input layer\n",
    "model.add(LSTM(50, return_sequences=True, input_shape=(100,1))) #5star x_train.shape[1],1 from reshape 2d to 3d or time_step=100\n",
    "#1st hidden layer\n",
    "model.add(LSTM(50, return_sequences=True))\n",
    "#2nd hidden layer\n",
    "model.add(LSTM(50))\n",
    "#output layer\n",
    "model.add(Dense(1))\n",
    "#Compiling\n",
    "model.compile(optimizer=\"adam\",loss=\"mean_squared_error\")"
   ]
  },
  {
   "cell_type": "code",
   "execution_count": 28,
   "id": "c366086f",
   "metadata": {},
   "outputs": [
    {
     "name": "stdout",
     "output_type": "stream",
     "text": [
      "Model: \"sequential\"\n",
      "_________________________________________________________________\n",
      " Layer (type)                Output Shape              Param #   \n",
      "=================================================================\n",
      " lstm (LSTM)                 (None, 100, 50)           10400     \n",
      "                                                                 \n",
      " lstm_1 (LSTM)               (None, 100, 50)           20200     \n",
      "                                                                 \n",
      " lstm_2 (LSTM)               (None, 50)                20200     \n",
      "                                                                 \n",
      " dense (Dense)               (None, 1)                 51        \n",
      "                                                                 \n",
      "=================================================================\n",
      "Total params: 50,851\n",
      "Trainable params: 50,851\n",
      "Non-trainable params: 0\n",
      "_________________________________________________________________\n"
     ]
    }
   ],
   "source": [
    "model.summary()"
   ]
  },
  {
   "cell_type": "code",
   "execution_count": 29,
   "id": "8d7395e5",
   "metadata": {},
   "outputs": [
    {
     "name": "stdout",
     "output_type": "stream",
     "text": [
      "Epoch 1/100\n",
      "43/43 [==============================] - 36s 593ms/step - loss: 0.0065 - val_loss: 8.6088e-04\n",
      "Epoch 2/100\n",
      "43/43 [==============================] - 20s 458ms/step - loss: 0.0014 - val_loss: 9.5741e-04\n",
      "Epoch 3/100\n",
      "43/43 [==============================] - 23s 534ms/step - loss: 0.0011 - val_loss: 6.4498e-04\n",
      "Epoch 4/100\n",
      "43/43 [==============================] - 18s 419ms/step - loss: 9.6487e-04 - val_loss: 5.9262e-04\n",
      "Epoch 5/100\n",
      "43/43 [==============================] - 17s 391ms/step - loss: 8.9706e-04 - val_loss: 4.7919e-04\n",
      "Epoch 6/100\n",
      "43/43 [==============================] - 19s 443ms/step - loss: 8.8181e-04 - val_loss: 6.6394e-04\n",
      "Epoch 7/100\n",
      "43/43 [==============================] - 24s 563ms/step - loss: 8.8410e-04 - val_loss: 5.4825e-04\n",
      "Epoch 8/100\n",
      "43/43 [==============================] - 18s 430ms/step - loss: 7.8650e-04 - val_loss: 4.7095e-04\n",
      "Epoch 9/100\n",
      "43/43 [==============================] - 19s 445ms/step - loss: 8.0157e-04 - val_loss: 4.0441e-04\n",
      "Epoch 10/100\n",
      "43/43 [==============================] - 17s 392ms/step - loss: 7.2909e-04 - val_loss: 4.4868e-04\n",
      "Epoch 11/100\n",
      "43/43 [==============================] - 19s 441ms/step - loss: 6.9037e-04 - val_loss: 3.8487e-04\n",
      "Epoch 12/100\n",
      "43/43 [==============================] - 22s 515ms/step - loss: 6.3643e-04 - val_loss: 6.9688e-04\n",
      "Epoch 13/100\n",
      "43/43 [==============================] - 19s 430ms/step - loss: 6.6375e-04 - val_loss: 3.2829e-04\n",
      "Epoch 14/100\n",
      "43/43 [==============================] - 17s 406ms/step - loss: 6.0069e-04 - val_loss: 9.8307e-04\n",
      "Epoch 15/100\n",
      "43/43 [==============================] - 16s 377ms/step - loss: 6.5891e-04 - val_loss: 3.4354e-04\n",
      "Epoch 16/100\n",
      "43/43 [==============================] - 21s 495ms/step - loss: 4.9129e-04 - val_loss: 3.1885e-04\n",
      "Epoch 17/100\n",
      "43/43 [==============================] - 25s 573ms/step - loss: 4.6112e-04 - val_loss: 2.7078e-04\n",
      "Epoch 18/100\n",
      "43/43 [==============================] - 26s 599ms/step - loss: 4.2064e-04 - val_loss: 2.6849e-04\n",
      "Epoch 19/100\n",
      "43/43 [==============================] - 26s 600ms/step - loss: 5.0110e-04 - val_loss: 2.6142e-04\n",
      "Epoch 20/100\n",
      "43/43 [==============================] - 24s 568ms/step - loss: 4.2633e-04 - val_loss: 2.8968e-04\n",
      "Epoch 21/100\n",
      "43/43 [==============================] - 25s 579ms/step - loss: 4.1679e-04 - val_loss: 2.4044e-04\n",
      "Epoch 22/100\n",
      "43/43 [==============================] - 26s 596ms/step - loss: 4.0909e-04 - val_loss: 2.9527e-04\n",
      "Epoch 23/100\n",
      "43/43 [==============================] - 25s 585ms/step - loss: 4.0754e-04 - val_loss: 7.7065e-04\n",
      "Epoch 24/100\n",
      "43/43 [==============================] - 26s 607ms/step - loss: 3.7163e-04 - val_loss: 5.0920e-04\n",
      "Epoch 25/100\n",
      "43/43 [==============================] - 25s 591ms/step - loss: 3.4800e-04 - val_loss: 2.8506e-04\n",
      "Epoch 26/100\n",
      "43/43 [==============================] - 25s 579ms/step - loss: 3.6414e-04 - val_loss: 2.2132e-04\n",
      "Epoch 27/100\n",
      "43/43 [==============================] - 26s 604ms/step - loss: 3.2985e-04 - val_loss: 2.6955e-04\n",
      "Epoch 28/100\n",
      "43/43 [==============================] - 25s 580ms/step - loss: 3.0501e-04 - val_loss: 1.9680e-04\n",
      "Epoch 29/100\n",
      "43/43 [==============================] - 25s 588ms/step - loss: 3.0589e-04 - val_loss: 1.7993e-04\n",
      "Epoch 30/100\n",
      "43/43 [==============================] - 26s 607ms/step - loss: 2.7270e-04 - val_loss: 2.3380e-04\n",
      "Epoch 31/100\n",
      "43/43 [==============================] - 29s 671ms/step - loss: 2.9920e-04 - val_loss: 1.7935e-04\n",
      "Epoch 32/100\n",
      "43/43 [==============================] - 30s 700ms/step - loss: 2.8712e-04 - val_loss: 1.9747e-04\n",
      "Epoch 33/100\n",
      "43/43 [==============================] - 26s 595ms/step - loss: 2.7918e-04 - val_loss: 1.5558e-04\n",
      "Epoch 34/100\n",
      "43/43 [==============================] - 25s 587ms/step - loss: 2.7946e-04 - val_loss: 1.9186e-04\n",
      "Epoch 35/100\n",
      "43/43 [==============================] - 25s 587ms/step - loss: 2.4723e-04 - val_loss: 1.9882e-04\n",
      "Epoch 36/100\n",
      "43/43 [==============================] - 25s 590ms/step - loss: 2.5386e-04 - val_loss: 1.6209e-04\n",
      "Epoch 37/100\n",
      "43/43 [==============================] - 25s 581ms/step - loss: 2.5051e-04 - val_loss: 2.7333e-04\n",
      "Epoch 38/100\n",
      "43/43 [==============================] - 26s 596ms/step - loss: 2.3687e-04 - val_loss: 1.3249e-04\n",
      "Epoch 39/100\n",
      "43/43 [==============================] - 25s 573ms/step - loss: 2.1979e-04 - val_loss: 1.2998e-04\n",
      "Epoch 40/100\n",
      "43/43 [==============================] - 25s 572ms/step - loss: 2.1835e-04 - val_loss: 1.4034e-04\n",
      "Epoch 41/100\n",
      "43/43 [==============================] - 25s 580ms/step - loss: 2.5580e-04 - val_loss: 1.4971e-04\n",
      "Epoch 42/100\n",
      "43/43 [==============================] - 25s 591ms/step - loss: 2.3936e-04 - val_loss: 1.4358e-04\n",
      "Epoch 43/100\n",
      "43/43 [==============================] - 24s 565ms/step - loss: 2.1744e-04 - val_loss: 1.7873e-04\n",
      "Epoch 44/100\n",
      "43/43 [==============================] - 25s 569ms/step - loss: 2.2901e-04 - val_loss: 1.8188e-04\n",
      "Epoch 45/100\n",
      "43/43 [==============================] - 25s 580ms/step - loss: 2.1299e-04 - val_loss: 1.1695e-04\n",
      "Epoch 46/100\n",
      "43/43 [==============================] - 24s 564ms/step - loss: 2.1792e-04 - val_loss: 1.8290e-04\n",
      "Epoch 47/100\n",
      "43/43 [==============================] - 24s 565ms/step - loss: 2.2270e-04 - val_loss: 1.2968e-04\n",
      "Epoch 48/100\n",
      "43/43 [==============================] - 25s 576ms/step - loss: 1.9629e-04 - val_loss: 6.2717e-04\n",
      "Epoch 49/100\n",
      "43/43 [==============================] - 25s 572ms/step - loss: 2.9750e-04 - val_loss: 1.7255e-04\n",
      "Epoch 50/100\n",
      "43/43 [==============================] - 25s 577ms/step - loss: 2.1448e-04 - val_loss: 1.4329e-04\n",
      "Epoch 51/100\n",
      "43/43 [==============================] - 25s 582ms/step - loss: 1.9732e-04 - val_loss: 1.3315e-04\n",
      "Epoch 52/100\n",
      "43/43 [==============================] - 26s 616ms/step - loss: 2.2293e-04 - val_loss: 1.1933e-04\n",
      "Epoch 53/100\n",
      "43/43 [==============================] - 24s 565ms/step - loss: 2.1510e-04 - val_loss: 1.2578e-04\n",
      "Epoch 54/100\n",
      "43/43 [==============================] - 25s 586ms/step - loss: 2.1679e-04 - val_loss: 1.9069e-04\n",
      "Epoch 55/100\n",
      "43/43 [==============================] - 25s 582ms/step - loss: 2.2814e-04 - val_loss: 1.8299e-04\n",
      "Epoch 56/100\n",
      "43/43 [==============================] - 25s 571ms/step - loss: 2.0362e-04 - val_loss: 1.3754e-04\n",
      "Epoch 57/100\n",
      "43/43 [==============================] - 24s 568ms/step - loss: 2.0452e-04 - val_loss: 1.2835e-04\n",
      "Epoch 58/100\n",
      "43/43 [==============================] - 24s 565ms/step - loss: 1.8789e-04 - val_loss: 3.2995e-04\n",
      "Epoch 59/100\n",
      "43/43 [==============================] - 24s 556ms/step - loss: 2.4580e-04 - val_loss: 1.1844e-04\n",
      "Epoch 60/100\n",
      "43/43 [==============================] - 23s 531ms/step - loss: 2.1066e-04 - val_loss: 1.2062e-04\n",
      "Epoch 61/100\n",
      "43/43 [==============================] - 17s 396ms/step - loss: 2.0698e-04 - val_loss: 1.3467e-04\n",
      "Epoch 62/100\n",
      "43/43 [==============================] - 17s 391ms/step - loss: 1.9768e-04 - val_loss: 1.4789e-04\n",
      "Epoch 63/100\n",
      "43/43 [==============================] - 16s 376ms/step - loss: 2.4702e-04 - val_loss: 1.1195e-04\n",
      "Epoch 64/100\n",
      "43/43 [==============================] - 16s 373ms/step - loss: 1.9867e-04 - val_loss: 1.4167e-04\n",
      "Epoch 65/100\n",
      "43/43 [==============================] - 16s 375ms/step - loss: 2.0366e-04 - val_loss: 1.4082e-04\n",
      "Epoch 66/100\n",
      "43/43 [==============================] - 16s 363ms/step - loss: 2.0404e-04 - val_loss: 1.3226e-04\n",
      "Epoch 67/100\n",
      "43/43 [==============================] - 15s 352ms/step - loss: 2.0435e-04 - val_loss: 1.1808e-04\n",
      "Epoch 68/100\n",
      "43/43 [==============================] - 15s 341ms/step - loss: 1.9502e-04 - val_loss: 1.6083e-04\n",
      "Epoch 69/100\n",
      "43/43 [==============================] - 15s 356ms/step - loss: 2.1169e-04 - val_loss: 1.4092e-04\n",
      "Epoch 70/100\n",
      "43/43 [==============================] - 15s 360ms/step - loss: 1.9651e-04 - val_loss: 1.4426e-04\n",
      "Epoch 71/100\n",
      "43/43 [==============================] - 15s 342ms/step - loss: 1.9889e-04 - val_loss: 1.3403e-04\n",
      "Epoch 72/100\n",
      "43/43 [==============================] - 15s 343ms/step - loss: 1.8554e-04 - val_loss: 4.0353e-04\n",
      "Epoch 73/100\n",
      "43/43 [==============================] - 15s 343ms/step - loss: 2.4747e-04 - val_loss: 1.2966e-04\n",
      "Epoch 74/100\n",
      "43/43 [==============================] - 15s 340ms/step - loss: 2.1663e-04 - val_loss: 1.1701e-04\n"
     ]
    },
    {
     "name": "stdout",
     "output_type": "stream",
     "text": [
      "Epoch 75/100\n",
      "43/43 [==============================] - 15s 340ms/step - loss: 1.9357e-04 - val_loss: 1.5989e-04\n",
      "Epoch 76/100\n",
      "43/43 [==============================] - 15s 341ms/step - loss: 2.0096e-04 - val_loss: 1.6346e-04\n",
      "Epoch 77/100\n",
      "43/43 [==============================] - 15s 341ms/step - loss: 1.9635e-04 - val_loss: 1.6289e-04\n",
      "Epoch 78/100\n",
      "43/43 [==============================] - 15s 340ms/step - loss: 1.9179e-04 - val_loss: 1.1694e-04\n",
      "Epoch 79/100\n",
      "43/43 [==============================] - 15s 344ms/step - loss: 1.8450e-04 - val_loss: 1.5203e-04\n",
      "Epoch 80/100\n",
      "43/43 [==============================] - 15s 341ms/step - loss: 1.9976e-04 - val_loss: 1.2041e-04\n",
      "Epoch 81/100\n",
      "43/43 [==============================] - 15s 340ms/step - loss: 1.8685e-04 - val_loss: 1.2903e-04\n",
      "Epoch 82/100\n",
      "43/43 [==============================] - 15s 341ms/step - loss: 1.9058e-04 - val_loss: 1.2513e-04\n",
      "Epoch 83/100\n",
      "43/43 [==============================] - 15s 339ms/step - loss: 2.0003e-04 - val_loss: 1.2282e-04\n",
      "Epoch 84/100\n",
      "43/43 [==============================] - 15s 343ms/step - loss: 1.8435e-04 - val_loss: 1.1545e-04\n",
      "Epoch 85/100\n",
      "43/43 [==============================] - 15s 343ms/step - loss: 1.9226e-04 - val_loss: 1.3405e-04\n",
      "Epoch 86/100\n",
      "43/43 [==============================] - 15s 343ms/step - loss: 1.8935e-04 - val_loss: 2.5088e-04\n",
      "Epoch 87/100\n",
      "43/43 [==============================] - 15s 343ms/step - loss: 2.0392e-04 - val_loss: 1.7613e-04\n",
      "Epoch 88/100\n",
      "43/43 [==============================] - 15s 343ms/step - loss: 2.2066e-04 - val_loss: 1.1551e-04\n",
      "Epoch 89/100\n",
      "43/43 [==============================] - 15s 346ms/step - loss: 1.8533e-04 - val_loss: 1.4071e-04\n",
      "Epoch 90/100\n",
      "43/43 [==============================] - 15s 349ms/step - loss: 1.9600e-04 - val_loss: 1.4966e-04\n",
      "Epoch 91/100\n",
      "43/43 [==============================] - 15s 345ms/step - loss: 1.9702e-04 - val_loss: 1.5203e-04\n",
      "Epoch 92/100\n",
      "43/43 [==============================] - 15s 345ms/step - loss: 1.8453e-04 - val_loss: 1.2723e-04\n",
      "Epoch 93/100\n",
      "43/43 [==============================] - 15s 345ms/step - loss: 1.9140e-04 - val_loss: 2.7673e-04\n",
      "Epoch 94/100\n",
      "43/43 [==============================] - 16s 377ms/step - loss: 1.9644e-04 - val_loss: 4.0886e-04\n",
      "Epoch 95/100\n",
      "43/43 [==============================] - 16s 371ms/step - loss: 2.2349e-04 - val_loss: 1.2104e-04\n",
      "Epoch 96/100\n",
      "43/43 [==============================] - 15s 344ms/step - loss: 1.9897e-04 - val_loss: 1.8008e-04\n",
      "Epoch 97/100\n",
      "43/43 [==============================] - 15s 345ms/step - loss: 1.9753e-04 - val_loss: 1.2467e-04\n",
      "Epoch 98/100\n",
      "43/43 [==============================] - 15s 339ms/step - loss: 2.0967e-04 - val_loss: 1.2985e-04\n",
      "Epoch 99/100\n",
      "43/43 [==============================] - 15s 345ms/step - loss: 1.9131e-04 - val_loss: 1.1860e-04\n",
      "Epoch 100/100\n",
      "43/43 [==============================] - 15s 343ms/step - loss: 1.9379e-04 - val_loss: 1.4828e-04\n"
     ]
    },
    {
     "data": {
      "text/plain": [
       "<keras.callbacks.History at 0x2440291ab50>"
      ]
     },
     "execution_count": 29,
     "metadata": {},
     "output_type": "execute_result"
    }
   ],
   "source": [
    "#fitting\n",
    "model.fit(x_train,y_train,validation_data=(x_test,y_test),epochs=100,batch_size=64,verbose=1)"
   ]
  },
  {
   "cell_type": "code",
   "execution_count": 30,
   "id": "699055ff",
   "metadata": {},
   "outputs": [],
   "source": [
    "#Predictions\n",
    "train_predict=model.predict(x_train)\n",
    "test_predict=model.predict(x_test)"
   ]
  },
  {
   "cell_type": "code",
   "execution_count": 31,
   "id": "0c802d13",
   "metadata": {},
   "outputs": [],
   "source": [
    "#Transforming back to original form.\n",
    "train_predict=scaler.inverse_transform(train_predict)\n",
    "test_predict=scaler.inverse_transform(test_predict)"
   ]
  },
  {
   "cell_type": "code",
   "execution_count": 32,
   "id": "3dcc51a4",
   "metadata": {},
   "outputs": [
    {
     "name": "stdout",
     "output_type": "stream",
     "text": [
      "361.62594562060497\n",
      "436.06394771267225\n"
     ]
    }
   ],
   "source": [
    "#Calculating RMSE for train and test\n",
    "import math\n",
    "from sklearn.metrics import mean_squared_error\n",
    "print(math.sqrt(mean_squared_error(y_train,train_predict)))\n",
    "print(math.sqrt(mean_squared_error(y_test,test_predict)))"
   ]
  },
  {
   "cell_type": "markdown",
   "id": "991c7f91",
   "metadata": {},
   "source": [
    "# Plotting"
   ]
  },
  {
   "cell_type": "code",
   "execution_count": 33,
   "id": "ce57e641",
   "metadata": {},
   "outputs": [
    {
     "data": {
      "image/png": "[encoded data removed]",
      "text/plain": [
       "<Figure size 640x480 with 1 Axes>"
      ]
     },
     "metadata": {},
     "output_type": "display_data"
    }
   ],
   "source": [
    "#shift train predictions for plotting\n",
    "look_back=100 #time_step=100\n",
    "trainpredictplot= np.empty_like(df1)\n",
    "trainpredictplot[:,:]=np.nan\n",
    "trainpredictplot[look_back:len(train_predict)+look_back, :]=train_predict\n",
    "#shift test predictions for plotting\n",
    "testpredictplot= np.empty_like(df1)\n",
    "testpredictplot[:,:]=np.nan\n",
    "testpredictplot[len(train_predict)+(look_back*2)+1:len(df1)-1, :]=test_predict\n",
    "#plot baseline and predictions\n",
    "plt.plot(scaler.inverse_transform(df1))\n",
    "plt.plot(trainpredictplot)\n",
    "plt.plot(testpredictplot)\n",
    "plt.show()"
   ]
  },
  {
   "cell_type": "markdown",
   "id": "cdfd46be",
   "metadata": {},
   "source": [
    "# Future prediction"
   ]
  },
  {
   "cell_type": "code",
   "execution_count": 34,
   "id": "5db87c78",
   "metadata": {},
   "outputs": [
    {
     "data": {
      "text/plain": [
       "499"
      ]
     },
     "execution_count": 34,
     "metadata": {},
     "output_type": "execute_result"
    }
   ],
   "source": [
    "len(test_data)"
   ]
  },
  {
   "cell_type": "code",
   "execution_count": 35,
   "id": "4672eb72",
   "metadata": {},
   "outputs": [
    {
     "data": {
      "text/plain": [
       "(1, 100)"
      ]
     },
     "execution_count": 35,
     "metadata": {},
     "output_type": "execute_result"
    }
   ],
   "source": [
    "x_input=test_data[399:].reshape(1,-1)\n",
    "x_input.shape"
   ]
  },
  {
   "cell_type": "code",
   "execution_count": 36,
   "id": "9a70e17f",
   "metadata": {},
   "outputs": [],
   "source": [
    "#coverting the 100 rows of array to 100 values of list\n",
    "temp_input=list(x_input)\n",
    "temp_input=temp_input[0].tolist()"
   ]
  },
  {
   "cell_type": "code",
   "execution_count": 37,
   "id": "766f6fa7",
   "metadata": {},
   "outputs": [
    {
     "name": "stdout",
     "output_type": "stream",
     "text": [
      "[0.27526677928391907, 0.28663837501545053, 0.30031725104033624, 0.30015244530509666, 0.2961971076593465, 0.2996580280993779, 0.300399653907956, 0.29829838078365123, 0.3042313872522764, 0.3048906101932347, 0.30353096287750814, 0.29871039512175024, 0.2938074244983725, 0.29669152486506534, 0.3018005026574925, 0.3069094804499196, 0.31519096864570884, 0.31263647974949527, 0.31078241522804995, 0.31341930699188336, 0.3275926002224877, 0.3299822833834617, 0.324708499855795, 0.32507931276008406, 0.3382225701454411, 0.34353755510691775, 0.33954101602735776, 0.3380165629763916, 0.35396151786082153, 0.35598038811750654, 0.35478554653701955, 0.3476164970540975, 0.3498413744798319, 0.37250216307527506, 0.3719665444357464, 0.3683820196942854, 0.3601005314984962, 0.3506654031560298, 0.3440319723126365, 0.3482757199950558, 0.3584524741461004, 0.3661983437023608, 0.37233735734003537, 0.3814840756458324, 0.38193729141774135, 0.3984590663755099, 0.39499814593547855, 0.3926908656421244, 0.39821185777265056, 0.4212434592723826, 0.4362819826129949, 0.43924848584730747, 0.46108524576655263, 0.46108524576655263, 0.46656503646326886, 0.4680894895142351, 0.47155040995426645, 0.46190927444275054, 0.4951588315273372, 0.48864900498537356, 0.48963783939681094, 0.5061596143545796, 0.531086481809567, 0.5399447900786948, 0.5360718553005644, 0.5416752502987103, 0.5347534094186477, 0.5345062008157884, 0.5287380000824029, 0.508714103250793, 0.5152239297927568, 0.4997733921140456, 0.4903382637715792, 0.47880186230480815, 0.5074368588026863, 0.5311276832433769, 0.5274195542004861, 0.4959828602035351, 0.4946232128878085, 0.5006386222240534, 0.5022042767088294, 0.5204153104528038, 0.5228873964813976, 0.6116352849079149, 0.638251411149108, 0.5995220633678052, 0.5986980346916072, 0.5763668575666433, 0.5317457047505253, 0.5307156689052779, 0.5639652259898644, 0.5112685921470067, 0.5236290222899757, 0.5228049936137777, 0.5244530509661736, 0.5184788430637386, 0.5331877549338717, 0.5352478266243665, 0.5400683943801244, 0.5347946108524577]\n"
     ]
    }
   ],
   "source": [
    "print(temp_input) #100 values in a list"
   ]
  },
  {
   "cell_type": "code",
   "execution_count": 38,
   "id": "6a1e02b1",
   "metadata": {},
   "outputs": [
    {
     "name": "stdout",
     "output_type": "stream",
     "text": [
      "[0.5379902]\n",
      "101\n",
      "1 day input [0.28663838 0.30031725 0.30015245 0.29619711 0.29965803 0.30039965\n",
      " 0.29829838 0.30423139 0.30489061 0.30353096 0.2987104  0.29380742\n",
      " 0.29669152 0.3018005  0.30690948 0.31519097 0.31263648 0.31078242\n",
      " 0.31341931 0.3275926  0.32998228 0.3247085  0.32507931 0.33822257\n",
      " 0.34353756 0.33954102 0.33801656 0.35396152 0.35598039 0.35478555\n",
      " 0.3476165  0.34984137 0.37250216 0.37196654 0.36838202 0.36010053\n",
      " 0.3506654  0.34403197 0.34827572 0.35845247 0.36619834 0.37233736\n",
      " 0.38148408 0.38193729 0.39845907 0.39499815 0.39269087 0.39821186\n",
      " 0.42124346 0.43628198 0.43924849 0.46108525 0.46108525 0.46656504\n",
      " 0.46808949 0.47155041 0.46190927 0.49515883 0.488649   0.48963784\n",
      " 0.50615961 0.53108648 0.53994479 0.53607186 0.54167525 0.53475341\n",
      " 0.5345062  0.528738   0.5087141  0.51522393 0.49977339 0.49033826\n",
      " 0.47880186 0.50743686 0.53112768 0.52741955 0.49598286 0.49462321\n",
      " 0.50063862 0.50220428 0.52041531 0.5228874  0.61163528 0.63825141\n",
      " 0.59952206 0.59869803 0.57636686 0.5317457  0.53071567 0.56396523\n",
      " 0.51126859 0.52362902 0.52280499 0.52445305 0.51847884 0.53318775\n",
      " 0.53524783 0.54006839 0.53479461 0.53799021]\n",
      "1/1 [==============================] - 0s 47ms/step\n",
      "1 day output [[0.54302466]]\n",
      "2 day input [0.30031725 0.30015245 0.29619711 0.29965803 0.30039965 0.29829838\n",
      " 0.30423139 0.30489061 0.30353096 0.2987104  0.29380742 0.29669152\n",
      " 0.3018005  0.30690948 0.31519097 0.31263648 0.31078242 0.31341931\n",
      " 0.3275926  0.32998228 0.3247085  0.32507931 0.33822257 0.34353756\n",
      " 0.33954102 0.33801656 0.35396152 0.35598039 0.35478555 0.3476165\n",
      " 0.34984137 0.37250216 0.37196654 0.36838202 0.36010053 0.3506654\n",
      " 0.34403197 0.34827572 0.35845247 0.36619834 0.37233736 0.38148408\n",
      " 0.38193729 0.39845907 0.39499815 0.39269087 0.39821186 0.42124346\n",
      " 0.43628198 0.43924849 0.46108525 0.46108525 0.46656504 0.46808949\n",
      " 0.47155041 0.46190927 0.49515883 0.488649   0.48963784 0.50615961\n",
      " 0.53108648 0.53994479 0.53607186 0.54167525 0.53475341 0.5345062\n",
      " 0.528738   0.5087141  0.51522393 0.49977339 0.49033826 0.47880186\n",
      " 0.50743686 0.53112768 0.52741955 0.49598286 0.49462321 0.50063862\n",
      " 0.50220428 0.52041531 0.5228874  0.61163528 0.63825141 0.59952206\n",
      " 0.59869803 0.57636686 0.5317457  0.53071567 0.56396523 0.51126859\n",
      " 0.52362902 0.52280499 0.52445305 0.51847884 0.53318775 0.53524783\n",
      " 0.54006839 0.53479461 0.53799021 0.54302466]\n",
      "1/1 [==============================] - 0s 47ms/step\n",
      "2 day output [[0.54976773]]\n",
      "3 day input [0.30015245 0.29619711 0.29965803 0.30039965 0.29829838 0.30423139\n",
      " 0.30489061 0.30353096 0.2987104  0.29380742 0.29669152 0.3018005\n",
      " 0.30690948 0.31519097 0.31263648 0.31078242 0.31341931 0.3275926\n",
      " 0.32998228 0.3247085  0.32507931 0.33822257 0.34353756 0.33954102\n",
      " 0.33801656 0.35396152 0.35598039 0.35478555 0.3476165  0.34984137\n",
      " 0.37250216 0.37196654 0.36838202 0.36010053 0.3506654  0.34403197\n",
      " 0.34827572 0.35845247 0.36619834 0.37233736 0.38148408 0.38193729\n",
      " 0.39845907 0.39499815 0.39269087 0.39821186 0.42124346 0.43628198\n",
      " 0.43924849 0.46108525 0.46108525 0.46656504 0.46808949 0.47155041\n",
      " 0.46190927 0.49515883 0.488649   0.48963784 0.50615961 0.53108648\n",
      " 0.53994479 0.53607186 0.54167525 0.53475341 0.5345062  0.528738\n",
      " 0.5087141  0.51522393 0.49977339 0.49033826 0.47880186 0.50743686\n",
      " 0.53112768 0.52741955 0.49598286 0.49462321 0.50063862 0.50220428\n",
      " 0.52041531 0.5228874  0.61163528 0.63825141 0.59952206 0.59869803\n",
      " 0.57636686 0.5317457  0.53071567 0.56396523 0.51126859 0.52362902\n",
      " 0.52280499 0.52445305 0.51847884 0.53318775 0.53524783 0.54006839\n",
      " 0.53479461 0.53799021 0.54302466 0.54976773]\n",
      "1/1 [==============================] - 0s 47ms/step\n",
      "3 day output [[0.5548741]]\n",
      "4 day input [0.29619711 0.29965803 0.30039965 0.29829838 0.30423139 0.30489061\n",
      " 0.30353096 0.2987104  0.29380742 0.29669152 0.3018005  0.30690948\n",
      " 0.31519097 0.31263648 0.31078242 0.31341931 0.3275926  0.32998228\n",
      " 0.3247085  0.32507931 0.33822257 0.34353756 0.33954102 0.33801656\n",
      " 0.35396152 0.35598039 0.35478555 0.3476165  0.34984137 0.37250216\n",
      " 0.37196654 0.36838202 0.36010053 0.3506654  0.34403197 0.34827572\n",
      " 0.35845247 0.36619834 0.37233736 0.38148408 0.38193729 0.39845907\n",
      " 0.39499815 0.39269087 0.39821186 0.42124346 0.43628198 0.43924849\n",
      " 0.46108525 0.46108525 0.46656504 0.46808949 0.47155041 0.46190927\n",
      " 0.49515883 0.488649   0.48963784 0.50615961 0.53108648 0.53994479\n",
      " 0.53607186 0.54167525 0.53475341 0.5345062  0.528738   0.5087141\n",
      " 0.51522393 0.49977339 0.49033826 0.47880186 0.50743686 0.53112768\n",
      " 0.52741955 0.49598286 0.49462321 0.50063862 0.50220428 0.52041531\n",
      " 0.5228874  0.61163528 0.63825141 0.59952206 0.59869803 0.57636686\n",
      " 0.5317457  0.53071567 0.56396523 0.51126859 0.52362902 0.52280499\n",
      " 0.52445305 0.51847884 0.53318775 0.53524783 0.54006839 0.53479461\n",
      " 0.53799021 0.54302466 0.54976773 0.55487412]\n",
      "1/1 [==============================] - 0s 47ms/step\n",
      "4 day output [[0.55607]]\n",
      "5 day input [0.29965803 0.30039965 0.29829838 0.30423139 0.30489061 0.30353096\n",
      " 0.2987104  0.29380742 0.29669152 0.3018005  0.30690948 0.31519097\n",
      " 0.31263648 0.31078242 0.31341931 0.3275926  0.32998228 0.3247085\n",
      " 0.32507931 0.33822257 0.34353756 0.33954102 0.33801656 0.35396152\n",
      " 0.35598039 0.35478555 0.3476165  0.34984137 0.37250216 0.37196654\n",
      " 0.36838202 0.36010053 0.3506654  0.34403197 0.34827572 0.35845247\n",
      " 0.36619834 0.37233736 0.38148408 0.38193729 0.39845907 0.39499815\n",
      " 0.39269087 0.39821186 0.42124346 0.43628198 0.43924849 0.46108525\n",
      " 0.46108525 0.46656504 0.46808949 0.47155041 0.46190927 0.49515883\n",
      " 0.488649   0.48963784 0.50615961 0.53108648 0.53994479 0.53607186\n",
      " 0.54167525 0.53475341 0.5345062  0.528738   0.5087141  0.51522393\n",
      " 0.49977339 0.49033826 0.47880186 0.50743686 0.53112768 0.52741955\n",
      " 0.49598286 0.49462321 0.50063862 0.50220428 0.52041531 0.5228874\n",
      " 0.61163528 0.63825141 0.59952206 0.59869803 0.57636686 0.5317457\n",
      " 0.53071567 0.56396523 0.51126859 0.52362902 0.52280499 0.52445305\n",
      " 0.51847884 0.53318775 0.53524783 0.54006839 0.53479461 0.53799021\n",
      " 0.54302466 0.54976773 0.55487412 0.55607003]\n",
      "1/1 [==============================] - 0s 31ms/step\n",
      "5 day output [[0.55219436]]\n",
      "6 day input [0.30039965 0.29829838 0.30423139 0.30489061 0.30353096 0.2987104\n",
      " 0.29380742 0.29669152 0.3018005  0.30690948 0.31519097 0.31263648\n",
      " 0.31078242 0.31341931 0.3275926  0.32998228 0.3247085  0.32507931\n",
      " 0.33822257 0.34353756 0.33954102 0.33801656 0.35396152 0.35598039\n",
      " 0.35478555 0.3476165  0.34984137 0.37250216 0.37196654 0.36838202\n",
      " 0.36010053 0.3506654  0.34403197 0.34827572 0.35845247 0.36619834\n",
      " 0.37233736 0.38148408 0.38193729 0.39845907 0.39499815 0.39269087\n",
      " 0.39821186 0.42124346 0.43628198 0.43924849 0.46108525 0.46108525\n",
      " 0.46656504 0.46808949 0.47155041 0.46190927 0.49515883 0.488649\n",
      " 0.48963784 0.50615961 0.53108648 0.53994479 0.53607186 0.54167525\n",
      " 0.53475341 0.5345062  0.528738   0.5087141  0.51522393 0.49977339\n",
      " 0.49033826 0.47880186 0.50743686 0.53112768 0.52741955 0.49598286\n",
      " 0.49462321 0.50063862 0.50220428 0.52041531 0.5228874  0.61163528\n",
      " 0.63825141 0.59952206 0.59869803 0.57636686 0.5317457  0.53071567\n",
      " 0.56396523 0.51126859 0.52362902 0.52280499 0.52445305 0.51847884\n",
      " 0.53318775 0.53524783 0.54006839 0.53479461 0.53799021 0.54302466\n",
      " 0.54976773 0.55487412 0.55607003 0.55219436]\n",
      "1/1 [==============================] - 0s 47ms/step\n",
      "6 day output [[0.5433576]]\n",
      "7 day input [0.29829838 0.30423139 0.30489061 0.30353096 0.2987104  0.29380742\n",
      " 0.29669152 0.3018005  0.30690948 0.31519097 0.31263648 0.31078242\n",
      " 0.31341931 0.3275926  0.32998228 0.3247085  0.32507931 0.33822257\n",
      " 0.34353756 0.33954102 0.33801656 0.35396152 0.35598039 0.35478555\n",
      " 0.3476165  0.34984137 0.37250216 0.37196654 0.36838202 0.36010053\n",
      " 0.3506654  0.34403197 0.34827572 0.35845247 0.36619834 0.37233736\n",
      " 0.38148408 0.38193729 0.39845907 0.39499815 0.39269087 0.39821186\n",
      " 0.42124346 0.43628198 0.43924849 0.46108525 0.46108525 0.46656504\n",
      " 0.46808949 0.47155041 0.46190927 0.49515883 0.488649   0.48963784\n",
      " 0.50615961 0.53108648 0.53994479 0.53607186 0.54167525 0.53475341\n",
      " 0.5345062  0.528738   0.5087141  0.51522393 0.49977339 0.49033826\n",
      " 0.47880186 0.50743686 0.53112768 0.52741955 0.49598286 0.49462321\n",
      " 0.50063862 0.50220428 0.52041531 0.5228874  0.61163528 0.63825141\n",
      " 0.59952206 0.59869803 0.57636686 0.5317457  0.53071567 0.56396523\n",
      " 0.51126859 0.52362902 0.52280499 0.52445305 0.51847884 0.53318775\n",
      " 0.53524783 0.54006839 0.53479461 0.53799021 0.54302466 0.54976773\n",
      " 0.55487412 0.55607003 0.55219436 0.54335761]\n"
     ]
    },
    {
     "name": "stdout",
     "output_type": "stream",
     "text": [
      "1/1 [==============================] - 0s 41ms/step\n",
      "7 day output [[0.5306544]]\n",
      "8 day input [0.30423139 0.30489061 0.30353096 0.2987104  0.29380742 0.29669152\n",
      " 0.3018005  0.30690948 0.31519097 0.31263648 0.31078242 0.31341931\n",
      " 0.3275926  0.32998228 0.3247085  0.32507931 0.33822257 0.34353756\n",
      " 0.33954102 0.33801656 0.35396152 0.35598039 0.35478555 0.3476165\n",
      " 0.34984137 0.37250216 0.37196654 0.36838202 0.36010053 0.3506654\n",
      " 0.34403197 0.34827572 0.35845247 0.36619834 0.37233736 0.38148408\n",
      " 0.38193729 0.39845907 0.39499815 0.39269087 0.39821186 0.42124346\n",
      " 0.43628198 0.43924849 0.46108525 0.46108525 0.46656504 0.46808949\n",
      " 0.47155041 0.46190927 0.49515883 0.488649   0.48963784 0.50615961\n",
      " 0.53108648 0.53994479 0.53607186 0.54167525 0.53475341 0.5345062\n",
      " 0.528738   0.5087141  0.51522393 0.49977339 0.49033826 0.47880186\n",
      " 0.50743686 0.53112768 0.52741955 0.49598286 0.49462321 0.50063862\n",
      " 0.50220428 0.52041531 0.5228874  0.61163528 0.63825141 0.59952206\n",
      " 0.59869803 0.57636686 0.5317457  0.53071567 0.56396523 0.51126859\n",
      " 0.52362902 0.52280499 0.52445305 0.51847884 0.53318775 0.53524783\n",
      " 0.54006839 0.53479461 0.53799021 0.54302466 0.54976773 0.55487412\n",
      " 0.55607003 0.55219436 0.54335761 0.53065437]\n",
      "1/1 [==============================] - 0s 47ms/step\n",
      "8 day output [[0.5156306]]\n",
      "9 day input [0.30489061 0.30353096 0.2987104  0.29380742 0.29669152 0.3018005\n",
      " 0.30690948 0.31519097 0.31263648 0.31078242 0.31341931 0.3275926\n",
      " 0.32998228 0.3247085  0.32507931 0.33822257 0.34353756 0.33954102\n",
      " 0.33801656 0.35396152 0.35598039 0.35478555 0.3476165  0.34984137\n",
      " 0.37250216 0.37196654 0.36838202 0.36010053 0.3506654  0.34403197\n",
      " 0.34827572 0.35845247 0.36619834 0.37233736 0.38148408 0.38193729\n",
      " 0.39845907 0.39499815 0.39269087 0.39821186 0.42124346 0.43628198\n",
      " 0.43924849 0.46108525 0.46108525 0.46656504 0.46808949 0.47155041\n",
      " 0.46190927 0.49515883 0.488649   0.48963784 0.50615961 0.53108648\n",
      " 0.53994479 0.53607186 0.54167525 0.53475341 0.5345062  0.528738\n",
      " 0.5087141  0.51522393 0.49977339 0.49033826 0.47880186 0.50743686\n",
      " 0.53112768 0.52741955 0.49598286 0.49462321 0.50063862 0.50220428\n",
      " 0.52041531 0.5228874  0.61163528 0.63825141 0.59952206 0.59869803\n",
      " 0.57636686 0.5317457  0.53071567 0.56396523 0.51126859 0.52362902\n",
      " 0.52280499 0.52445305 0.51847884 0.53318775 0.53524783 0.54006839\n",
      " 0.53479461 0.53799021 0.54302466 0.54976773 0.55487412 0.55607003\n",
      " 0.55219436 0.54335761 0.53065437 0.5156306 ]\n",
      "1/1 [==============================] - 0s 47ms/step\n",
      "9 day output [[0.49977055]]\n",
      "10 day input [0.30353096 0.2987104  0.29380742 0.29669152 0.3018005  0.30690948\n",
      " 0.31519097 0.31263648 0.31078242 0.31341931 0.3275926  0.32998228\n",
      " 0.3247085  0.32507931 0.33822257 0.34353756 0.33954102 0.33801656\n",
      " 0.35396152 0.35598039 0.35478555 0.3476165  0.34984137 0.37250216\n",
      " 0.37196654 0.36838202 0.36010053 0.3506654  0.34403197 0.34827572\n",
      " 0.35845247 0.36619834 0.37233736 0.38148408 0.38193729 0.39845907\n",
      " 0.39499815 0.39269087 0.39821186 0.42124346 0.43628198 0.43924849\n",
      " 0.46108525 0.46108525 0.46656504 0.46808949 0.47155041 0.46190927\n",
      " 0.49515883 0.488649   0.48963784 0.50615961 0.53108648 0.53994479\n",
      " 0.53607186 0.54167525 0.53475341 0.5345062  0.528738   0.5087141\n",
      " 0.51522393 0.49977339 0.49033826 0.47880186 0.50743686 0.53112768\n",
      " 0.52741955 0.49598286 0.49462321 0.50063862 0.50220428 0.52041531\n",
      " 0.5228874  0.61163528 0.63825141 0.59952206 0.59869803 0.57636686\n",
      " 0.5317457  0.53071567 0.56396523 0.51126859 0.52362902 0.52280499\n",
      " 0.52445305 0.51847884 0.53318775 0.53524783 0.54006839 0.53479461\n",
      " 0.53799021 0.54302466 0.54976773 0.55487412 0.55607003 0.55219436\n",
      " 0.54335761 0.53065437 0.5156306  0.49977055]\n",
      "1/1 [==============================] - 0s 47ms/step\n",
      "10 day output [[0.48420426]]\n",
      "11 day input [0.2987104  0.29380742 0.29669152 0.3018005  0.30690948 0.31519097\n",
      " 0.31263648 0.31078242 0.31341931 0.3275926  0.32998228 0.3247085\n",
      " 0.32507931 0.33822257 0.34353756 0.33954102 0.33801656 0.35396152\n",
      " 0.35598039 0.35478555 0.3476165  0.34984137 0.37250216 0.37196654\n",
      " 0.36838202 0.36010053 0.3506654  0.34403197 0.34827572 0.35845247\n",
      " 0.36619834 0.37233736 0.38148408 0.38193729 0.39845907 0.39499815\n",
      " 0.39269087 0.39821186 0.42124346 0.43628198 0.43924849 0.46108525\n",
      " 0.46108525 0.46656504 0.46808949 0.47155041 0.46190927 0.49515883\n",
      " 0.488649   0.48963784 0.50615961 0.53108648 0.53994479 0.53607186\n",
      " 0.54167525 0.53475341 0.5345062  0.528738   0.5087141  0.51522393\n",
      " 0.49977339 0.49033826 0.47880186 0.50743686 0.53112768 0.52741955\n",
      " 0.49598286 0.49462321 0.50063862 0.50220428 0.52041531 0.5228874\n",
      " 0.61163528 0.63825141 0.59952206 0.59869803 0.57636686 0.5317457\n",
      " 0.53071567 0.56396523 0.51126859 0.52362902 0.52280499 0.52445305\n",
      " 0.51847884 0.53318775 0.53524783 0.54006839 0.53479461 0.53799021\n",
      " 0.54302466 0.54976773 0.55487412 0.55607003 0.55219436 0.54335761\n",
      " 0.53065437 0.5156306  0.49977055 0.48420426]\n",
      "1/1 [==============================] - 0s 47ms/step\n",
      "11 day output [[0.4696702]]\n",
      "12 day input [0.29380742 0.29669152 0.3018005  0.30690948 0.31519097 0.31263648\n",
      " 0.31078242 0.31341931 0.3275926  0.32998228 0.3247085  0.32507931\n",
      " 0.33822257 0.34353756 0.33954102 0.33801656 0.35396152 0.35598039\n",
      " 0.35478555 0.3476165  0.34984137 0.37250216 0.37196654 0.36838202\n",
      " 0.36010053 0.3506654  0.34403197 0.34827572 0.35845247 0.36619834\n",
      " 0.37233736 0.38148408 0.38193729 0.39845907 0.39499815 0.39269087\n",
      " 0.39821186 0.42124346 0.43628198 0.43924849 0.46108525 0.46108525\n",
      " 0.46656504 0.46808949 0.47155041 0.46190927 0.49515883 0.488649\n",
      " 0.48963784 0.50615961 0.53108648 0.53994479 0.53607186 0.54167525\n",
      " 0.53475341 0.5345062  0.528738   0.5087141  0.51522393 0.49977339\n",
      " 0.49033826 0.47880186 0.50743686 0.53112768 0.52741955 0.49598286\n",
      " 0.49462321 0.50063862 0.50220428 0.52041531 0.5228874  0.61163528\n",
      " 0.63825141 0.59952206 0.59869803 0.57636686 0.5317457  0.53071567\n",
      " 0.56396523 0.51126859 0.52362902 0.52280499 0.52445305 0.51847884\n",
      " 0.53318775 0.53524783 0.54006839 0.53479461 0.53799021 0.54302466\n",
      " 0.54976773 0.55487412 0.55607003 0.55219436 0.54335761 0.53065437\n",
      " 0.5156306  0.49977055 0.48420426 0.46967021]\n",
      "1/1 [==============================] - 0s 47ms/step\n",
      "12 day output [[0.45661104]]\n",
      "13 day input [0.29669152 0.3018005  0.30690948 0.31519097 0.31263648 0.31078242\n",
      " 0.31341931 0.3275926  0.32998228 0.3247085  0.32507931 0.33822257\n",
      " 0.34353756 0.33954102 0.33801656 0.35396152 0.35598039 0.35478555\n",
      " 0.3476165  0.34984137 0.37250216 0.37196654 0.36838202 0.36010053\n",
      " 0.3506654  0.34403197 0.34827572 0.35845247 0.36619834 0.37233736\n",
      " 0.38148408 0.38193729 0.39845907 0.39499815 0.39269087 0.39821186\n",
      " 0.42124346 0.43628198 0.43924849 0.46108525 0.46108525 0.46656504\n",
      " 0.46808949 0.47155041 0.46190927 0.49515883 0.488649   0.48963784\n",
      " 0.50615961 0.53108648 0.53994479 0.53607186 0.54167525 0.53475341\n",
      " 0.5345062  0.528738   0.5087141  0.51522393 0.49977339 0.49033826\n",
      " 0.47880186 0.50743686 0.53112768 0.52741955 0.49598286 0.49462321\n",
      " 0.50063862 0.50220428 0.52041531 0.5228874  0.61163528 0.63825141\n",
      " 0.59952206 0.59869803 0.57636686 0.5317457  0.53071567 0.56396523\n",
      " 0.51126859 0.52362902 0.52280499 0.52445305 0.51847884 0.53318775\n",
      " 0.53524783 0.54006839 0.53479461 0.53799021 0.54302466 0.54976773\n",
      " 0.55487412 0.55607003 0.55219436 0.54335761 0.53065437 0.5156306\n",
      " 0.49977055 0.48420426 0.46967021 0.45661104]\n",
      "1/1 [==============================] - 0s 47ms/step\n",
      "13 day output [[0.4452794]]\n",
      "14 day input [0.3018005  0.30690948 0.31519097 0.31263648 0.31078242 0.31341931\n",
      " 0.3275926  0.32998228 0.3247085  0.32507931 0.33822257 0.34353756\n",
      " 0.33954102 0.33801656 0.35396152 0.35598039 0.35478555 0.3476165\n",
      " 0.34984137 0.37250216 0.37196654 0.36838202 0.36010053 0.3506654\n",
      " 0.34403197 0.34827572 0.35845247 0.36619834 0.37233736 0.38148408\n",
      " 0.38193729 0.39845907 0.39499815 0.39269087 0.39821186 0.42124346\n",
      " 0.43628198 0.43924849 0.46108525 0.46108525 0.46656504 0.46808949\n",
      " 0.47155041 0.46190927 0.49515883 0.488649   0.48963784 0.50615961\n",
      " 0.53108648 0.53994479 0.53607186 0.54167525 0.53475341 0.5345062\n",
      " 0.528738   0.5087141  0.51522393 0.49977339 0.49033826 0.47880186\n",
      " 0.50743686 0.53112768 0.52741955 0.49598286 0.49462321 0.50063862\n",
      " 0.50220428 0.52041531 0.5228874  0.61163528 0.63825141 0.59952206\n",
      " 0.59869803 0.57636686 0.5317457  0.53071567 0.56396523 0.51126859\n",
      " 0.52362902 0.52280499 0.52445305 0.51847884 0.53318775 0.53524783\n",
      " 0.54006839 0.53479461 0.53799021 0.54302466 0.54976773 0.55487412\n",
      " 0.55607003 0.55219436 0.54335761 0.53065437 0.5156306  0.49977055\n",
      " 0.48420426 0.46967021 0.45661104 0.44527939]\n"
     ]
    },
    {
     "name": "stdout",
     "output_type": "stream",
     "text": [
      "1/1 [==============================] - 0s 31ms/step\n",
      "14 day output [[0.4357934]]\n",
      "15 day input [0.30690948 0.31519097 0.31263648 0.31078242 0.31341931 0.3275926\n",
      " 0.32998228 0.3247085  0.32507931 0.33822257 0.34353756 0.33954102\n",
      " 0.33801656 0.35396152 0.35598039 0.35478555 0.3476165  0.34984137\n",
      " 0.37250216 0.37196654 0.36838202 0.36010053 0.3506654  0.34403197\n",
      " 0.34827572 0.35845247 0.36619834 0.37233736 0.38148408 0.38193729\n",
      " 0.39845907 0.39499815 0.39269087 0.39821186 0.42124346 0.43628198\n",
      " 0.43924849 0.46108525 0.46108525 0.46656504 0.46808949 0.47155041\n",
      " 0.46190927 0.49515883 0.488649   0.48963784 0.50615961 0.53108648\n",
      " 0.53994479 0.53607186 0.54167525 0.53475341 0.5345062  0.528738\n",
      " 0.5087141  0.51522393 0.49977339 0.49033826 0.47880186 0.50743686\n",
      " 0.53112768 0.52741955 0.49598286 0.49462321 0.50063862 0.50220428\n",
      " 0.52041531 0.5228874  0.61163528 0.63825141 0.59952206 0.59869803\n",
      " 0.57636686 0.5317457  0.53071567 0.56396523 0.51126859 0.52362902\n",
      " 0.52280499 0.52445305 0.51847884 0.53318775 0.53524783 0.54006839\n",
      " 0.53479461 0.53799021 0.54302466 0.54976773 0.55487412 0.55607003\n",
      " 0.55219436 0.54335761 0.53065437 0.5156306  0.49977055 0.48420426\n",
      " 0.46967021 0.45661104 0.44527939 0.4357934 ]\n",
      "1/1 [==============================] - 0s 49ms/step\n",
      "15 day output [[0.42814893]]\n",
      "16 day input [0.31519097 0.31263648 0.31078242 0.31341931 0.3275926  0.32998228\n",
      " 0.3247085  0.32507931 0.33822257 0.34353756 0.33954102 0.33801656\n",
      " 0.35396152 0.35598039 0.35478555 0.3476165  0.34984137 0.37250216\n",
      " 0.37196654 0.36838202 0.36010053 0.3506654  0.34403197 0.34827572\n",
      " 0.35845247 0.36619834 0.37233736 0.38148408 0.38193729 0.39845907\n",
      " 0.39499815 0.39269087 0.39821186 0.42124346 0.43628198 0.43924849\n",
      " 0.46108525 0.46108525 0.46656504 0.46808949 0.47155041 0.46190927\n",
      " 0.49515883 0.488649   0.48963784 0.50615961 0.53108648 0.53994479\n",
      " 0.53607186 0.54167525 0.53475341 0.5345062  0.528738   0.5087141\n",
      " 0.51522393 0.49977339 0.49033826 0.47880186 0.50743686 0.53112768\n",
      " 0.52741955 0.49598286 0.49462321 0.50063862 0.50220428 0.52041531\n",
      " 0.5228874  0.61163528 0.63825141 0.59952206 0.59869803 0.57636686\n",
      " 0.5317457  0.53071567 0.56396523 0.51126859 0.52362902 0.52280499\n",
      " 0.52445305 0.51847884 0.53318775 0.53524783 0.54006839 0.53479461\n",
      " 0.53799021 0.54302466 0.54976773 0.55487412 0.55607003 0.55219436\n",
      " 0.54335761 0.53065437 0.5156306  0.49977055 0.48420426 0.46967021\n",
      " 0.45661104 0.44527939 0.4357934  0.42814893]\n",
      "1/1 [==============================] - 0s 47ms/step\n",
      "16 day output [[0.4222192]]\n",
      "17 day input [0.31263648 0.31078242 0.31341931 0.3275926  0.32998228 0.3247085\n",
      " 0.32507931 0.33822257 0.34353756 0.33954102 0.33801656 0.35396152\n",
      " 0.35598039 0.35478555 0.3476165  0.34984137 0.37250216 0.37196654\n",
      " 0.36838202 0.36010053 0.3506654  0.34403197 0.34827572 0.35845247\n",
      " 0.36619834 0.37233736 0.38148408 0.38193729 0.39845907 0.39499815\n",
      " 0.39269087 0.39821186 0.42124346 0.43628198 0.43924849 0.46108525\n",
      " 0.46108525 0.46656504 0.46808949 0.47155041 0.46190927 0.49515883\n",
      " 0.488649   0.48963784 0.50615961 0.53108648 0.53994479 0.53607186\n",
      " 0.54167525 0.53475341 0.5345062  0.528738   0.5087141  0.51522393\n",
      " 0.49977339 0.49033826 0.47880186 0.50743686 0.53112768 0.52741955\n",
      " 0.49598286 0.49462321 0.50063862 0.50220428 0.52041531 0.5228874\n",
      " 0.61163528 0.63825141 0.59952206 0.59869803 0.57636686 0.5317457\n",
      " 0.53071567 0.56396523 0.51126859 0.52362902 0.52280499 0.52445305\n",
      " 0.51847884 0.53318775 0.53524783 0.54006839 0.53479461 0.53799021\n",
      " 0.54302466 0.54976773 0.55487412 0.55607003 0.55219436 0.54335761\n",
      " 0.53065437 0.5156306  0.49977055 0.48420426 0.46967021 0.45661104\n",
      " 0.44527939 0.4357934  0.42814893 0.42221919]\n",
      "1/1 [==============================] - 0s 47ms/step\n",
      "17 day output [[0.41776344]]\n",
      "18 day input [0.31078242 0.31341931 0.3275926  0.32998228 0.3247085  0.32507931\n",
      " 0.33822257 0.34353756 0.33954102 0.33801656 0.35396152 0.35598039\n",
      " 0.35478555 0.3476165  0.34984137 0.37250216 0.37196654 0.36838202\n",
      " 0.36010053 0.3506654  0.34403197 0.34827572 0.35845247 0.36619834\n",
      " 0.37233736 0.38148408 0.38193729 0.39845907 0.39499815 0.39269087\n",
      " 0.39821186 0.42124346 0.43628198 0.43924849 0.46108525 0.46108525\n",
      " 0.46656504 0.46808949 0.47155041 0.46190927 0.49515883 0.488649\n",
      " 0.48963784 0.50615961 0.53108648 0.53994479 0.53607186 0.54167525\n",
      " 0.53475341 0.5345062  0.528738   0.5087141  0.51522393 0.49977339\n",
      " 0.49033826 0.47880186 0.50743686 0.53112768 0.52741955 0.49598286\n",
      " 0.49462321 0.50063862 0.50220428 0.52041531 0.5228874  0.61163528\n",
      " 0.63825141 0.59952206 0.59869803 0.57636686 0.5317457  0.53071567\n",
      " 0.56396523 0.51126859 0.52362902 0.52280499 0.52445305 0.51847884\n",
      " 0.53318775 0.53524783 0.54006839 0.53479461 0.53799021 0.54302466\n",
      " 0.54976773 0.55487412 0.55607003 0.55219436 0.54335761 0.53065437\n",
      " 0.5156306  0.49977055 0.48420426 0.46967021 0.45661104 0.44527939\n",
      " 0.4357934  0.42814893 0.42221919 0.41776344]\n",
      "1/1 [==============================] - 0s 47ms/step\n",
      "18 day output [[0.41444314]]\n",
      "19 day input [0.31341931 0.3275926  0.32998228 0.3247085  0.32507931 0.33822257\n",
      " 0.34353756 0.33954102 0.33801656 0.35396152 0.35598039 0.35478555\n",
      " 0.3476165  0.34984137 0.37250216 0.37196654 0.36838202 0.36010053\n",
      " 0.3506654  0.34403197 0.34827572 0.35845247 0.36619834 0.37233736\n",
      " 0.38148408 0.38193729 0.39845907 0.39499815 0.39269087 0.39821186\n",
      " 0.42124346 0.43628198 0.43924849 0.46108525 0.46108525 0.46656504\n",
      " 0.46808949 0.47155041 0.46190927 0.49515883 0.488649   0.48963784\n",
      " 0.50615961 0.53108648 0.53994479 0.53607186 0.54167525 0.53475341\n",
      " 0.5345062  0.528738   0.5087141  0.51522393 0.49977339 0.49033826\n",
      " 0.47880186 0.50743686 0.53112768 0.52741955 0.49598286 0.49462321\n",
      " 0.50063862 0.50220428 0.52041531 0.5228874  0.61163528 0.63825141\n",
      " 0.59952206 0.59869803 0.57636686 0.5317457  0.53071567 0.56396523\n",
      " 0.51126859 0.52362902 0.52280499 0.52445305 0.51847884 0.53318775\n",
      " 0.53524783 0.54006839 0.53479461 0.53799021 0.54302466 0.54976773\n",
      " 0.55487412 0.55607003 0.55219436 0.54335761 0.53065437 0.5156306\n",
      " 0.49977055 0.48420426 0.46967021 0.45661104 0.44527939 0.4357934\n",
      " 0.42814893 0.42221919 0.41776344 0.41444314]\n",
      "1/1 [==============================] - 0s 47ms/step\n",
      "19 day output [[0.4118548]]\n",
      "20 day input [0.3275926  0.32998228 0.3247085  0.32507931 0.33822257 0.34353756\n",
      " 0.33954102 0.33801656 0.35396152 0.35598039 0.35478555 0.3476165\n",
      " 0.34984137 0.37250216 0.37196654 0.36838202 0.36010053 0.3506654\n",
      " 0.34403197 0.34827572 0.35845247 0.36619834 0.37233736 0.38148408\n",
      " 0.38193729 0.39845907 0.39499815 0.39269087 0.39821186 0.42124346\n",
      " 0.43628198 0.43924849 0.46108525 0.46108525 0.46656504 0.46808949\n",
      " 0.47155041 0.46190927 0.49515883 0.488649   0.48963784 0.50615961\n",
      " 0.53108648 0.53994479 0.53607186 0.54167525 0.53475341 0.5345062\n",
      " 0.528738   0.5087141  0.51522393 0.49977339 0.49033826 0.47880186\n",
      " 0.50743686 0.53112768 0.52741955 0.49598286 0.49462321 0.50063862\n",
      " 0.50220428 0.52041531 0.5228874  0.61163528 0.63825141 0.59952206\n",
      " 0.59869803 0.57636686 0.5317457  0.53071567 0.56396523 0.51126859\n",
      " 0.52362902 0.52280499 0.52445305 0.51847884 0.53318775 0.53524783\n",
      " 0.54006839 0.53479461 0.53799021 0.54302466 0.54976773 0.55487412\n",
      " 0.55607003 0.55219436 0.54335761 0.53065437 0.5156306  0.49977055\n",
      " 0.48420426 0.46967021 0.45661104 0.44527939 0.4357934  0.42814893\n",
      " 0.42221919 0.41776344 0.41444314 0.4118548 ]\n",
      "1/1 [==============================] - 0s 47ms/step\n",
      "20 day output [[0.4095681]]\n",
      "21 day input [0.32998228 0.3247085  0.32507931 0.33822257 0.34353756 0.33954102\n",
      " 0.33801656 0.35396152 0.35598039 0.35478555 0.3476165  0.34984137\n",
      " 0.37250216 0.37196654 0.36838202 0.36010053 0.3506654  0.34403197\n",
      " 0.34827572 0.35845247 0.36619834 0.37233736 0.38148408 0.38193729\n",
      " 0.39845907 0.39499815 0.39269087 0.39821186 0.42124346 0.43628198\n",
      " 0.43924849 0.46108525 0.46108525 0.46656504 0.46808949 0.47155041\n",
      " 0.46190927 0.49515883 0.488649   0.48963784 0.50615961 0.53108648\n",
      " 0.53994479 0.53607186 0.54167525 0.53475341 0.5345062  0.528738\n",
      " 0.5087141  0.51522393 0.49977339 0.49033826 0.47880186 0.50743686\n",
      " 0.53112768 0.52741955 0.49598286 0.49462321 0.50063862 0.50220428\n",
      " 0.52041531 0.5228874  0.61163528 0.63825141 0.59952206 0.59869803\n",
      " 0.57636686 0.5317457  0.53071567 0.56396523 0.51126859 0.52362902\n",
      " 0.52280499 0.52445305 0.51847884 0.53318775 0.53524783 0.54006839\n",
      " 0.53479461 0.53799021 0.54302466 0.54976773 0.55487412 0.55607003\n",
      " 0.55219436 0.54335761 0.53065437 0.5156306  0.49977055 0.48420426\n",
      " 0.46967021 0.45661104 0.44527939 0.4357934  0.42814893 0.42221919\n",
      " 0.41776344 0.41444314 0.4118548  0.4095681 ]\n"
     ]
    },
    {
     "name": "stdout",
     "output_type": "stream",
     "text": [
      "1/1 [==============================] - 0s 31ms/step\n",
      "21 day output [[0.4071691]]\n",
      "22 day input [0.3247085  0.32507931 0.33822257 0.34353756 0.33954102 0.33801656\n",
      " 0.35396152 0.35598039 0.35478555 0.3476165  0.34984137 0.37250216\n",
      " 0.37196654 0.36838202 0.36010053 0.3506654  0.34403197 0.34827572\n",
      " 0.35845247 0.36619834 0.37233736 0.38148408 0.38193729 0.39845907\n",
      " 0.39499815 0.39269087 0.39821186 0.42124346 0.43628198 0.43924849\n",
      " 0.46108525 0.46108525 0.46656504 0.46808949 0.47155041 0.46190927\n",
      " 0.49515883 0.488649   0.48963784 0.50615961 0.53108648 0.53994479\n",
      " 0.53607186 0.54167525 0.53475341 0.5345062  0.528738   0.5087141\n",
      " 0.51522393 0.49977339 0.49033826 0.47880186 0.50743686 0.53112768\n",
      " 0.52741955 0.49598286 0.49462321 0.50063862 0.50220428 0.52041531\n",
      " 0.5228874  0.61163528 0.63825141 0.59952206 0.59869803 0.57636686\n",
      " 0.5317457  0.53071567 0.56396523 0.51126859 0.52362902 0.52280499\n",
      " 0.52445305 0.51847884 0.53318775 0.53524783 0.54006839 0.53479461\n",
      " 0.53799021 0.54302466 0.54976773 0.55487412 0.55607003 0.55219436\n",
      " 0.54335761 0.53065437 0.5156306  0.49977055 0.48420426 0.46967021\n",
      " 0.45661104 0.44527939 0.4357934  0.42814893 0.42221919 0.41776344\n",
      " 0.41444314 0.4118548  0.4095681  0.4071691 ]\n",
      "1/1 [==============================] - 0s 47ms/step\n",
      "22 day output [[0.4042977]]\n",
      "23 day input [0.32507931 0.33822257 0.34353756 0.33954102 0.33801656 0.35396152\n",
      " 0.35598039 0.35478555 0.3476165  0.34984137 0.37250216 0.37196654\n",
      " 0.36838202 0.36010053 0.3506654  0.34403197 0.34827572 0.35845247\n",
      " 0.36619834 0.37233736 0.38148408 0.38193729 0.39845907 0.39499815\n",
      " 0.39269087 0.39821186 0.42124346 0.43628198 0.43924849 0.46108525\n",
      " 0.46108525 0.46656504 0.46808949 0.47155041 0.46190927 0.49515883\n",
      " 0.488649   0.48963784 0.50615961 0.53108648 0.53994479 0.53607186\n",
      " 0.54167525 0.53475341 0.5345062  0.528738   0.5087141  0.51522393\n",
      " 0.49977339 0.49033826 0.47880186 0.50743686 0.53112768 0.52741955\n",
      " 0.49598286 0.49462321 0.50063862 0.50220428 0.52041531 0.5228874\n",
      " 0.61163528 0.63825141 0.59952206 0.59869803 0.57636686 0.5317457\n",
      " 0.53071567 0.56396523 0.51126859 0.52362902 0.52280499 0.52445305\n",
      " 0.51847884 0.53318775 0.53524783 0.54006839 0.53479461 0.53799021\n",
      " 0.54302466 0.54976773 0.55487412 0.55607003 0.55219436 0.54335761\n",
      " 0.53065437 0.5156306  0.49977055 0.48420426 0.46967021 0.45661104\n",
      " 0.44527939 0.4357934  0.42814893 0.42221919 0.41776344 0.41444314\n",
      " 0.4118548  0.4095681  0.4071691  0.40429771]\n",
      "1/1 [==============================] - 0s 47ms/step\n",
      "23 day output [[0.40068883]]\n",
      "24 day input [0.33822257 0.34353756 0.33954102 0.33801656 0.35396152 0.35598039\n",
      " 0.35478555 0.3476165  0.34984137 0.37250216 0.37196654 0.36838202\n",
      " 0.36010053 0.3506654  0.34403197 0.34827572 0.35845247 0.36619834\n",
      " 0.37233736 0.38148408 0.38193729 0.39845907 0.39499815 0.39269087\n",
      " 0.39821186 0.42124346 0.43628198 0.43924849 0.46108525 0.46108525\n",
      " 0.46656504 0.46808949 0.47155041 0.46190927 0.49515883 0.488649\n",
      " 0.48963784 0.50615961 0.53108648 0.53994479 0.53607186 0.54167525\n",
      " 0.53475341 0.5345062  0.528738   0.5087141  0.51522393 0.49977339\n",
      " 0.49033826 0.47880186 0.50743686 0.53112768 0.52741955 0.49598286\n",
      " 0.49462321 0.50063862 0.50220428 0.52041531 0.5228874  0.61163528\n",
      " 0.63825141 0.59952206 0.59869803 0.57636686 0.5317457  0.53071567\n",
      " 0.56396523 0.51126859 0.52362902 0.52280499 0.52445305 0.51847884\n",
      " 0.53318775 0.53524783 0.54006839 0.53479461 0.53799021 0.54302466\n",
      " 0.54976773 0.55487412 0.55607003 0.55219436 0.54335761 0.53065437\n",
      " 0.5156306  0.49977055 0.48420426 0.46967021 0.45661104 0.44527939\n",
      " 0.4357934  0.42814893 0.42221919 0.41776344 0.41444314 0.4118548\n",
      " 0.4095681  0.4071691  0.40429771 0.40068883]\n",
      "1/1 [==============================] - 0s 47ms/step\n",
      "24 day output [[0.3962044]]\n",
      "25 day input [0.34353756 0.33954102 0.33801656 0.35396152 0.35598039 0.35478555\n",
      " 0.3476165  0.34984137 0.37250216 0.37196654 0.36838202 0.36010053\n",
      " 0.3506654  0.34403197 0.34827572 0.35845247 0.36619834 0.37233736\n",
      " 0.38148408 0.38193729 0.39845907 0.39499815 0.39269087 0.39821186\n",
      " 0.42124346 0.43628198 0.43924849 0.46108525 0.46108525 0.46656504\n",
      " 0.46808949 0.47155041 0.46190927 0.49515883 0.488649   0.48963784\n",
      " 0.50615961 0.53108648 0.53994479 0.53607186 0.54167525 0.53475341\n",
      " 0.5345062  0.528738   0.5087141  0.51522393 0.49977339 0.49033826\n",
      " 0.47880186 0.50743686 0.53112768 0.52741955 0.49598286 0.49462321\n",
      " 0.50063862 0.50220428 0.52041531 0.5228874  0.61163528 0.63825141\n",
      " 0.59952206 0.59869803 0.57636686 0.5317457  0.53071567 0.56396523\n",
      " 0.51126859 0.52362902 0.52280499 0.52445305 0.51847884 0.53318775\n",
      " 0.53524783 0.54006839 0.53479461 0.53799021 0.54302466 0.54976773\n",
      " 0.55487412 0.55607003 0.55219436 0.54335761 0.53065437 0.5156306\n",
      " 0.49977055 0.48420426 0.46967021 0.45661104 0.44527939 0.4357934\n",
      " 0.42814893 0.42221919 0.41776344 0.41444314 0.4118548  0.4095681\n",
      " 0.4071691  0.40429771 0.40068883 0.39620441]\n",
      "1/1 [==============================] - 0s 47ms/step\n",
      "25 day output [[0.39084715]]\n",
      "26 day input [0.33954102 0.33801656 0.35396152 0.35598039 0.35478555 0.3476165\n",
      " 0.34984137 0.37250216 0.37196654 0.36838202 0.36010053 0.3506654\n",
      " 0.34403197 0.34827572 0.35845247 0.36619834 0.37233736 0.38148408\n",
      " 0.38193729 0.39845907 0.39499815 0.39269087 0.39821186 0.42124346\n",
      " 0.43628198 0.43924849 0.46108525 0.46108525 0.46656504 0.46808949\n",
      " 0.47155041 0.46190927 0.49515883 0.488649   0.48963784 0.50615961\n",
      " 0.53108648 0.53994479 0.53607186 0.54167525 0.53475341 0.5345062\n",
      " 0.528738   0.5087141  0.51522393 0.49977339 0.49033826 0.47880186\n",
      " 0.50743686 0.53112768 0.52741955 0.49598286 0.49462321 0.50063862\n",
      " 0.50220428 0.52041531 0.5228874  0.61163528 0.63825141 0.59952206\n",
      " 0.59869803 0.57636686 0.5317457  0.53071567 0.56396523 0.51126859\n",
      " 0.52362902 0.52280499 0.52445305 0.51847884 0.53318775 0.53524783\n",
      " 0.54006839 0.53479461 0.53799021 0.54302466 0.54976773 0.55487412\n",
      " 0.55607003 0.55219436 0.54335761 0.53065437 0.5156306  0.49977055\n",
      " 0.48420426 0.46967021 0.45661104 0.44527939 0.4357934  0.42814893\n",
      " 0.42221919 0.41776344 0.41444314 0.4118548  0.4095681  0.4071691\n",
      " 0.40429771 0.40068883 0.39620441 0.39084715]\n",
      "1/1 [==============================] - 0s 47ms/step\n",
      "26 day output [[0.38474548]]\n",
      "27 day input [0.33801656 0.35396152 0.35598039 0.35478555 0.3476165  0.34984137\n",
      " 0.37250216 0.37196654 0.36838202 0.36010053 0.3506654  0.34403197\n",
      " 0.34827572 0.35845247 0.36619834 0.37233736 0.38148408 0.38193729\n",
      " 0.39845907 0.39499815 0.39269087 0.39821186 0.42124346 0.43628198\n",
      " 0.43924849 0.46108525 0.46108525 0.46656504 0.46808949 0.47155041\n",
      " 0.46190927 0.49515883 0.488649   0.48963784 0.50615961 0.53108648\n",
      " 0.53994479 0.53607186 0.54167525 0.53475341 0.5345062  0.528738\n",
      " 0.5087141  0.51522393 0.49977339 0.49033826 0.47880186 0.50743686\n",
      " 0.53112768 0.52741955 0.49598286 0.49462321 0.50063862 0.50220428\n",
      " 0.52041531 0.5228874  0.61163528 0.63825141 0.59952206 0.59869803\n",
      " 0.57636686 0.5317457  0.53071567 0.56396523 0.51126859 0.52362902\n",
      " 0.52280499 0.52445305 0.51847884 0.53318775 0.53524783 0.54006839\n",
      " 0.53479461 0.53799021 0.54302466 0.54976773 0.55487412 0.55607003\n",
      " 0.55219436 0.54335761 0.53065437 0.5156306  0.49977055 0.48420426\n",
      " 0.46967021 0.45661104 0.44527939 0.4357934  0.42814893 0.42221919\n",
      " 0.41776344 0.41444314 0.4118548  0.4095681  0.4071691  0.40429771\n",
      " 0.40068883 0.39620441 0.39084715 0.38474548]\n",
      "1/1 [==============================] - 0s 47ms/step\n",
      "27 day output [[0.37812287]]\n",
      "28 day input [0.35396152 0.35598039 0.35478555 0.3476165  0.34984137 0.37250216\n",
      " 0.37196654 0.36838202 0.36010053 0.3506654  0.34403197 0.34827572\n",
      " 0.35845247 0.36619834 0.37233736 0.38148408 0.38193729 0.39845907\n",
      " 0.39499815 0.39269087 0.39821186 0.42124346 0.43628198 0.43924849\n",
      " 0.46108525 0.46108525 0.46656504 0.46808949 0.47155041 0.46190927\n",
      " 0.49515883 0.488649   0.48963784 0.50615961 0.53108648 0.53994479\n",
      " 0.53607186 0.54167525 0.53475341 0.5345062  0.528738   0.5087141\n",
      " 0.51522393 0.49977339 0.49033826 0.47880186 0.50743686 0.53112768\n",
      " 0.52741955 0.49598286 0.49462321 0.50063862 0.50220428 0.52041531\n",
      " 0.5228874  0.61163528 0.63825141 0.59952206 0.59869803 0.57636686\n",
      " 0.5317457  0.53071567 0.56396523 0.51126859 0.52362902 0.52280499\n",
      " 0.52445305 0.51847884 0.53318775 0.53524783 0.54006839 0.53479461\n",
      " 0.53799021 0.54302466 0.54976773 0.55487412 0.55607003 0.55219436\n",
      " 0.54335761 0.53065437 0.5156306  0.49977055 0.48420426 0.46967021\n",
      " 0.45661104 0.44527939 0.4357934  0.42814893 0.42221919 0.41776344\n",
      " 0.41444314 0.4118548  0.4095681  0.4071691  0.40429771 0.40068883\n",
      " 0.39620441 0.39084715 0.38474548 0.37812287]\n"
     ]
    },
    {
     "name": "stdout",
     "output_type": "stream",
     "text": [
      "1/1 [==============================] - 0s 47ms/step\n",
      "28 day output [[0.3712569]]\n",
      "29 day input [0.35598039 0.35478555 0.3476165  0.34984137 0.37250216 0.37196654\n",
      " 0.36838202 0.36010053 0.3506654  0.34403197 0.34827572 0.35845247\n",
      " 0.36619834 0.37233736 0.38148408 0.38193729 0.39845907 0.39499815\n",
      " 0.39269087 0.39821186 0.42124346 0.43628198 0.43924849 0.46108525\n",
      " 0.46108525 0.46656504 0.46808949 0.47155041 0.46190927 0.49515883\n",
      " 0.488649   0.48963784 0.50615961 0.53108648 0.53994479 0.53607186\n",
      " 0.54167525 0.53475341 0.5345062  0.528738   0.5087141  0.51522393\n",
      " 0.49977339 0.49033826 0.47880186 0.50743686 0.53112768 0.52741955\n",
      " 0.49598286 0.49462321 0.50063862 0.50220428 0.52041531 0.5228874\n",
      " 0.61163528 0.63825141 0.59952206 0.59869803 0.57636686 0.5317457\n",
      " 0.53071567 0.56396523 0.51126859 0.52362902 0.52280499 0.52445305\n",
      " 0.51847884 0.53318775 0.53524783 0.54006839 0.53479461 0.53799021\n",
      " 0.54302466 0.54976773 0.55487412 0.55607003 0.55219436 0.54335761\n",
      " 0.53065437 0.5156306  0.49977055 0.48420426 0.46967021 0.45661104\n",
      " 0.44527939 0.4357934  0.42814893 0.42221919 0.41776344 0.41444314\n",
      " 0.4118548  0.4095681  0.4071691  0.40429771 0.40068883 0.39620441\n",
      " 0.39084715 0.38474548 0.37812287 0.37125689]\n",
      "1/1 [==============================] - 0s 47ms/step\n",
      "29 day output [[0.3644354]]\n",
      "[[0.5379902124404907], [0.5430246591567993], [0.5497677326202393], [0.5548741221427917], [0.5560700297355652], [0.552194356918335], [0.5433576107025146], [0.5306543707847595], [0.5156306028366089], [0.49977055191993713], [0.4842042624950409], [0.46967020630836487], [0.4566110372543335], [0.44527938961982727], [0.435793399810791], [0.42814892530441284], [0.4222191870212555], [0.41776344180107117], [0.41444313526153564], [0.4118548035621643], [0.40956810116767883], [0.4071691036224365], [0.40429770946502686], [0.4006888270378113], [0.39620441198349], [0.3908471465110779], [0.3847454786300659], [0.37812286615371704], [0.37125688791275024], [0.3644354045391083]]\n"
     ]
    }
   ],
   "source": [
    "#demonstrating prediction for next 10 days\n",
    "from numpy import array\n",
    "lst_output=[]\n",
    "n_steps=100\n",
    "i=0\n",
    "while(i<30):\n",
    "    \n",
    "    if(len(temp_input)>100):\n",
    "        #print(temp_input)\n",
    "        x_input=np.array(temp_input[1:])\n",
    "        print(\"{} day input {}\".format(i,x_input))\n",
    "        x_input=x_input.reshape(1,-1)\n",
    "        x_input=x_input.reshape((1,n_steps,1))\n",
    "        #print(x_input)\n",
    "        yhat=model.predict(x_input, verbose=1)\n",
    "        print(\"{} day output {}\".format(i,yhat))\n",
    "        temp_input.extend(yhat[0].tolist())\n",
    "        temp_input=temp_input[1:]\n",
    "        #print(temp_input)\n",
    "        lst_output.extend(yhat.tolist())\n",
    "        i=i+1\n",
    "    else:\n",
    "        x_input=x_input.reshape((1, n_steps, 1))\n",
    "        yhat=model.predict(x_input,verbose=0)\n",
    "        print(yhat[0])\n",
    "        temp_input.extend(yhat[0].tolist())\n",
    "        print(len(temp_input))\n",
    "        lst_output.extend(yhat.tolist())\n",
    "        i=i+1\n",
    "\n",
    "print(lst_output)"
   ]
  },
  {
   "cell_type": "code",
   "execution_count": 39,
   "id": "9e6b1673",
   "metadata": {},
   "outputs": [],
   "source": [
    "day_new=np.arange(1,101)\n",
    "day_pred=np.arange(101,131)"
   ]
  },
  {
   "cell_type": "code",
   "execution_count": 40,
   "id": "37d69f99",
   "metadata": {},
   "outputs": [
    {
     "data": {
      "text/plain": [
       "3322"
      ]
     },
     "execution_count": 40,
     "metadata": {},
     "output_type": "execute_result"
    }
   ],
   "source": [
    "len(df1)"
   ]
  },
  {
   "cell_type": "code",
   "execution_count": 41,
   "id": "63fef004",
   "metadata": {},
   "outputs": [],
   "source": [
    "df3=df1.tolist()\n",
    "df3.extend(lst_output)"
   ]
  },
  {
   "cell_type": "markdown",
   "id": "e817412a",
   "metadata": {},
   "source": [
    "plt.plot(day_new,scaler.inverse_transform(df1[3222:]))\n",
    "plt.plot(day_pred,scaler.inverse_transform(lst_output))"
   ]
  },
  {
   "cell_type": "markdown",
   "id": "9920b473",
   "metadata": {},
   "source": [
    "# MODEL 2 :LSTM"
   ]
  },
  {
   "cell_type": "code",
   "execution_count": 3,
   "id": "b1ea713b",
   "metadata": {},
   "outputs": [
    {
     "data": {
      "text/html": [
       "<div>\n",
       "<style scoped>\n",
       "    .dataframe tbody tr th:only-of-type {\n",
       "        vertical-align: middle;\n",
       "    }\n",
       "\n",
       "    .dataframe tbody tr th {\n",
       "        vertical-align: top;\n",
       "    }\n",
       "\n",
       "    .dataframe thead th {\n",
       "        text-align: right;\n",
       "    }\n",
       "</style>\n",
       "<table border=\"1\" class=\"dataframe\">\n",
       "  <thead>\n",
       "    <tr style=\"text-align: right;\">\n",
       "      <th></th>\n",
       "      <th>Date</th>\n",
       "      <th>Symbol</th>\n",
       "      <th>Series</th>\n",
       "      <th>Prev Close</th>\n",
       "      <th>Open</th>\n",
       "      <th>High</th>\n",
       "      <th>Low</th>\n",
       "      <th>Last</th>\n",
       "      <th>Close</th>\n",
       "      <th>VWAP</th>\n",
       "      <th>Volume</th>\n",
       "      <th>Turnover</th>\n",
       "      <th>Trades</th>\n",
       "      <th>Deliverable Volume</th>\n",
       "      <th>%Deliverble</th>\n",
       "    </tr>\n",
       "  </thead>\n",
       "  <tbody>\n",
       "    <tr>\n",
       "      <th>0</th>\n",
       "      <td>2007-11-27</td>\n",
       "      <td>MUNDRAPORT</td>\n",
       "      <td>EQ</td>\n",
       "      <td>440.00</td>\n",
       "      <td>770.00</td>\n",
       "      <td>1050.00</td>\n",
       "      <td>770.00</td>\n",
       "      <td>959.0</td>\n",
       "      <td>962.90</td>\n",
       "      <td>984.72</td>\n",
       "      <td>27294366</td>\n",
       "      <td>2.687719e+15</td>\n",
       "      <td>NaN</td>\n",
       "      <td>9859619</td>\n",
       "      <td>0.3612</td>\n",
       "    </tr>\n",
       "    <tr>\n",
       "      <th>1</th>\n",
       "      <td>2007-11-28</td>\n",
       "      <td>MUNDRAPORT</td>\n",
       "      <td>EQ</td>\n",
       "      <td>962.90</td>\n",
       "      <td>984.00</td>\n",
       "      <td>990.00</td>\n",
       "      <td>874.00</td>\n",
       "      <td>885.0</td>\n",
       "      <td>893.90</td>\n",
       "      <td>941.38</td>\n",
       "      <td>4581338</td>\n",
       "      <td>4.312765e+14</td>\n",
       "      <td>NaN</td>\n",
       "      <td>1453278</td>\n",
       "      <td>0.3172</td>\n",
       "    </tr>\n",
       "    <tr>\n",
       "      <th>2</th>\n",
       "      <td>2007-11-29</td>\n",
       "      <td>MUNDRAPORT</td>\n",
       "      <td>EQ</td>\n",
       "      <td>893.90</td>\n",
       "      <td>909.00</td>\n",
       "      <td>914.75</td>\n",
       "      <td>841.00</td>\n",
       "      <td>887.0</td>\n",
       "      <td>884.20</td>\n",
       "      <td>888.09</td>\n",
       "      <td>5124121</td>\n",
       "      <td>4.550658e+14</td>\n",
       "      <td>NaN</td>\n",
       "      <td>1069678</td>\n",
       "      <td>0.2088</td>\n",
       "    </tr>\n",
       "    <tr>\n",
       "      <th>3</th>\n",
       "      <td>2007-11-30</td>\n",
       "      <td>MUNDRAPORT</td>\n",
       "      <td>EQ</td>\n",
       "      <td>884.20</td>\n",
       "      <td>890.00</td>\n",
       "      <td>958.00</td>\n",
       "      <td>890.00</td>\n",
       "      <td>929.0</td>\n",
       "      <td>921.55</td>\n",
       "      <td>929.17</td>\n",
       "      <td>4609762</td>\n",
       "      <td>4.283257e+14</td>\n",
       "      <td>NaN</td>\n",
       "      <td>1260913</td>\n",
       "      <td>0.2735</td>\n",
       "    </tr>\n",
       "    <tr>\n",
       "      <th>4</th>\n",
       "      <td>2007-12-03</td>\n",
       "      <td>MUNDRAPORT</td>\n",
       "      <td>EQ</td>\n",
       "      <td>921.55</td>\n",
       "      <td>939.75</td>\n",
       "      <td>995.00</td>\n",
       "      <td>922.00</td>\n",
       "      <td>980.0</td>\n",
       "      <td>969.30</td>\n",
       "      <td>965.65</td>\n",
       "      <td>2977470</td>\n",
       "      <td>2.875200e+14</td>\n",
       "      <td>NaN</td>\n",
       "      <td>816123</td>\n",
       "      <td>0.2741</td>\n",
       "    </tr>\n",
       "    <tr>\n",
       "      <th>...</th>\n",
       "      <td>...</td>\n",
       "      <td>...</td>\n",
       "      <td>...</td>\n",
       "      <td>...</td>\n",
       "      <td>...</td>\n",
       "      <td>...</td>\n",
       "      <td>...</td>\n",
       "      <td>...</td>\n",
       "      <td>...</td>\n",
       "      <td>...</td>\n",
       "      <td>...</td>\n",
       "      <td>...</td>\n",
       "      <td>...</td>\n",
       "      <td>...</td>\n",
       "      <td>...</td>\n",
       "    </tr>\n",
       "    <tr>\n",
       "      <th>3317</th>\n",
       "      <td>2021-04-26</td>\n",
       "      <td>ADANIPORTS</td>\n",
       "      <td>EQ</td>\n",
       "      <td>725.35</td>\n",
       "      <td>733.00</td>\n",
       "      <td>739.65</td>\n",
       "      <td>728.90</td>\n",
       "      <td>729.2</td>\n",
       "      <td>730.75</td>\n",
       "      <td>733.25</td>\n",
       "      <td>9390549</td>\n",
       "      <td>6.885658e+14</td>\n",
       "      <td>116457.0</td>\n",
       "      <td>838079</td>\n",
       "      <td>0.0892</td>\n",
       "    </tr>\n",
       "    <tr>\n",
       "      <th>3318</th>\n",
       "      <td>2021-04-27</td>\n",
       "      <td>ADANIPORTS</td>\n",
       "      <td>EQ</td>\n",
       "      <td>730.75</td>\n",
       "      <td>735.00</td>\n",
       "      <td>757.50</td>\n",
       "      <td>727.35</td>\n",
       "      <td>748.6</td>\n",
       "      <td>749.15</td>\n",
       "      <td>747.67</td>\n",
       "      <td>20573107</td>\n",
       "      <td>1.538191e+15</td>\n",
       "      <td>236896.0</td>\n",
       "      <td>1779639</td>\n",
       "      <td>0.0865</td>\n",
       "    </tr>\n",
       "    <tr>\n",
       "      <th>3319</th>\n",
       "      <td>2021-04-28</td>\n",
       "      <td>ADANIPORTS</td>\n",
       "      <td>EQ</td>\n",
       "      <td>749.15</td>\n",
       "      <td>755.00</td>\n",
       "      <td>760.00</td>\n",
       "      <td>741.10</td>\n",
       "      <td>743.4</td>\n",
       "      <td>746.25</td>\n",
       "      <td>751.02</td>\n",
       "      <td>11156977</td>\n",
       "      <td>8.379106e+14</td>\n",
       "      <td>130847.0</td>\n",
       "      <td>1342353</td>\n",
       "      <td>0.1203</td>\n",
       "    </tr>\n",
       "    <tr>\n",
       "      <th>3320</th>\n",
       "      <td>2021-04-29</td>\n",
       "      <td>ADANIPORTS</td>\n",
       "      <td>EQ</td>\n",
       "      <td>746.25</td>\n",
       "      <td>753.20</td>\n",
       "      <td>765.85</td>\n",
       "      <td>743.40</td>\n",
       "      <td>746.4</td>\n",
       "      <td>746.75</td>\n",
       "      <td>753.06</td>\n",
       "      <td>13851910</td>\n",
       "      <td>1.043139e+15</td>\n",
       "      <td>153293.0</td>\n",
       "      <td>1304895</td>\n",
       "      <td>0.0942</td>\n",
       "    </tr>\n",
       "    <tr>\n",
       "      <th>3321</th>\n",
       "      <td>2021-04-30</td>\n",
       "      <td>ADANIPORTS</td>\n",
       "      <td>EQ</td>\n",
       "      <td>746.75</td>\n",
       "      <td>739.00</td>\n",
       "      <td>759.45</td>\n",
       "      <td>724.50</td>\n",
       "      <td>726.4</td>\n",
       "      <td>730.05</td>\n",
       "      <td>743.35</td>\n",
       "      <td>12600934</td>\n",
       "      <td>9.366911e+14</td>\n",
       "      <td>132141.0</td>\n",
       "      <td>3514692</td>\n",
       "      <td>0.2789</td>\n",
       "    </tr>\n",
       "  </tbody>\n",
       "</table>\n",
       "<p>3322 rows × 15 columns</p>\n",
       "</div>"
      ],
      "text/plain": [
       "            Date      Symbol Series  Prev Close    Open     High     Low  \\\n",
       "0     2007-11-27  MUNDRAPORT     EQ      440.00  770.00  1050.00  770.00   \n",
       "1     2007-11-28  MUNDRAPORT     EQ      962.90  984.00   990.00  874.00   \n",
       "2     2007-11-29  MUNDRAPORT     EQ      893.90  909.00   914.75  841.00   \n",
       "3     2007-11-30  MUNDRAPORT     EQ      884.20  890.00   958.00  890.00   \n",
       "4     2007-12-03  MUNDRAPORT     EQ      921.55  939.75   995.00  922.00   \n",
       "...          ...         ...    ...         ...     ...      ...     ...   \n",
       "3317  2021-04-26  ADANIPORTS     EQ      725.35  733.00   739.65  728.90   \n",
       "3318  2021-04-27  ADANIPORTS     EQ      730.75  735.00   757.50  727.35   \n",
       "3319  2021-04-28  ADANIPORTS     EQ      749.15  755.00   760.00  741.10   \n",
       "3320  2021-04-29  ADANIPORTS     EQ      746.25  753.20   765.85  743.40   \n",
       "3321  2021-04-30  ADANIPORTS     EQ      746.75  739.00   759.45  724.50   \n",
       "\n",
       "       Last   Close    VWAP    Volume      Turnover    Trades  \\\n",
       "0     959.0  962.90  984.72  27294366  2.687719e+15       NaN   \n",
       "1     885.0  893.90  941.38   4581338  4.312765e+14       NaN   \n",
       "2     887.0  884.20  888.09   5124121  4.550658e+14       NaN   \n",
       "3     929.0  921.55  929.17   4609762  4.283257e+14       NaN   \n",
       "4     980.0  969.30  965.65   2977470  2.875200e+14       NaN   \n",
       "...     ...     ...     ...       ...           ...       ...   \n",
       "3317  729.2  730.75  733.25   9390549  6.885658e+14  116457.0   \n",
       "3318  748.6  749.15  747.67  20573107  1.538191e+15  236896.0   \n",
       "3319  743.4  746.25  751.02  11156977  8.379106e+14  130847.0   \n",
       "3320  746.4  746.75  753.06  13851910  1.043139e+15  153293.0   \n",
       "3321  726.4  730.05  743.35  12600934  9.366911e+14  132141.0   \n",
       "\n",
       "      Deliverable Volume  %Deliverble  \n",
       "0                9859619       0.3612  \n",
       "1                1453278       0.3172  \n",
       "2                1069678       0.2088  \n",
       "3                1260913       0.2735  \n",
       "4                 816123       0.2741  \n",
       "...                  ...          ...  \n",
       "3317              838079       0.0892  \n",
       "3318             1779639       0.0865  \n",
       "3319             1342353       0.1203  \n",
       "3320             1304895       0.0942  \n",
       "3321             3514692       0.2789  \n",
       "\n",
       "[3322 rows x 15 columns]"
      ]
     },
     "execution_count": 3,
     "metadata": {},
     "output_type": "execute_result"
    }
   ],
   "source": [
    "data=pd.read_csv(\"ADANIPORTS.csv\")\n",
    "data"
   ]
  },
  {
   "cell_type": "code",
   "execution_count": 22,
   "id": "12452c99",
   "metadata": {},
   "outputs": [
    {
     "data": {
      "text/plain": [
       "Date                    0\n",
       "Symbol                  0\n",
       "Series                  0\n",
       "Prev Close              0\n",
       "Open                    0\n",
       "High                    0\n",
       "Low                     0\n",
       "Last                    0\n",
       "Close                   0\n",
       "VWAP                    0\n",
       "Volume                  0\n",
       "Turnover                0\n",
       "Trades                866\n",
       "Deliverable Volume      0\n",
       "%Deliverble             0\n",
       "dtype: int64"
      ]
     },
     "execution_count": 22,
     "metadata": {},
     "output_type": "execute_result"
    }
   ],
   "source": [
    "data.isnull().sum()"
   ]
  },
  {
   "cell_type": "code",
   "execution_count": 64,
   "id": "b283cf4a",
   "metadata": {},
   "outputs": [],
   "source": [
    "dataa=data.drop(\"Trades\",axis=1)"
   ]
  },
  {
   "cell_type": "code",
   "execution_count": 65,
   "id": "849056ae",
   "metadata": {},
   "outputs": [
    {
     "data": {
      "text/plain": [
       "(3322,)"
      ]
     },
     "execution_count": 65,
     "metadata": {},
     "output_type": "execute_result"
    }
   ],
   "source": [
    "data1=dataa.reset_index()[\"High\"]\n",
    "data1.shape"
   ]
  },
  {
   "cell_type": "code",
   "execution_count": 110,
   "id": "bedfdc8d",
   "metadata": {},
   "outputs": [
    {
     "data": {
      "text/plain": [
       "(2491, 831)"
      ]
     },
     "execution_count": 110,
     "metadata": {},
     "output_type": "execute_result"
    }
   ],
   "source": [
    "train_size=int(len(data1)*0.75)\n",
    "test_size=len(data1)-train_size\n",
    "train_size, test_size"
   ]
  },
  {
   "cell_type": "code",
   "execution_count": 111,
   "id": "f08369cb",
   "metadata": {},
   "outputs": [
    {
     "name": "stdout",
     "output_type": "stream",
     "text": [
      "2491\n",
      "831\n"
     ]
    },
    {
     "data": {
      "text/plain": [
       "(None, None)"
      ]
     },
     "execution_count": 111,
     "metadata": {},
     "output_type": "execute_result"
    }
   ],
   "source": [
    "train_data=data1[0:train_size]\n",
    "test_data=data1[train_size::]\n",
    "print(len(train_data)),print(len(test_data))"
   ]
  },
  {
   "cell_type": "code",
   "execution_count": 112,
   "id": "fe66da21",
   "metadata": {},
   "outputs": [],
   "source": [
    "train_data.to_csv(\"train_data.csv\")\n",
    "test_data.to_csv(\"test_data.csv\")"
   ]
  },
  {
   "cell_type": "code",
   "execution_count": 113,
   "id": "44d95840",
   "metadata": {},
   "outputs": [
    {
     "data": {
      "text/html": [
       "<div>\n",
       "<style scoped>\n",
       "    .dataframe tbody tr th:only-of-type {\n",
       "        vertical-align: middle;\n",
       "    }\n",
       "\n",
       "    .dataframe tbody tr th {\n",
       "        vertical-align: top;\n",
       "    }\n",
       "\n",
       "    .dataframe thead th {\n",
       "        text-align: right;\n",
       "    }\n",
       "</style>\n",
       "<table border=\"1\" class=\"dataframe\">\n",
       "  <thead>\n",
       "    <tr style=\"text-align: right;\">\n",
       "      <th></th>\n",
       "      <th>Unnamed: 0</th>\n",
       "      <th>High</th>\n",
       "    </tr>\n",
       "  </thead>\n",
       "  <tbody>\n",
       "    <tr>\n",
       "      <th>0</th>\n",
       "      <td>0</td>\n",
       "      <td>1050.00</td>\n",
       "    </tr>\n",
       "    <tr>\n",
       "      <th>1</th>\n",
       "      <td>1</td>\n",
       "      <td>990.00</td>\n",
       "    </tr>\n",
       "    <tr>\n",
       "      <th>2</th>\n",
       "      <td>2</td>\n",
       "      <td>914.75</td>\n",
       "    </tr>\n",
       "    <tr>\n",
       "      <th>3</th>\n",
       "      <td>3</td>\n",
       "      <td>958.00</td>\n",
       "    </tr>\n",
       "    <tr>\n",
       "      <th>4</th>\n",
       "      <td>4</td>\n",
       "      <td>995.00</td>\n",
       "    </tr>\n",
       "  </tbody>\n",
       "</table>\n",
       "</div>"
      ],
      "text/plain": [
       "   Unnamed: 0     High\n",
       "0           0  1050.00\n",
       "1           1   990.00\n",
       "2           2   914.75\n",
       "3           3   958.00\n",
       "4           4   995.00"
      ]
     },
     "execution_count": 113,
     "metadata": {},
     "output_type": "execute_result"
    }
   ],
   "source": [
    "train_data=pd.read_csv(\"adani_train_data.csv\")\n",
    "train_data.head()"
   ]
  },
  {
   "cell_type": "code",
   "execution_count": 114,
   "id": "9042158e",
   "metadata": {},
   "outputs": [],
   "source": [
    "train_dataa=train_data.drop(\"Unnamed: 0\",axis=1)"
   ]
  },
  {
   "cell_type": "code",
   "execution_count": 81,
   "id": "7f79acd5",
   "metadata": {},
   "outputs": [
    {
     "data": {
      "text/plain": [
       "array([[1050.  ],\n",
       "       [ 990.  ],\n",
       "       [ 914.75],\n",
       "       ...,\n",
       "       [ 398.9 ],\n",
       "       [ 408.  ],\n",
       "       [ 414.5 ]])"
      ]
     },
     "execution_count": 81,
     "metadata": {},
     "output_type": "execute_result"
    }
   ],
   "source": [
    "training_set=train_dataa.iloc[:,:].values\n",
    "training_set"
   ]
  },
  {
   "cell_type": "code",
   "execution_count": 121,
   "id": "e7b002b0",
   "metadata": {},
   "outputs": [],
   "source": [
    "from sklearn.preprocessing import MinMaxScaler\n",
    "sc=MinMaxScaler()\n",
    "df2=sc.fit_transform(training_set)"
   ]
  },
  {
   "cell_type": "code",
   "execution_count": 86,
   "id": "d75f0ad2",
   "metadata": {},
   "outputs": [
    {
     "data": {
      "text/plain": [
       "(2491, 1)"
      ]
     },
     "execution_count": 86,
     "metadata": {},
     "output_type": "execute_result"
    }
   ],
   "source": [
    "df2.shape"
   ]
  },
  {
   "cell_type": "code",
   "execution_count": 88,
   "id": "5cd4d8ed",
   "metadata": {},
   "outputs": [],
   "source": [
    "#Creating a datastructure with 60 timesteps adn 1 output\n",
    "x_train=[]\n",
    "y_train=[]\n",
    "for i in range(60, 1258):\n",
    "    x_train.append(df1[i-60:i, 0])\n",
    "    y_train.append(df1[i, 0])\n",
    "\n",
    "x_train,y_train=np.array(x_train), np.array(y_train)"
   ]
  },
  {
   "cell_type": "code",
   "execution_count": 89,
   "id": "08ea65e9",
   "metadata": {},
   "outputs": [],
   "source": [
    "#Reshaping\n",
    "x_train =np.reshape(x_train, (x_train.shape[0],x_train.shape[1],1))"
   ]
  },
  {
   "cell_type": "code",
   "execution_count": 90,
   "id": "d3c1f9e0",
   "metadata": {},
   "outputs": [
    {
     "name": "stdout",
     "output_type": "stream",
     "text": [
      "[[[0.77421614]\n",
      "  [0.72477442]\n",
      "  [0.66276626]\n",
      "  ...\n",
      "  [0.54760826]\n",
      "  [0.5574142 ]\n",
      "  [0.53524783]]\n",
      "\n",
      " [[0.72477442]\n",
      "  [0.66276626]\n",
      "  [0.6984055 ]\n",
      "  ...\n",
      "  [0.5574142 ]\n",
      "  [0.53524783]\n",
      "  [0.53689588]]\n",
      "\n",
      " [[0.66276626]\n",
      "  [0.6984055 ]\n",
      "  [0.72889457]\n",
      "  ...\n",
      "  [0.53524783]\n",
      "  [0.53689588]\n",
      "  [0.51629517]]\n",
      "\n",
      " ...\n",
      "\n",
      " [[0.00737506]\n",
      "  [0.01071237]\n",
      "  [0.00935273]\n",
      "  ...\n",
      "  [0.02776977]\n",
      "  [0.02950023]\n",
      "  [0.02962383]]\n",
      "\n",
      " [[0.01071237]\n",
      "  [0.00935273]\n",
      "  [0.01112439]\n",
      "  ...\n",
      "  [0.02950023]\n",
      "  [0.02962383]\n",
      "  [0.02962383]]\n",
      "\n",
      " [[0.00935273]\n",
      "  [0.01112439]\n",
      "  [0.0114952 ]\n",
      "  ...\n",
      "  [0.02962383]\n",
      "  [0.02962383]\n",
      "  [0.02608051]]]\n"
     ]
    }
   ],
   "source": [
    "print(x_train)"
   ]
  },
  {
   "cell_type": "markdown",
   "id": "aba36194",
   "metadata": {},
   "source": [
    "Building RNN"
   ]
  },
  {
   "cell_type": "code",
   "execution_count": 92,
   "id": "f4909fde",
   "metadata": {},
   "outputs": [],
   "source": [
    "from tensorflow.keras.models import Sequential\n",
    "from tensorflow.keras.layers import Dense\n",
    "from tensorflow.keras.layers import LSTM\n",
    "from tensorflow.keras.layers import Dropout"
   ]
  },
  {
   "cell_type": "code",
   "execution_count": 93,
   "id": "c8e08942",
   "metadata": {},
   "outputs": [],
   "source": [
    "regressor= Sequential()"
   ]
  },
  {
   "cell_type": "code",
   "execution_count": 94,
   "id": "cf5b0b90",
   "metadata": {},
   "outputs": [],
   "source": [
    "#adding first lstm layer and dropout regularization\n",
    "regressor.add(LSTM(units=50, return_sequences=True, input_shape=(x_train.shape[1],1)))\n",
    "regressor.add(Dropout(0.2))\n",
    "#adding second lstm layer and dropout regularization\n",
    "regressor.add(LSTM(units=50, return_sequences=True))\n",
    "regressor.add(Dropout(0.2))\n",
    "#adding third lstm layer and dropout regularization\n",
    "regressor.add(LSTM(units=50, return_sequences=True))\n",
    "regressor.add(Dropout(0.2))\n",
    "#adding fourth lstm layer and dropout regularization\n",
    "regressor.add(LSTM(units=50))\n",
    "regressor.add(Dropout(0.2))\n",
    "#adding output layer\n",
    "regressor.add(Dense(units=1))"
   ]
  },
  {
   "cell_type": "code",
   "execution_count": 95,
   "id": "8eea6e60",
   "metadata": {},
   "outputs": [],
   "source": [
    "#Compiling \n",
    "regressor.compile(optimizer=\"adam\", loss=\"mean_squared_error\")"
   ]
  },
  {
   "cell_type": "code",
   "execution_count": 96,
   "id": "6b1d1ebc",
   "metadata": {},
   "outputs": [
    {
     "name": "stdout",
     "output_type": "stream",
     "text": [
      "Epoch 1/100\n",
      "38/38 [==============================] - 20s 204ms/step - loss: 0.0108\n",
      "Epoch 2/100\n",
      "38/38 [==============================] - 8s 211ms/step - loss: 0.0047\n",
      "Epoch 3/100\n",
      "38/38 [==============================] - 8s 199ms/step - loss: 0.0043\n",
      "Epoch 4/100\n",
      "38/38 [==============================] - 8s 213ms/step - loss: 0.0042\n",
      "Epoch 5/100\n",
      "38/38 [==============================] - 7s 194ms/step - loss: 0.0038\n",
      "Epoch 6/100\n",
      "38/38 [==============================] - 7s 196ms/step - loss: 0.0032\n",
      "Epoch 7/100\n",
      "38/38 [==============================] - 8s 210ms/step - loss: 0.0035\n",
      "Epoch 8/100\n",
      "38/38 [==============================] - 9s 227ms/step - loss: 0.0031\n",
      "Epoch 9/100\n",
      "38/38 [==============================] - 8s 211ms/step - loss: 0.0031\n",
      "Epoch 10/100\n",
      "38/38 [==============================] - 10s 263ms/step - loss: 0.0038\n",
      "Epoch 11/100\n",
      "38/38 [==============================] - 9s 225ms/step - loss: 0.0029\n",
      "Epoch 12/100\n",
      "38/38 [==============================] - 7s 189ms/step - loss: 0.0036\n",
      "Epoch 13/100\n",
      "38/38 [==============================] - 8s 214ms/step - loss: 0.0028\n",
      "Epoch 14/100\n",
      "38/38 [==============================] - 11s 295ms/step - loss: 0.0026\n",
      "Epoch 15/100\n",
      "38/38 [==============================] - 10s 254ms/step - loss: 0.0029\n",
      "Epoch 16/100\n",
      "38/38 [==============================] - 10s 250ms/step - loss: 0.0026\n",
      "Epoch 17/100\n",
      "38/38 [==============================] - 9s 250ms/step - loss: 0.0024\n",
      "Epoch 18/100\n",
      "38/38 [==============================] - 9s 244ms/step - loss: 0.0024\n",
      "Epoch 19/100\n",
      "38/38 [==============================] - 8s 201ms/step - loss: 0.0021\n",
      "Epoch 20/100\n",
      "38/38 [==============================] - 9s 224ms/step - loss: 0.0025\n",
      "Epoch 21/100\n",
      "38/38 [==============================] - 8s 210ms/step - loss: 0.0022\n",
      "Epoch 22/100\n",
      "38/38 [==============================] - 8s 225ms/step - loss: 0.0024\n",
      "Epoch 23/100\n",
      "38/38 [==============================] - 9s 226ms/step - loss: 0.0020\n",
      "Epoch 24/100\n",
      "38/38 [==============================] - 9s 224ms/step - loss: 0.0023\n",
      "Epoch 25/100\n",
      "38/38 [==============================] - 8s 215ms/step - loss: 0.0020\n",
      "Epoch 26/100\n",
      "38/38 [==============================] - 9s 230ms/step - loss: 0.0020\n",
      "Epoch 27/100\n",
      "38/38 [==============================] - 8s 219ms/step - loss: 0.0023\n",
      "Epoch 28/100\n",
      "38/38 [==============================] - 10s 276ms/step - loss: 0.0019\n",
      "Epoch 29/100\n",
      "38/38 [==============================] - 10s 249ms/step - loss: 0.0019\n",
      "Epoch 30/100\n",
      "38/38 [==============================] - 10s 256ms/step - loss: 0.0019\n",
      "Epoch 31/100\n",
      "38/38 [==============================] - 9s 239ms/step - loss: 0.0020\n",
      "Epoch 32/100\n",
      "38/38 [==============================] - 8s 199ms/step - loss: 0.0016\n",
      "Epoch 33/100\n",
      "38/38 [==============================] - 9s 229ms/step - loss: 0.0018\n",
      "Epoch 34/100\n",
      "38/38 [==============================] - 8s 220ms/step - loss: 0.0017\n",
      "Epoch 35/100\n",
      "38/38 [==============================] - 9s 237ms/step - loss: 0.0016\n",
      "Epoch 36/100\n",
      "38/38 [==============================] - 9s 224ms/step - loss: 0.0016\n",
      "Epoch 37/100\n",
      "38/38 [==============================] - 8s 222ms/step - loss: 0.0021\n",
      "Epoch 38/100\n",
      "38/38 [==============================] - 8s 224ms/step - loss: 0.0018\n",
      "Epoch 39/100\n",
      "38/38 [==============================] - 9s 230ms/step - loss: 0.0016\n",
      "Epoch 40/100\n",
      "38/38 [==============================] - 9s 232ms/step - loss: 0.0016\n",
      "Epoch 41/100\n",
      "38/38 [==============================] - 8s 213ms/step - loss: 0.0016\n",
      "Epoch 42/100\n",
      "38/38 [==============================] - 9s 235ms/step - loss: 0.0014\n",
      "Epoch 43/100\n",
      "38/38 [==============================] - 9s 228ms/step - loss: 0.0016\n",
      "Epoch 44/100\n",
      "38/38 [==============================] - 9s 228ms/step - loss: 0.0014\n",
      "Epoch 45/100\n",
      "38/38 [==============================] - 9s 236ms/step - loss: 0.0016\n",
      "Epoch 46/100\n",
      "38/38 [==============================] - 9s 249ms/step - loss: 0.0014\n",
      "Epoch 47/100\n",
      "38/38 [==============================] - 9s 246ms/step - loss: 0.0013\n",
      "Epoch 48/100\n",
      "38/38 [==============================] - 9s 243ms/step - loss: 0.0015\n",
      "Epoch 49/100\n",
      "38/38 [==============================] - 9s 236ms/step - loss: 0.0014\n",
      "Epoch 50/100\n",
      "38/38 [==============================] - 9s 236ms/step - loss: 0.0013\n",
      "Epoch 51/100\n",
      "38/38 [==============================] - 8s 212ms/step - loss: 0.0012\n",
      "Epoch 52/100\n",
      "38/38 [==============================] - 7s 181ms/step - loss: 0.0013\n",
      "Epoch 53/100\n",
      "38/38 [==============================] - 7s 179ms/step - loss: 0.0013\n",
      "Epoch 54/100\n",
      "38/38 [==============================] - 7s 178ms/step - loss: 0.0014\n",
      "Epoch 55/100\n",
      "38/38 [==============================] - 6s 164ms/step - loss: 0.0014\n",
      "Epoch 56/100\n",
      "38/38 [==============================] - 6s 169ms/step - loss: 0.0013\n",
      "Epoch 57/100\n",
      "38/38 [==============================] - 6s 164ms/step - loss: 0.0012\n",
      "Epoch 58/100\n",
      "38/38 [==============================] - 6s 163ms/step - loss: 0.0011\n",
      "Epoch 59/100\n",
      "38/38 [==============================] - 6s 170ms/step - loss: 0.0012\n",
      "Epoch 60/100\n",
      "38/38 [==============================] - 6s 155ms/step - loss: 0.0012\n",
      "Epoch 61/100\n",
      "38/38 [==============================] - 6s 169ms/step - loss: 0.0011\n",
      "Epoch 62/100\n",
      "38/38 [==============================] - 7s 185ms/step - loss: 0.0012\n",
      "Epoch 63/100\n",
      "38/38 [==============================] - 7s 172ms/step - loss: 0.0012\n",
      "Epoch 64/100\n",
      "38/38 [==============================] - 6s 171ms/step - loss: 0.0010\n",
      "Epoch 65/100\n",
      "38/38 [==============================] - 6s 158ms/step - loss: 0.0011\n",
      "Epoch 66/100\n",
      "38/38 [==============================] - 7s 175ms/step - loss: 0.0011\n",
      "Epoch 67/100\n",
      "38/38 [==============================] - 7s 176ms/step - loss: 0.0010\n",
      "Epoch 68/100\n",
      "38/38 [==============================] - 6s 171ms/step - loss: 0.0012\n",
      "Epoch 69/100\n",
      "38/38 [==============================] - 7s 175ms/step - loss: 0.0012\n",
      "Epoch 70/100\n",
      "38/38 [==============================] - 6s 169ms/step - loss: 0.0012\n",
      "Epoch 71/100\n",
      "38/38 [==============================] - 7s 172ms/step - loss: 9.7384e-04\n",
      "Epoch 72/100\n",
      "38/38 [==============================] - 7s 176ms/step - loss: 9.9797e-04\n",
      "Epoch 73/100\n",
      "38/38 [==============================] - 6s 170ms/step - loss: 0.0011\n",
      "Epoch 74/100\n",
      "38/38 [==============================] - 7s 178ms/step - loss: 0.0010\n",
      "Epoch 75/100\n",
      "38/38 [==============================] - 6s 166ms/step - loss: 0.0012\n",
      "Epoch 76/100\n",
      "38/38 [==============================] - 7s 190ms/step - loss: 0.0011\n",
      "Epoch 77/100\n",
      "38/38 [==============================] - 6s 167ms/step - loss: 8.5264e-04\n",
      "Epoch 78/100\n",
      "38/38 [==============================] - 7s 194ms/step - loss: 8.9883e-04\n",
      "Epoch 79/100\n",
      "38/38 [==============================] - 7s 187ms/step - loss: 0.0011\n",
      "Epoch 80/100\n",
      "38/38 [==============================] - 9s 225ms/step - loss: 8.9467e-04\n",
      "Epoch 81/100\n",
      "38/38 [==============================] - 8s 208ms/step - loss: 0.0010\n",
      "Epoch 82/100\n",
      "38/38 [==============================] - 7s 187ms/step - loss: 9.1712e-04\n",
      "Epoch 83/100\n",
      "38/38 [==============================] - 7s 171ms/step - loss: 9.5198e-04\n",
      "Epoch 84/100\n",
      "38/38 [==============================] - 6s 167ms/step - loss: 9.6592e-04\n",
      "Epoch 85/100\n",
      "38/38 [==============================] - 7s 176ms/step - loss: 9.6562e-04\n",
      "Epoch 86/100\n",
      "38/38 [==============================] - 6s 158ms/step - loss: 9.0289e-04\n",
      "Epoch 87/100\n",
      "38/38 [==============================] - 7s 176ms/step - loss: 9.9684e-04\n",
      "Epoch 88/100\n",
      "38/38 [==============================] - 6s 166ms/step - loss: 9.2939e-04\n",
      "Epoch 89/100\n",
      "38/38 [==============================] - 6s 167ms/step - loss: 0.0011\n",
      "Epoch 90/100\n",
      "38/38 [==============================] - 7s 173ms/step - loss: 0.0010\n",
      "Epoch 91/100\n",
      "38/38 [==============================] - 6s 161ms/step - loss: 9.3847e-04\n",
      "Epoch 92/100\n",
      "38/38 [==============================] - 7s 190ms/step - loss: 9.7561e-04\n",
      "Epoch 93/100\n",
      "38/38 [==============================] - 7s 178ms/step - loss: 9.7497e-04\n",
      "Epoch 94/100\n",
      "38/38 [==============================] - 7s 189ms/step - loss: 9.8091e-04\n",
      "Epoch 95/100\n",
      "38/38 [==============================] - 8s 203ms/step - loss: 9.6776e-04\n",
      "Epoch 96/100\n",
      "38/38 [==============================] - 7s 181ms/step - loss: 0.0010\n",
      "Epoch 97/100\n",
      "38/38 [==============================] - 7s 184ms/step - loss: 8.9146e-04\n",
      "Epoch 98/100\n"
     ]
    },
    {
     "name": "stdout",
     "output_type": "stream",
     "text": [
      "38/38 [==============================] - 7s 192ms/step - loss: 8.2388e-04\n",
      "Epoch 99/100\n",
      "38/38 [==============================] - 8s 202ms/step - loss: 0.0011\n",
      "Epoch 100/100\n",
      "38/38 [==============================] - 7s 176ms/step - loss: 8.7636e-04\n"
     ]
    },
    {
     "data": {
      "text/plain": [
       "<keras.callbacks.History at 0x12270b5de20>"
      ]
     },
     "execution_count": 96,
     "metadata": {},
     "output_type": "execute_result"
    }
   ],
   "source": [
    "#fitting\n",
    "regressor.fit(x_train,y_train,epochs=100,batch_size=32)"
   ]
  },
  {
   "cell_type": "code",
   "execution_count": 97,
   "id": "0aefde72",
   "metadata": {},
   "outputs": [],
   "source": [
    "pred=regressor.predict(x_train)"
   ]
  },
  {
   "cell_type": "code",
   "execution_count": 98,
   "id": "fad6516e",
   "metadata": {},
   "outputs": [
    {
     "data": {
      "text/plain": [
       "0.02154104805447856"
      ]
     },
     "execution_count": 98,
     "metadata": {},
     "output_type": "execute_result"
    }
   ],
   "source": [
    "#Evaluation\n",
    "import math\n",
    "from sklearn.metrics import mean_squared_error\n",
    "rmse=math.sqrt(mean_squared_error(y_train,pred))\n",
    "rmse"
   ]
  },
  {
   "cell_type": "code",
   "execution_count": 118,
   "id": "3521d5ea",
   "metadata": {},
   "outputs": [],
   "source": [
    "#PlottingMaking predictions and visualising the results\n",
    "test_data=pd.read_csv(\"adani_test_data.csv\")\n",
    "real_stock_price=test_data.iloc[: ,1:2].values"
   ]
  },
  {
   "cell_type": "code",
   "execution_count": 119,
   "id": "db425117",
   "metadata": {},
   "outputs": [
    {
     "data": {
      "text/plain": [
       "(831, 1)"
      ]
     },
     "execution_count": 119,
     "metadata": {},
     "output_type": "execute_result"
    }
   ],
   "source": [
    "real_stock_price.shape"
   ]
  },
  {
   "cell_type": "code",
   "execution_count": 124,
   "id": "6109a135",
   "metadata": {},
   "outputs": [],
   "source": [
    "dataset_total=pd.concat((train_data[\"High\"], test_data[\"High\"]), axis=0)\n",
    "inputs= dataset_total[len(dataset_total)-len(test_data)-60:].values\n",
    "inputs= inputs.reshape(-1,1)\n",
    "inputs= sc.transform(inputs)\n",
    "x_test=[]\n",
    "for i in range(60, 800):\n",
    "    x_test.append(inputs[i-60:i, 0])\n",
    "x_test= np.array(x_test)\n",
    "x_test= np.reshape(x_test, (x_test.shape[0], x_test.shape[1], 1))\n",
    "predicted_stock_price= regressor.predict(x_test)\n",
    "predicted_stock_price= sc.inverse_transform(predicted_stock_price)"
   ]
  },
  {
   "cell_type": "code",
   "execution_count": 125,
   "id": "0214e97d",
   "metadata": {},
   "outputs": [
    {
     "data": {
      "image/png": "[encoded data removed]",
      "text/plain": [
       "<Figure size 640x480 with 1 Axes>"
      ]
     },
     "metadata": {},
     "output_type": "display_data"
    }
   ],
   "source": [
    "#Visualization\n",
    "plt.plot(real_stock_price, color=\"red\", label=\"Real Google Stock Price\")\n",
    "plt.plot(predicted_stock_price, color=\"blue\", label=\"Predicted Google Stock Price\")\n",
    "plt.title(\"Adani Stock Price Prediction\")\n",
    "plt.xlabel(\"Time\")\n",
    "plt.ylabel(\"Adani Stock Price\")\n",
    "plt.legend()\n",
    "plt.show()\n"
   ]
  },
  {
   "cell_type": "code",
   "execution_count": null,
   "id": "11251b00",
   "metadata": {},
   "outputs": [],
   "source": []
  },
  {
   "cell_type": "markdown",
   "id": "6a965f68",
   "metadata": {},
   "source": [
    "# MODEL 3: ARIMA"
   ]
  },
  {
   "cell_type": "code",
   "execution_count": 134,
   "id": "580b22b5",
   "metadata": {},
   "outputs": [
    {
     "data": {
      "text/html": [
       "<div>\n",
       "<style scoped>\n",
       "    .dataframe tbody tr th:only-of-type {\n",
       "        vertical-align: middle;\n",
       "    }\n",
       "\n",
       "    .dataframe tbody tr th {\n",
       "        vertical-align: top;\n",
       "    }\n",
       "\n",
       "    .dataframe thead th {\n",
       "        text-align: right;\n",
       "    }\n",
       "</style>\n",
       "<table border=\"1\" class=\"dataframe\">\n",
       "  <thead>\n",
       "    <tr style=\"text-align: right;\">\n",
       "      <th></th>\n",
       "      <th>Date</th>\n",
       "      <th>Symbol</th>\n",
       "      <th>Series</th>\n",
       "      <th>Prev Close</th>\n",
       "      <th>Open</th>\n",
       "      <th>High</th>\n",
       "      <th>Low</th>\n",
       "      <th>Last</th>\n",
       "      <th>Close</th>\n",
       "      <th>VWAP</th>\n",
       "      <th>Volume</th>\n",
       "      <th>Turnover</th>\n",
       "      <th>Trades</th>\n",
       "      <th>Deliverable Volume</th>\n",
       "      <th>%Deliverble</th>\n",
       "    </tr>\n",
       "  </thead>\n",
       "  <tbody>\n",
       "    <tr>\n",
       "      <th>0</th>\n",
       "      <td>2007-11-27</td>\n",
       "      <td>MUNDRAPORT</td>\n",
       "      <td>EQ</td>\n",
       "      <td>440.00</td>\n",
       "      <td>770.00</td>\n",
       "      <td>1050.00</td>\n",
       "      <td>770.00</td>\n",
       "      <td>959.0</td>\n",
       "      <td>962.90</td>\n",
       "      <td>984.72</td>\n",
       "      <td>27294366</td>\n",
       "      <td>2.687719e+15</td>\n",
       "      <td>NaN</td>\n",
       "      <td>9859619</td>\n",
       "      <td>0.3612</td>\n",
       "    </tr>\n",
       "    <tr>\n",
       "      <th>1</th>\n",
       "      <td>2007-11-28</td>\n",
       "      <td>MUNDRAPORT</td>\n",
       "      <td>EQ</td>\n",
       "      <td>962.90</td>\n",
       "      <td>984.00</td>\n",
       "      <td>990.00</td>\n",
       "      <td>874.00</td>\n",
       "      <td>885.0</td>\n",
       "      <td>893.90</td>\n",
       "      <td>941.38</td>\n",
       "      <td>4581338</td>\n",
       "      <td>4.312765e+14</td>\n",
       "      <td>NaN</td>\n",
       "      <td>1453278</td>\n",
       "      <td>0.3172</td>\n",
       "    </tr>\n",
       "    <tr>\n",
       "      <th>2</th>\n",
       "      <td>2007-11-29</td>\n",
       "      <td>MUNDRAPORT</td>\n",
       "      <td>EQ</td>\n",
       "      <td>893.90</td>\n",
       "      <td>909.00</td>\n",
       "      <td>914.75</td>\n",
       "      <td>841.00</td>\n",
       "      <td>887.0</td>\n",
       "      <td>884.20</td>\n",
       "      <td>888.09</td>\n",
       "      <td>5124121</td>\n",
       "      <td>4.550658e+14</td>\n",
       "      <td>NaN</td>\n",
       "      <td>1069678</td>\n",
       "      <td>0.2088</td>\n",
       "    </tr>\n",
       "    <tr>\n",
       "      <th>3</th>\n",
       "      <td>2007-11-30</td>\n",
       "      <td>MUNDRAPORT</td>\n",
       "      <td>EQ</td>\n",
       "      <td>884.20</td>\n",
       "      <td>890.00</td>\n",
       "      <td>958.00</td>\n",
       "      <td>890.00</td>\n",
       "      <td>929.0</td>\n",
       "      <td>921.55</td>\n",
       "      <td>929.17</td>\n",
       "      <td>4609762</td>\n",
       "      <td>4.283257e+14</td>\n",
       "      <td>NaN</td>\n",
       "      <td>1260913</td>\n",
       "      <td>0.2735</td>\n",
       "    </tr>\n",
       "    <tr>\n",
       "      <th>4</th>\n",
       "      <td>2007-12-03</td>\n",
       "      <td>MUNDRAPORT</td>\n",
       "      <td>EQ</td>\n",
       "      <td>921.55</td>\n",
       "      <td>939.75</td>\n",
       "      <td>995.00</td>\n",
       "      <td>922.00</td>\n",
       "      <td>980.0</td>\n",
       "      <td>969.30</td>\n",
       "      <td>965.65</td>\n",
       "      <td>2977470</td>\n",
       "      <td>2.875200e+14</td>\n",
       "      <td>NaN</td>\n",
       "      <td>816123</td>\n",
       "      <td>0.2741</td>\n",
       "    </tr>\n",
       "    <tr>\n",
       "      <th>...</th>\n",
       "      <td>...</td>\n",
       "      <td>...</td>\n",
       "      <td>...</td>\n",
       "      <td>...</td>\n",
       "      <td>...</td>\n",
       "      <td>...</td>\n",
       "      <td>...</td>\n",
       "      <td>...</td>\n",
       "      <td>...</td>\n",
       "      <td>...</td>\n",
       "      <td>...</td>\n",
       "      <td>...</td>\n",
       "      <td>...</td>\n",
       "      <td>...</td>\n",
       "      <td>...</td>\n",
       "    </tr>\n",
       "    <tr>\n",
       "      <th>3317</th>\n",
       "      <td>2021-04-26</td>\n",
       "      <td>ADANIPORTS</td>\n",
       "      <td>EQ</td>\n",
       "      <td>725.35</td>\n",
       "      <td>733.00</td>\n",
       "      <td>739.65</td>\n",
       "      <td>728.90</td>\n",
       "      <td>729.2</td>\n",
       "      <td>730.75</td>\n",
       "      <td>733.25</td>\n",
       "      <td>9390549</td>\n",
       "      <td>6.885658e+14</td>\n",
       "      <td>116457.0</td>\n",
       "      <td>838079</td>\n",
       "      <td>0.0892</td>\n",
       "    </tr>\n",
       "    <tr>\n",
       "      <th>3318</th>\n",
       "      <td>2021-04-27</td>\n",
       "      <td>ADANIPORTS</td>\n",
       "      <td>EQ</td>\n",
       "      <td>730.75</td>\n",
       "      <td>735.00</td>\n",
       "      <td>757.50</td>\n",
       "      <td>727.35</td>\n",
       "      <td>748.6</td>\n",
       "      <td>749.15</td>\n",
       "      <td>747.67</td>\n",
       "      <td>20573107</td>\n",
       "      <td>1.538191e+15</td>\n",
       "      <td>236896.0</td>\n",
       "      <td>1779639</td>\n",
       "      <td>0.0865</td>\n",
       "    </tr>\n",
       "    <tr>\n",
       "      <th>3319</th>\n",
       "      <td>2021-04-28</td>\n",
       "      <td>ADANIPORTS</td>\n",
       "      <td>EQ</td>\n",
       "      <td>749.15</td>\n",
       "      <td>755.00</td>\n",
       "      <td>760.00</td>\n",
       "      <td>741.10</td>\n",
       "      <td>743.4</td>\n",
       "      <td>746.25</td>\n",
       "      <td>751.02</td>\n",
       "      <td>11156977</td>\n",
       "      <td>8.379106e+14</td>\n",
       "      <td>130847.0</td>\n",
       "      <td>1342353</td>\n",
       "      <td>0.1203</td>\n",
       "    </tr>\n",
       "    <tr>\n",
       "      <th>3320</th>\n",
       "      <td>2021-04-29</td>\n",
       "      <td>ADANIPORTS</td>\n",
       "      <td>EQ</td>\n",
       "      <td>746.25</td>\n",
       "      <td>753.20</td>\n",
       "      <td>765.85</td>\n",
       "      <td>743.40</td>\n",
       "      <td>746.4</td>\n",
       "      <td>746.75</td>\n",
       "      <td>753.06</td>\n",
       "      <td>13851910</td>\n",
       "      <td>1.043139e+15</td>\n",
       "      <td>153293.0</td>\n",
       "      <td>1304895</td>\n",
       "      <td>0.0942</td>\n",
       "    </tr>\n",
       "    <tr>\n",
       "      <th>3321</th>\n",
       "      <td>2021-04-30</td>\n",
       "      <td>ADANIPORTS</td>\n",
       "      <td>EQ</td>\n",
       "      <td>746.75</td>\n",
       "      <td>739.00</td>\n",
       "      <td>759.45</td>\n",
       "      <td>724.50</td>\n",
       "      <td>726.4</td>\n",
       "      <td>730.05</td>\n",
       "      <td>743.35</td>\n",
       "      <td>12600934</td>\n",
       "      <td>9.366911e+14</td>\n",
       "      <td>132141.0</td>\n",
       "      <td>3514692</td>\n",
       "      <td>0.2789</td>\n",
       "    </tr>\n",
       "  </tbody>\n",
       "</table>\n",
       "<p>3322 rows × 15 columns</p>\n",
       "</div>"
      ],
      "text/plain": [
       "            Date      Symbol Series  Prev Close    Open     High     Low  \\\n",
       "0     2007-11-27  MUNDRAPORT     EQ      440.00  770.00  1050.00  770.00   \n",
       "1     2007-11-28  MUNDRAPORT     EQ      962.90  984.00   990.00  874.00   \n",
       "2     2007-11-29  MUNDRAPORT     EQ      893.90  909.00   914.75  841.00   \n",
       "3     2007-11-30  MUNDRAPORT     EQ      884.20  890.00   958.00  890.00   \n",
       "4     2007-12-03  MUNDRAPORT     EQ      921.55  939.75   995.00  922.00   \n",
       "...          ...         ...    ...         ...     ...      ...     ...   \n",
       "3317  2021-04-26  ADANIPORTS     EQ      725.35  733.00   739.65  728.90   \n",
       "3318  2021-04-27  ADANIPORTS     EQ      730.75  735.00   757.50  727.35   \n",
       "3319  2021-04-28  ADANIPORTS     EQ      749.15  755.00   760.00  741.10   \n",
       "3320  2021-04-29  ADANIPORTS     EQ      746.25  753.20   765.85  743.40   \n",
       "3321  2021-04-30  ADANIPORTS     EQ      746.75  739.00   759.45  724.50   \n",
       "\n",
       "       Last   Close    VWAP    Volume      Turnover    Trades  \\\n",
       "0     959.0  962.90  984.72  27294366  2.687719e+15       NaN   \n",
       "1     885.0  893.90  941.38   4581338  4.312765e+14       NaN   \n",
       "2     887.0  884.20  888.09   5124121  4.550658e+14       NaN   \n",
       "3     929.0  921.55  929.17   4609762  4.283257e+14       NaN   \n",
       "4     980.0  969.30  965.65   2977470  2.875200e+14       NaN   \n",
       "...     ...     ...     ...       ...           ...       ...   \n",
       "3317  729.2  730.75  733.25   9390549  6.885658e+14  116457.0   \n",
       "3318  748.6  749.15  747.67  20573107  1.538191e+15  236896.0   \n",
       "3319  743.4  746.25  751.02  11156977  8.379106e+14  130847.0   \n",
       "3320  746.4  746.75  753.06  13851910  1.043139e+15  153293.0   \n",
       "3321  726.4  730.05  743.35  12600934  9.366911e+14  132141.0   \n",
       "\n",
       "      Deliverable Volume  %Deliverble  \n",
       "0                9859619       0.3612  \n",
       "1                1453278       0.3172  \n",
       "2                1069678       0.2088  \n",
       "3                1260913       0.2735  \n",
       "4                 816123       0.2741  \n",
       "...                  ...          ...  \n",
       "3317              838079       0.0892  \n",
       "3318             1779639       0.0865  \n",
       "3319             1342353       0.1203  \n",
       "3320             1304895       0.0942  \n",
       "3321             3514692       0.2789  \n",
       "\n",
       "[3322 rows x 15 columns]"
      ]
     },
     "execution_count": 134,
     "metadata": {},
     "output_type": "execute_result"
    }
   ],
   "source": [
    "data3=pd.read_csv('ADANIPORTS.csv')\n",
    "data3"
   ]
  },
  {
   "cell_type": "code",
   "execution_count": 138,
   "id": "499def9f",
   "metadata": {},
   "outputs": [
    {
     "data": {
      "text/plain": [
       "0      2007-11-27\n",
       "1      2007-11-28\n",
       "2      2007-11-29\n",
       "3      2007-11-30\n",
       "4      2007-12-03\n",
       "          ...    \n",
       "3317   2021-04-26\n",
       "3318   2021-04-27\n",
       "3319   2021-04-28\n",
       "3320   2021-04-29\n",
       "3321   2021-04-30\n",
       "Name: Date, Length: 3322, dtype: datetime64[ns]"
      ]
     },
     "execution_count": 138,
     "metadata": {},
     "output_type": "execute_result"
    }
   ],
   "source": [
    "# Convert Date into Datetime\n",
    "data3['Date']=pd.to_datetime(data3['Date'])\n",
    "data3[\"Date\"]"
   ]
  },
  {
   "cell_type": "code",
   "execution_count": 140,
   "id": "f3ab9f92",
   "metadata": {},
   "outputs": [
    {
     "data": {
      "text/plain": [
       "Index(['Date', 'Symbol', 'Series', 'Prev Close', 'Open', 'High', 'Low', 'Last',\n",
       "       'Close', 'VWAP', 'Volume', 'Turnover', 'Trades', 'Deliverable Volume',\n",
       "       '%Deliverble'],\n",
       "      dtype='object')"
      ]
     },
     "execution_count": 140,
     "metadata": {},
     "output_type": "execute_result"
    }
   ],
   "source": [
    "data3.columns"
   ]
  },
  {
   "cell_type": "code",
   "execution_count": 147,
   "id": "aa6c6e1a",
   "metadata": {},
   "outputs": [],
   "source": [
    "data33=data3.drop(columns=[ 'Symbol', 'Series', 'Prev Close', 'Open', 'Low', 'Last',\n",
    "       'Close', 'VWAP', 'Volume', 'Turnover', 'Trades', 'Deliverable Volume',\n",
    "       '%Deliverble'],axis=1)"
   ]
  },
  {
   "cell_type": "code",
   "execution_count": 148,
   "id": "13882e9b",
   "metadata": {},
   "outputs": [
    {
     "data": {
      "text/html": [
       "<div>\n",
       "<style scoped>\n",
       "    .dataframe tbody tr th:only-of-type {\n",
       "        vertical-align: middle;\n",
       "    }\n",
       "\n",
       "    .dataframe tbody tr th {\n",
       "        vertical-align: top;\n",
       "    }\n",
       "\n",
       "    .dataframe thead th {\n",
       "        text-align: right;\n",
       "    }\n",
       "</style>\n",
       "<table border=\"1\" class=\"dataframe\">\n",
       "  <thead>\n",
       "    <tr style=\"text-align: right;\">\n",
       "      <th></th>\n",
       "      <th>Date</th>\n",
       "      <th>High</th>\n",
       "    </tr>\n",
       "  </thead>\n",
       "  <tbody>\n",
       "    <tr>\n",
       "      <th>0</th>\n",
       "      <td>2007-11-27</td>\n",
       "      <td>1050.00</td>\n",
       "    </tr>\n",
       "    <tr>\n",
       "      <th>1</th>\n",
       "      <td>2007-11-28</td>\n",
       "      <td>990.00</td>\n",
       "    </tr>\n",
       "    <tr>\n",
       "      <th>2</th>\n",
       "      <td>2007-11-29</td>\n",
       "      <td>914.75</td>\n",
       "    </tr>\n",
       "    <tr>\n",
       "      <th>3</th>\n",
       "      <td>2007-11-30</td>\n",
       "      <td>958.00</td>\n",
       "    </tr>\n",
       "    <tr>\n",
       "      <th>4</th>\n",
       "      <td>2007-12-03</td>\n",
       "      <td>995.00</td>\n",
       "    </tr>\n",
       "  </tbody>\n",
       "</table>\n",
       "</div>"
      ],
      "text/plain": [
       "        Date     High\n",
       "0 2007-11-27  1050.00\n",
       "1 2007-11-28   990.00\n",
       "2 2007-11-29   914.75\n",
       "3 2007-11-30   958.00\n",
       "4 2007-12-03   995.00"
      ]
     },
     "execution_count": 148,
     "metadata": {},
     "output_type": "execute_result"
    }
   ],
   "source": [
    "data33.head()"
   ]
  },
  {
   "cell_type": "code",
   "execution_count": 149,
   "id": "d237523a",
   "metadata": {},
   "outputs": [
    {
     "data": {
      "text/html": [
       "<div>\n",
       "<style scoped>\n",
       "    .dataframe tbody tr th:only-of-type {\n",
       "        vertical-align: middle;\n",
       "    }\n",
       "\n",
       "    .dataframe tbody tr th {\n",
       "        vertical-align: top;\n",
       "    }\n",
       "\n",
       "    .dataframe thead th {\n",
       "        text-align: right;\n",
       "    }\n",
       "</style>\n",
       "<table border=\"1\" class=\"dataframe\">\n",
       "  <thead>\n",
       "    <tr style=\"text-align: right;\">\n",
       "      <th></th>\n",
       "      <th>High</th>\n",
       "    </tr>\n",
       "    <tr>\n",
       "      <th>Date</th>\n",
       "      <th></th>\n",
       "    </tr>\n",
       "  </thead>\n",
       "  <tbody>\n",
       "    <tr>\n",
       "      <th>2007-11-27</th>\n",
       "      <td>1050.00</td>\n",
       "    </tr>\n",
       "    <tr>\n",
       "      <th>2007-11-28</th>\n",
       "      <td>990.00</td>\n",
       "    </tr>\n",
       "    <tr>\n",
       "      <th>2007-11-29</th>\n",
       "      <td>914.75</td>\n",
       "    </tr>\n",
       "    <tr>\n",
       "      <th>2007-11-30</th>\n",
       "      <td>958.00</td>\n",
       "    </tr>\n",
       "    <tr>\n",
       "      <th>2007-12-03</th>\n",
       "      <td>995.00</td>\n",
       "    </tr>\n",
       "  </tbody>\n",
       "</table>\n",
       "</div>"
      ],
      "text/plain": [
       "               High\n",
       "Date               \n",
       "2007-11-27  1050.00\n",
       "2007-11-28   990.00\n",
       "2007-11-29   914.75\n",
       "2007-11-30   958.00\n",
       "2007-12-03   995.00"
      ]
     },
     "execution_count": 149,
     "metadata": {},
     "output_type": "execute_result"
    }
   ],
   "source": [
    "data33=data33.set_index(\"Date\")\n",
    "data33.head()"
   ]
  },
  {
   "cell_type": "code",
   "execution_count": 150,
   "id": "84ddfa3c",
   "metadata": {},
   "outputs": [
    {
     "data": {
      "image/png": "[encoded data removed]",
      "text/plain": [
       "<Figure size 640x480 with 1 Axes>"
      ]
     },
     "metadata": {},
     "output_type": "display_data"
    }
   ],
   "source": [
    "#visualize\n",
    "plt.plot(data33)\n",
    "plt.show()"
   ]
  },
  {
   "cell_type": "code",
   "execution_count": 151,
   "id": "63990f7a",
   "metadata": {},
   "outputs": [
    {
     "data": {
      "image/png": "[encoded data removed]",
      "text/plain": [
       "<Figure size 640x480 with 1 Axes>"
      ]
     },
     "metadata": {},
     "output_type": "display_data"
    }
   ],
   "source": [
    "#Check for Staionarity\n",
    "#Method 1: rolling\n",
    "#Determining rolling statistics\n",
    "rolmean= data33.rolling(window=12).mean()\n",
    "rolstd= data33.rolling(window=12).std()\n",
    "\n",
    "#Plot rolling statistics\n",
    "orig= plt.plot(data33, color=\"blue\", label=\"originial\")\n",
    "mean= plt.plot(rolmean, color=\"red\", label=\"rolling mean\")\n",
    "std= plt.plot(rolstd, color=\"black\", label=\"rolling std\")\n",
    "plt.title(\"rolling mean and standard deviation\")\n",
    "plt.legend()\n",
    "plt.show()"
   ]
  },
  {
   "cell_type": "code",
   "execution_count": 152,
   "id": "ce5e5121",
   "metadata": {},
   "outputs": [
    {
     "data": {
      "text/plain": [
       "(-3.136090355755012,\n",
       " 0.02399508825177784,\n",
       " 1,\n",
       " 3320,\n",
       " {'1%': -3.4323211937441576,\n",
       "  '5%': -2.8624109575101833,\n",
       "  '10%': -2.5672336283386556},\n",
       " 27739.08583946894)"
      ]
     },
     "execution_count": 152,
     "metadata": {},
     "output_type": "execute_result"
    }
   ],
   "source": [
    "#Method 1: ADF\n",
    "# ADF Test - null hypothesis - non stationary - if p value< 5% reject null hpothesis\n",
    "\n",
    "from statsmodels.tsa.stattools import adfuller\n",
    "adfuller_result= adfuller(data33[\"High\"].values)\n",
    "adfuller_result"
   ]
  },
  {
   "cell_type": "code",
   "execution_count": 153,
   "id": "4970397a",
   "metadata": {},
   "outputs": [
    {
     "name": "stdout",
     "output_type": "stream",
     "text": [
      "p-value: 0.02399508825177784\n"
     ]
    }
   ],
   "source": [
    "print(\"p-value: {}\".format(adfuller_result[1]))"
   ]
  },
  {
   "cell_type": "markdown",
   "id": "e891f947",
   "metadata": {},
   "source": [
    "As 0.02<0.05, the time series is stationary"
   ]
  },
  {
   "cell_type": "markdown",
   "id": "c2a98494",
   "metadata": {},
   "source": [
    "Plot ACF/PACF and find p,d,q parameters"
   ]
  },
  {
   "cell_type": "code",
   "execution_count": 163,
   "id": "947f39d3",
   "metadata": {},
   "outputs": [
    {
     "data": {
      "image/png": "[encoded data removed]",
      "text/plain": [
       "<Figure size 640x480 with 1 Axes>"
      ]
     },
     "metadata": {},
     "output_type": "display_data"
    },
    {
     "data": {
      "image/png": "[encoded data removed]",
      "text/plain": [
       "<Figure size 640x480 with 1 Axes>"
      ]
     },
     "metadata": {},
     "output_type": "display_data"
    }
   ],
   "source": [
    "from statsmodels.tsa.stattools import acf, pacf\n",
    "import statsmodels.api as sm\n",
    "fig= sm.graphics.tsa.plot_acf(data33, lags=40)\n",
    "fig= sm.graphics.tsa.plot_pacf(data33, lags=40)"
   ]
  },
  {
   "cell_type": "markdown",
   "id": "e6325e18",
   "metadata": {},
   "source": [
    "From ACF curve, optimal values of q in the ARIMA model must be 1."
   ]
  },
  {
   "cell_type": "markdown",
   "id": "9bb2a937",
   "metadata": {},
   "source": [
    "From PACF curve, optimal values of p in the ARIMA model 1."
   ]
  },
  {
   "cell_type": "code",
   "execution_count": 170,
   "id": "498709ae",
   "metadata": {},
   "outputs": [
    {
     "name": "stderr",
     "output_type": "stream",
     "text": [
      "C:\\ProgramData\\Anaconda3\\lib\\site-packages\\statsmodels\\tsa\\base\\tsa_model.py:471: ValueWarning: A date index has been provided, but it has no associated frequency information and so will be ignored when e.g. forecasting.\n",
      "  self._init_dates(dates, freq)\n",
      "C:\\ProgramData\\Anaconda3\\lib\\site-packages\\statsmodels\\tsa\\base\\tsa_model.py:471: ValueWarning: A date index has been provided, but it has no associated frequency information and so will be ignored when e.g. forecasting.\n",
      "  self._init_dates(dates, freq)\n",
      "C:\\ProgramData\\Anaconda3\\lib\\site-packages\\statsmodels\\tsa\\base\\tsa_model.py:471: ValueWarning: A date index has been provided, but it has no associated frequency information and so will be ignored when e.g. forecasting.\n",
      "  self._init_dates(dates, freq)\n"
     ]
    },
    {
     "data": {
      "image/png": "[encoded data removed]",
      "text/plain": [
       "<Figure size 640x480 with 1 Axes>"
      ]
     },
     "metadata": {},
     "output_type": "display_data"
    }
   ],
   "source": [
    "#Build ARIMA MODEL\n",
    "from statsmodels.tsa.arima.model import ARIMA\n",
    "\n",
    "model=ARIMA(data33, order=(1,1,1))\n",
    "results_ARIMA= model.fit()\n",
    "plt.plot(data33)\n",
    "plt.plot(results_ARIMA.fittedvalues, color=\"red\")\n",
    "plt.show()"
   ]
  },
  {
   "cell_type": "markdown",
   "id": "e9a3616c",
   "metadata": {},
   "source": [
    "# MODEL 4: ARIMA"
   ]
  },
  {
   "cell_type": "code",
   "execution_count": 179,
   "id": "058ccab2",
   "metadata": {},
   "outputs": [
    {
     "data": {
      "text/html": [
       "<div>\n",
       "<style scoped>\n",
       "    .dataframe tbody tr th:only-of-type {\n",
       "        vertical-align: middle;\n",
       "    }\n",
       "\n",
       "    .dataframe tbody tr th {\n",
       "        vertical-align: top;\n",
       "    }\n",
       "\n",
       "    .dataframe thead th {\n",
       "        text-align: right;\n",
       "    }\n",
       "</style>\n",
       "<table border=\"1\" class=\"dataframe\">\n",
       "  <thead>\n",
       "    <tr style=\"text-align: right;\">\n",
       "      <th></th>\n",
       "      <th>Date</th>\n",
       "      <th>Symbol</th>\n",
       "      <th>Series</th>\n",
       "      <th>Prev Close</th>\n",
       "      <th>Open</th>\n",
       "      <th>High</th>\n",
       "      <th>Low</th>\n",
       "      <th>Last</th>\n",
       "      <th>Close</th>\n",
       "      <th>VWAP</th>\n",
       "      <th>Volume</th>\n",
       "      <th>Turnover</th>\n",
       "      <th>Trades</th>\n",
       "      <th>Deliverable Volume</th>\n",
       "      <th>%Deliverble</th>\n",
       "    </tr>\n",
       "  </thead>\n",
       "  <tbody>\n",
       "    <tr>\n",
       "      <th>0</th>\n",
       "      <td>2007-11-27</td>\n",
       "      <td>MUNDRAPORT</td>\n",
       "      <td>EQ</td>\n",
       "      <td>440.00</td>\n",
       "      <td>770.00</td>\n",
       "      <td>1050.00</td>\n",
       "      <td>770.00</td>\n",
       "      <td>959.0</td>\n",
       "      <td>962.90</td>\n",
       "      <td>984.72</td>\n",
       "      <td>27294366</td>\n",
       "      <td>2.687719e+15</td>\n",
       "      <td>NaN</td>\n",
       "      <td>9859619</td>\n",
       "      <td>0.3612</td>\n",
       "    </tr>\n",
       "    <tr>\n",
       "      <th>1</th>\n",
       "      <td>2007-11-28</td>\n",
       "      <td>MUNDRAPORT</td>\n",
       "      <td>EQ</td>\n",
       "      <td>962.90</td>\n",
       "      <td>984.00</td>\n",
       "      <td>990.00</td>\n",
       "      <td>874.00</td>\n",
       "      <td>885.0</td>\n",
       "      <td>893.90</td>\n",
       "      <td>941.38</td>\n",
       "      <td>4581338</td>\n",
       "      <td>4.312765e+14</td>\n",
       "      <td>NaN</td>\n",
       "      <td>1453278</td>\n",
       "      <td>0.3172</td>\n",
       "    </tr>\n",
       "    <tr>\n",
       "      <th>2</th>\n",
       "      <td>2007-11-29</td>\n",
       "      <td>MUNDRAPORT</td>\n",
       "      <td>EQ</td>\n",
       "      <td>893.90</td>\n",
       "      <td>909.00</td>\n",
       "      <td>914.75</td>\n",
       "      <td>841.00</td>\n",
       "      <td>887.0</td>\n",
       "      <td>884.20</td>\n",
       "      <td>888.09</td>\n",
       "      <td>5124121</td>\n",
       "      <td>4.550658e+14</td>\n",
       "      <td>NaN</td>\n",
       "      <td>1069678</td>\n",
       "      <td>0.2088</td>\n",
       "    </tr>\n",
       "    <tr>\n",
       "      <th>3</th>\n",
       "      <td>2007-11-30</td>\n",
       "      <td>MUNDRAPORT</td>\n",
       "      <td>EQ</td>\n",
       "      <td>884.20</td>\n",
       "      <td>890.00</td>\n",
       "      <td>958.00</td>\n",
       "      <td>890.00</td>\n",
       "      <td>929.0</td>\n",
       "      <td>921.55</td>\n",
       "      <td>929.17</td>\n",
       "      <td>4609762</td>\n",
       "      <td>4.283257e+14</td>\n",
       "      <td>NaN</td>\n",
       "      <td>1260913</td>\n",
       "      <td>0.2735</td>\n",
       "    </tr>\n",
       "    <tr>\n",
       "      <th>4</th>\n",
       "      <td>2007-12-03</td>\n",
       "      <td>MUNDRAPORT</td>\n",
       "      <td>EQ</td>\n",
       "      <td>921.55</td>\n",
       "      <td>939.75</td>\n",
       "      <td>995.00</td>\n",
       "      <td>922.00</td>\n",
       "      <td>980.0</td>\n",
       "      <td>969.30</td>\n",
       "      <td>965.65</td>\n",
       "      <td>2977470</td>\n",
       "      <td>2.875200e+14</td>\n",
       "      <td>NaN</td>\n",
       "      <td>816123</td>\n",
       "      <td>0.2741</td>\n",
       "    </tr>\n",
       "    <tr>\n",
       "      <th>...</th>\n",
       "      <td>...</td>\n",
       "      <td>...</td>\n",
       "      <td>...</td>\n",
       "      <td>...</td>\n",
       "      <td>...</td>\n",
       "      <td>...</td>\n",
       "      <td>...</td>\n",
       "      <td>...</td>\n",
       "      <td>...</td>\n",
       "      <td>...</td>\n",
       "      <td>...</td>\n",
       "      <td>...</td>\n",
       "      <td>...</td>\n",
       "      <td>...</td>\n",
       "      <td>...</td>\n",
       "    </tr>\n",
       "    <tr>\n",
       "      <th>3317</th>\n",
       "      <td>2021-04-26</td>\n",
       "      <td>ADANIPORTS</td>\n",
       "      <td>EQ</td>\n",
       "      <td>725.35</td>\n",
       "      <td>733.00</td>\n",
       "      <td>739.65</td>\n",
       "      <td>728.90</td>\n",
       "      <td>729.2</td>\n",
       "      <td>730.75</td>\n",
       "      <td>733.25</td>\n",
       "      <td>9390549</td>\n",
       "      <td>6.885658e+14</td>\n",
       "      <td>116457.0</td>\n",
       "      <td>838079</td>\n",
       "      <td>0.0892</td>\n",
       "    </tr>\n",
       "    <tr>\n",
       "      <th>3318</th>\n",
       "      <td>2021-04-27</td>\n",
       "      <td>ADANIPORTS</td>\n",
       "      <td>EQ</td>\n",
       "      <td>730.75</td>\n",
       "      <td>735.00</td>\n",
       "      <td>757.50</td>\n",
       "      <td>727.35</td>\n",
       "      <td>748.6</td>\n",
       "      <td>749.15</td>\n",
       "      <td>747.67</td>\n",
       "      <td>20573107</td>\n",
       "      <td>1.538191e+15</td>\n",
       "      <td>236896.0</td>\n",
       "      <td>1779639</td>\n",
       "      <td>0.0865</td>\n",
       "    </tr>\n",
       "    <tr>\n",
       "      <th>3319</th>\n",
       "      <td>2021-04-28</td>\n",
       "      <td>ADANIPORTS</td>\n",
       "      <td>EQ</td>\n",
       "      <td>749.15</td>\n",
       "      <td>755.00</td>\n",
       "      <td>760.00</td>\n",
       "      <td>741.10</td>\n",
       "      <td>743.4</td>\n",
       "      <td>746.25</td>\n",
       "      <td>751.02</td>\n",
       "      <td>11156977</td>\n",
       "      <td>8.379106e+14</td>\n",
       "      <td>130847.0</td>\n",
       "      <td>1342353</td>\n",
       "      <td>0.1203</td>\n",
       "    </tr>\n",
       "    <tr>\n",
       "      <th>3320</th>\n",
       "      <td>2021-04-29</td>\n",
       "      <td>ADANIPORTS</td>\n",
       "      <td>EQ</td>\n",
       "      <td>746.25</td>\n",
       "      <td>753.20</td>\n",
       "      <td>765.85</td>\n",
       "      <td>743.40</td>\n",
       "      <td>746.4</td>\n",
       "      <td>746.75</td>\n",
       "      <td>753.06</td>\n",
       "      <td>13851910</td>\n",
       "      <td>1.043139e+15</td>\n",
       "      <td>153293.0</td>\n",
       "      <td>1304895</td>\n",
       "      <td>0.0942</td>\n",
       "    </tr>\n",
       "    <tr>\n",
       "      <th>3321</th>\n",
       "      <td>2021-04-30</td>\n",
       "      <td>ADANIPORTS</td>\n",
       "      <td>EQ</td>\n",
       "      <td>746.75</td>\n",
       "      <td>739.00</td>\n",
       "      <td>759.45</td>\n",
       "      <td>724.50</td>\n",
       "      <td>726.4</td>\n",
       "      <td>730.05</td>\n",
       "      <td>743.35</td>\n",
       "      <td>12600934</td>\n",
       "      <td>9.366911e+14</td>\n",
       "      <td>132141.0</td>\n",
       "      <td>3514692</td>\n",
       "      <td>0.2789</td>\n",
       "    </tr>\n",
       "  </tbody>\n",
       "</table>\n",
       "<p>3322 rows × 15 columns</p>\n",
       "</div>"
      ],
      "text/plain": [
       "           Date      Symbol Series  Prev Close    Open     High     Low  \\\n",
       "0    2007-11-27  MUNDRAPORT     EQ      440.00  770.00  1050.00  770.00   \n",
       "1    2007-11-28  MUNDRAPORT     EQ      962.90  984.00   990.00  874.00   \n",
       "2    2007-11-29  MUNDRAPORT     EQ      893.90  909.00   914.75  841.00   \n",
       "3    2007-11-30  MUNDRAPORT     EQ      884.20  890.00   958.00  890.00   \n",
       "4    2007-12-03  MUNDRAPORT     EQ      921.55  939.75   995.00  922.00   \n",
       "...         ...         ...    ...         ...     ...      ...     ...   \n",
       "3317 2021-04-26  ADANIPORTS     EQ      725.35  733.00   739.65  728.90   \n",
       "3318 2021-04-27  ADANIPORTS     EQ      730.75  735.00   757.50  727.35   \n",
       "3319 2021-04-28  ADANIPORTS     EQ      749.15  755.00   760.00  741.10   \n",
       "3320 2021-04-29  ADANIPORTS     EQ      746.25  753.20   765.85  743.40   \n",
       "3321 2021-04-30  ADANIPORTS     EQ      746.75  739.00   759.45  724.50   \n",
       "\n",
       "       Last   Close    VWAP    Volume      Turnover    Trades  \\\n",
       "0     959.0  962.90  984.72  27294366  2.687719e+15       NaN   \n",
       "1     885.0  893.90  941.38   4581338  4.312765e+14       NaN   \n",
       "2     887.0  884.20  888.09   5124121  4.550658e+14       NaN   \n",
       "3     929.0  921.55  929.17   4609762  4.283257e+14       NaN   \n",
       "4     980.0  969.30  965.65   2977470  2.875200e+14       NaN   \n",
       "...     ...     ...     ...       ...           ...       ...   \n",
       "3317  729.2  730.75  733.25   9390549  6.885658e+14  116457.0   \n",
       "3318  748.6  749.15  747.67  20573107  1.538191e+15  236896.0   \n",
       "3319  743.4  746.25  751.02  11156977  8.379106e+14  130847.0   \n",
       "3320  746.4  746.75  753.06  13851910  1.043139e+15  153293.0   \n",
       "3321  726.4  730.05  743.35  12600934  9.366911e+14  132141.0   \n",
       "\n",
       "      Deliverable Volume  %Deliverble  \n",
       "0                9859619       0.3612  \n",
       "1                1453278       0.3172  \n",
       "2                1069678       0.2088  \n",
       "3                1260913       0.2735  \n",
       "4                 816123       0.2741  \n",
       "...                  ...          ...  \n",
       "3317              838079       0.0892  \n",
       "3318             1779639       0.0865  \n",
       "3319             1342353       0.1203  \n",
       "3320             1304895       0.0942  \n",
       "3321             3514692       0.2789  \n",
       "\n",
       "[3322 rows x 15 columns]"
      ]
     },
     "execution_count": 179,
     "metadata": {},
     "output_type": "execute_result"
    }
   ],
   "source": [
    "data4=pd.read_csv('ADANIPORTS.csv')\n",
    "data3"
   ]
  },
  {
   "cell_type": "code",
   "execution_count": 180,
   "id": "62fbfc7b",
   "metadata": {},
   "outputs": [
    {
     "data": {
      "text/plain": [
       "0      2007-11-27\n",
       "1      2007-11-28\n",
       "2      2007-11-29\n",
       "3      2007-11-30\n",
       "4      2007-12-03\n",
       "          ...    \n",
       "3317   2021-04-26\n",
       "3318   2021-04-27\n",
       "3319   2021-04-28\n",
       "3320   2021-04-29\n",
       "3321   2021-04-30\n",
       "Name: Date, Length: 3322, dtype: datetime64[ns]"
      ]
     },
     "execution_count": 180,
     "metadata": {},
     "output_type": "execute_result"
    }
   ],
   "source": [
    "# Convert Date into Datetime\n",
    "data4['Date']=pd.to_datetime(data4['Date'])\n",
    "data4[\"Date\"]"
   ]
  },
  {
   "cell_type": "code",
   "execution_count": 181,
   "id": "9c142739",
   "metadata": {},
   "outputs": [],
   "source": [
    "data44=data3.drop(columns=[ 'Symbol', 'Series', 'Prev Close', 'Open', 'Low', 'Last',\n",
    "       'Close', 'VWAP', 'Volume', 'Turnover', 'Trades', 'Deliverable Volume',\n",
    "       '%Deliverble'],axis=1)"
   ]
  },
  {
   "cell_type": "code",
   "execution_count": 182,
   "id": "32167ac6",
   "metadata": {},
   "outputs": [
    {
     "data": {
      "text/html": [
       "<div>\n",
       "<style scoped>\n",
       "    .dataframe tbody tr th:only-of-type {\n",
       "        vertical-align: middle;\n",
       "    }\n",
       "\n",
       "    .dataframe tbody tr th {\n",
       "        vertical-align: top;\n",
       "    }\n",
       "\n",
       "    .dataframe thead th {\n",
       "        text-align: right;\n",
       "    }\n",
       "</style>\n",
       "<table border=\"1\" class=\"dataframe\">\n",
       "  <thead>\n",
       "    <tr style=\"text-align: right;\">\n",
       "      <th></th>\n",
       "      <th>Date</th>\n",
       "      <th>High</th>\n",
       "    </tr>\n",
       "  </thead>\n",
       "  <tbody>\n",
       "    <tr>\n",
       "      <th>0</th>\n",
       "      <td>2007-11-27</td>\n",
       "      <td>1050.00</td>\n",
       "    </tr>\n",
       "    <tr>\n",
       "      <th>1</th>\n",
       "      <td>2007-11-28</td>\n",
       "      <td>990.00</td>\n",
       "    </tr>\n",
       "    <tr>\n",
       "      <th>2</th>\n",
       "      <td>2007-11-29</td>\n",
       "      <td>914.75</td>\n",
       "    </tr>\n",
       "    <tr>\n",
       "      <th>3</th>\n",
       "      <td>2007-11-30</td>\n",
       "      <td>958.00</td>\n",
       "    </tr>\n",
       "    <tr>\n",
       "      <th>4</th>\n",
       "      <td>2007-12-03</td>\n",
       "      <td>995.00</td>\n",
       "    </tr>\n",
       "  </tbody>\n",
       "</table>\n",
       "</div>"
      ],
      "text/plain": [
       "        Date     High\n",
       "0 2007-11-27  1050.00\n",
       "1 2007-11-28   990.00\n",
       "2 2007-11-29   914.75\n",
       "3 2007-11-30   958.00\n",
       "4 2007-12-03   995.00"
      ]
     },
     "execution_count": 182,
     "metadata": {},
     "output_type": "execute_result"
    }
   ],
   "source": [
    "data44.head()"
   ]
  },
  {
   "cell_type": "code",
   "execution_count": 183,
   "id": "5e88c108",
   "metadata": {},
   "outputs": [
    {
     "data": {
      "text/html": [
       "<div>\n",
       "<style scoped>\n",
       "    .dataframe tbody tr th:only-of-type {\n",
       "        vertical-align: middle;\n",
       "    }\n",
       "\n",
       "    .dataframe tbody tr th {\n",
       "        vertical-align: top;\n",
       "    }\n",
       "\n",
       "    .dataframe thead th {\n",
       "        text-align: right;\n",
       "    }\n",
       "</style>\n",
       "<table border=\"1\" class=\"dataframe\">\n",
       "  <thead>\n",
       "    <tr style=\"text-align: right;\">\n",
       "      <th></th>\n",
       "      <th>High</th>\n",
       "    </tr>\n",
       "    <tr>\n",
       "      <th>Date</th>\n",
       "      <th></th>\n",
       "    </tr>\n",
       "  </thead>\n",
       "  <tbody>\n",
       "    <tr>\n",
       "      <th>2007-11-27</th>\n",
       "      <td>1050.00</td>\n",
       "    </tr>\n",
       "    <tr>\n",
       "      <th>2007-11-28</th>\n",
       "      <td>990.00</td>\n",
       "    </tr>\n",
       "    <tr>\n",
       "      <th>2007-11-29</th>\n",
       "      <td>914.75</td>\n",
       "    </tr>\n",
       "    <tr>\n",
       "      <th>2007-11-30</th>\n",
       "      <td>958.00</td>\n",
       "    </tr>\n",
       "    <tr>\n",
       "      <th>2007-12-03</th>\n",
       "      <td>995.00</td>\n",
       "    </tr>\n",
       "  </tbody>\n",
       "</table>\n",
       "</div>"
      ],
      "text/plain": [
       "               High\n",
       "Date               \n",
       "2007-11-27  1050.00\n",
       "2007-11-28   990.00\n",
       "2007-11-29   914.75\n",
       "2007-11-30   958.00\n",
       "2007-12-03   995.00"
      ]
     },
     "execution_count": 183,
     "metadata": {},
     "output_type": "execute_result"
    }
   ],
   "source": [
    "data44=data44.set_index(\"Date\")\n",
    "data44.head()"
   ]
  },
  {
   "cell_type": "code",
   "execution_count": 184,
   "id": "2e31dcd8",
   "metadata": {},
   "outputs": [
    {
     "data": {
      "image/png": "[encoded data removed]",
      "text/plain": [
       "<Figure size 640x480 with 1 Axes>"
      ]
     },
     "metadata": {},
     "output_type": "display_data"
    }
   ],
   "source": [
    "#visualize\n",
    "plt.plot(data44)\n",
    "plt.show()"
   ]
  },
  {
   "cell_type": "code",
   "execution_count": 185,
   "id": "17ef0010",
   "metadata": {},
   "outputs": [],
   "source": [
    "#Testing For Stationarity\n",
    "from statsmodels.tsa.stattools import adfuller"
   ]
  },
  {
   "cell_type": "code",
   "execution_count": 187,
   "id": "878cd6e0",
   "metadata": {},
   "outputs": [],
   "source": [
    "test_result=adfuller(df['High'])"
   ]
  },
  {
   "cell_type": "code",
   "execution_count": 193,
   "id": "0868fa2d",
   "metadata": {},
   "outputs": [],
   "source": [
    "#Ho: It is non stationary\n",
    "#H1: It is stationary\n",
    "\n",
    "def adfuller_test(High):\n",
    "    result=adfuller(High)\n",
    "    labels = ['ADF Test Statistic','p-value','#Lags Used','Number of Observations Used']\n",
    "    for value,label in zip(result,labels):\n",
    "        print(label+' : '+str(value) )\n",
    "    if result[1] <= 0.05:\n",
    "        print(\"strong evidence against the null hypothesis(Ho), reject the null hypothesis.Data has no unit root and is stationary\")\n",
    "    else:\n",
    "        print(\"weak evidence against null hypothesis, time series has a unit root, indicating it is non-stationary \")"
   ]
  },
  {
   "cell_type": "code",
   "execution_count": 194,
   "id": "7e64ee8c",
   "metadata": {},
   "outputs": [
    {
     "name": "stdout",
     "output_type": "stream",
     "text": [
      "ADF Test Statistic : -3.136090355755012\n",
      "p-value : 0.02399508825177784\n",
      "#Lags Used : 1\n",
      "Number of Observations Used : 3320\n",
      "strong evidence against the null hypothesis(Ho), reject the null hypothesis.Data has no unit root and is stationary\n"
     ]
    }
   ],
   "source": [
    "adfuller_test(df['High'])"
   ]
  },
  {
   "cell_type": "markdown",
   "id": "99e0fac0",
   "metadata": {},
   "source": [
    "Hence we can see that our data is stationary as p-value<0.05"
   ]
  },
  {
   "cell_type": "code",
   "execution_count": 195,
   "id": "71c174d6",
   "metadata": {},
   "outputs": [],
   "source": [
    "# Non-Seasonal data\n",
    "data44['LastFirstDifference'] = data44['High'] - data44['High'].shift(1)"
   ]
  },
  {
   "cell_type": "code",
   "execution_count": 196,
   "id": "3125ec67",
   "metadata": {},
   "outputs": [
    {
     "data": {
      "text/plain": [
       "Date\n",
       "2007-11-27        NaN\n",
       "2007-11-28    1050.00\n",
       "2007-11-29     990.00\n",
       "2007-11-30     914.75\n",
       "2007-12-03     958.00\n",
       "               ...   \n",
       "2021-04-26     746.90\n",
       "2021-04-27     739.65\n",
       "2021-04-28     757.50\n",
       "2021-04-29     760.00\n",
       "2021-04-30     765.85\n",
       "Name: High, Length: 3322, dtype: float64"
      ]
     },
     "execution_count": 196,
     "metadata": {},
     "output_type": "execute_result"
    }
   ],
   "source": [
    "data44['High'].shift(1)"
   ]
  },
  {
   "cell_type": "code",
   "execution_count": 197,
   "id": "0baa545e",
   "metadata": {},
   "outputs": [
    {
     "name": "stdout",
     "output_type": "stream",
     "text": [
      "ADF Test Statistic : -55.5282703168787\n",
      "p-value : 0.0\n",
      "#Lags Used : 0\n",
      "Number of Observations Used : 3320\n",
      "strong evidence against the null hypothesis(Ho), reject the null hypothesis.Data has no unit root and is stationary\n"
     ]
    }
   ],
   "source": [
    "#Again test dickey fuller test\n",
    "adfuller_test(data44['LastFirstDifference'].dropna())"
   ]
  },
  {
   "cell_type": "code",
   "execution_count": 198,
   "id": "bac0da6c",
   "metadata": {},
   "outputs": [
    {
     "data": {
      "text/plain": [
       "<AxesSubplot:xlabel='Date'>"
      ]
     },
     "execution_count": 198,
     "metadata": {},
     "output_type": "execute_result"
    },
    {
     "data": {
      "image/png": "[encoded data removed]",
      "text/plain": [
       "<Figure size 640x480 with 1 Axes>"
      ]
     },
     "metadata": {},
     "output_type": "display_data"
    }
   ],
   "source": [
    "data44['LastFirstDifference'].plot()"
   ]
  },
  {
   "cell_type": "code",
   "execution_count": 199,
   "id": "519b0a27",
   "metadata": {},
   "outputs": [
    {
     "ename": "ModuleNotFoundError",
     "evalue": "No module named 'pandas.tools'",
     "output_type": "error",
     "traceback": [
      "\u001b[1;31m---------------------------------------------------------------------------\u001b[0m",
      "\u001b[1;31mModuleNotFoundError\u001b[0m                       Traceback (most recent call last)",
      "\u001b[1;32m~\\AppData\\Local\\Temp\\ipykernel_6744\\2827842373.py\u001b[0m in \u001b[0;36m<module>\u001b[1;34m\u001b[0m\n\u001b[1;32m----> 1\u001b[1;33m \u001b[1;32mfrom\u001b[0m \u001b[0mpandas\u001b[0m\u001b[1;33m.\u001b[0m\u001b[0mtools\u001b[0m\u001b[1;33m.\u001b[0m\u001b[0mplotting\u001b[0m \u001b[1;32mimport\u001b[0m \u001b[0mautocorrelation_plot\u001b[0m\u001b[1;33m\u001b[0m\u001b[1;33m\u001b[0m\u001b[0m\n\u001b[0m\u001b[0;32m      2\u001b[0m \u001b[0mautocorrelation_plot\u001b[0m\u001b[1;33m(\u001b[0m\u001b[0mdata44\u001b[0m\u001b[1;33m[\u001b[0m\u001b[1;34m'High'\u001b[0m\u001b[1;33m]\u001b[0m\u001b[1;33m)\u001b[0m\u001b[1;33m\u001b[0m\u001b[1;33m\u001b[0m\u001b[0m\n\u001b[0;32m      3\u001b[0m \u001b[0mplt\u001b[0m\u001b[1;33m.\u001b[0m\u001b[0mshow\u001b[0m\u001b[1;33m(\u001b[0m\u001b[1;33m)\u001b[0m\u001b[1;33m\u001b[0m\u001b[1;33m\u001b[0m\u001b[0m\n",
      "\u001b[1;31mModuleNotFoundError\u001b[0m: No module named 'pandas.tools'"
     ]
    }
   ],
   "source": [
    "from pandas.tools.plotting import autocorrelation_plot\n",
    "autocorrelation_plot(data44['High'])\n",
    "plt.show()"
   ]
  },
  {
   "cell_type": "code",
   "execution_count": 200,
   "id": "e516470f",
   "metadata": {},
   "outputs": [],
   "source": [
    "import statsmodels.api as sm"
   ]
  },
  {
   "cell_type": "code",
   "execution_count": 201,
   "id": "c3dc7a5a",
   "metadata": {},
   "outputs": [],
   "source": [
    "from statsmodels.graphics.tsaplots import plot_acf,plot_pacf"
   ]
  },
  {
   "cell_type": "code",
   "execution_count": 202,
   "id": "18ba19ea",
   "metadata": {},
   "outputs": [],
   "source": [
    "# For non-seasonal data\n",
    "#p=1, d=1, q=0 or 1 #order=(p,d,q)\n",
    "from statsmodels.tsa.arima.model import ARIMA"
   ]
  },
  {
   "cell_type": "code",
   "execution_count": 208,
   "id": "7a8724d3",
   "metadata": {},
   "outputs": [
    {
     "name": "stderr",
     "output_type": "stream",
     "text": [
      "C:\\ProgramData\\Anaconda3\\lib\\site-packages\\statsmodels\\tsa\\base\\tsa_model.py:471: ValueWarning: A date index has been provided, but it has no associated frequency information and so will be ignored when e.g. forecasting.\n",
      "  self._init_dates(dates, freq)\n",
      "C:\\ProgramData\\Anaconda3\\lib\\site-packages\\statsmodels\\tsa\\base\\tsa_model.py:471: ValueWarning: A date index has been provided, but it has no associated frequency information and so will be ignored when e.g. forecasting.\n",
      "  self._init_dates(dates, freq)\n",
      "C:\\ProgramData\\Anaconda3\\lib\\site-packages\\statsmodels\\tsa\\base\\tsa_model.py:471: ValueWarning: A date index has been provided, but it has no associated frequency information and so will be ignored when e.g. forecasting.\n",
      "  self._init_dates(dates, freq)\n"
     ]
    }
   ],
   "source": [
    "#Non-Seasonal Model\n",
    "model=ARIMA(data44['High'],order=(1,1,0))\n",
    "model_fit=model.fit()"
   ]
  },
  {
   "cell_type": "code",
   "execution_count": 209,
   "id": "9536e48e",
   "metadata": {},
   "outputs": [
    {
     "data": {
      "text/html": [
       "<table class=\"simpletable\">\n",
       "<caption>SARIMAX Results</caption>\n",
       "<tr>\n",
       "  <th>Dep. Variable:</th>         <td>High</td>       <th>  No. Observations:  </th>    <td>3322</td>   \n",
       "</tr>\n",
       "<tr>\n",
       "  <th>Model:</th>            <td>ARIMA(1, 1, 0)</td>  <th>  Log Likelihood     </th> <td>-14076.544</td>\n",
       "</tr>\n",
       "<tr>\n",
       "  <th>Date:</th>            <td>Sat, 04 Feb 2023</td> <th>  AIC                </th>  <td>28157.089</td>\n",
       "</tr>\n",
       "<tr>\n",
       "  <th>Time:</th>                <td>00:19:06</td>     <th>  BIC                </th>  <td>28169.305</td>\n",
       "</tr>\n",
       "<tr>\n",
       "  <th>Sample:</th>                  <td>0</td>        <th>  HQIC               </th>  <td>28161.460</td>\n",
       "</tr>\n",
       "<tr>\n",
       "  <th></th>                      <td> - 3322</td>     <th>                     </th>      <td> </td>    \n",
       "</tr>\n",
       "<tr>\n",
       "  <th>Covariance Type:</th>        <td>opg</td>       <th>                     </th>      <td> </td>    \n",
       "</tr>\n",
       "</table>\n",
       "<table class=\"simpletable\">\n",
       "<tr>\n",
       "     <td></td>       <th>coef</th>     <th>std err</th>      <th>z</th>      <th>P>|z|</th>  <th>[0.025</th>    <th>0.975]</th>  \n",
       "</tr>\n",
       "<tr>\n",
       "  <th>ar.L1</th>  <td>    0.0387</td> <td>    0.009</td> <td>    4.415</td> <td> 0.000</td> <td>    0.022</td> <td>    0.056</td>\n",
       "</tr>\n",
       "<tr>\n",
       "  <th>sigma2</th> <td>  281.2976</td> <td>    0.345</td> <td>  815.912</td> <td> 0.000</td> <td>  280.622</td> <td>  281.973</td>\n",
       "</tr>\n",
       "</table>\n",
       "<table class=\"simpletable\">\n",
       "<tr>\n",
       "  <th>Ljung-Box (L1) (Q):</th>     <td>0.00</td> <th>  Jarque-Bera (JB):  </th> <td>92635056.13</td>\n",
       "</tr>\n",
       "<tr>\n",
       "  <th>Prob(Q):</th>                <td>1.00</td> <th>  Prob(JB):          </th>    <td>0.00</td>    \n",
       "</tr>\n",
       "<tr>\n",
       "  <th>Heteroskedasticity (H):</th> <td>0.10</td> <th>  Skew:              </th>   <td>-20.22</td>   \n",
       "</tr>\n",
       "<tr>\n",
       "  <th>Prob(H) (two-sided):</th>    <td>0.00</td> <th>  Kurtosis:          </th>   <td>820.20</td>   \n",
       "</tr>\n",
       "</table><br/><br/>Warnings:<br/>[1] Covariance matrix calculated using the outer product of gradients (complex-step)."
      ],
      "text/plain": [
       "<class 'statsmodels.iolib.summary.Summary'>\n",
       "\"\"\"\n",
       "                               SARIMAX Results                                \n",
       "==============================================================================\n",
       "Dep. Variable:                   High   No. Observations:                 3322\n",
       "Model:                 ARIMA(1, 1, 0)   Log Likelihood              -14076.544\n",
       "Date:                Sat, 04 Feb 2023   AIC                          28157.089\n",
       "Time:                        00:19:06   BIC                          28169.305\n",
       "Sample:                             0   HQIC                         28161.460\n",
       "                               - 3322                                         \n",
       "Covariance Type:                  opg                                         \n",
       "==============================================================================\n",
       "                 coef    std err          z      P>|z|      [0.025      0.975]\n",
       "------------------------------------------------------------------------------\n",
       "ar.L1          0.0387      0.009      4.415      0.000       0.022       0.056\n",
       "sigma2       281.2976      0.345    815.912      0.000     280.622     281.973\n",
       "===================================================================================\n",
       "Ljung-Box (L1) (Q):                   0.00   Jarque-Bera (JB):          92635056.13\n",
       "Prob(Q):                              1.00   Prob(JB):                         0.00\n",
       "Heteroskedasticity (H):               0.10   Skew:                           -20.22\n",
       "Prob(H) (two-sided):                  0.00   Kurtosis:                       820.20\n",
       "===================================================================================\n",
       "\n",
       "Warnings:\n",
       "[1] Covariance matrix calculated using the outer product of gradients (complex-step).\n",
       "\"\"\""
      ]
     },
     "execution_count": 209,
     "metadata": {},
     "output_type": "execute_result"
    }
   ],
   "source": [
    "model_fit.summary()"
   ]
  },
  {
   "cell_type": "code",
   "execution_count": 222,
   "id": "54afca85",
   "metadata": {},
   "outputs": [
    {
     "data": {
      "text/plain": [
       "(3322, 3)"
      ]
     },
     "execution_count": 222,
     "metadata": {},
     "output_type": "execute_result"
    }
   ],
   "source": [
    "data44.shape"
   ]
  },
  {
   "cell_type": "code",
   "execution_count": 225,
   "id": "bbd95096",
   "metadata": {},
   "outputs": [
    {
     "data": {
      "text/plain": [
       "<AxesSubplot:xlabel='Date'>"
      ]
     },
     "execution_count": 225,
     "metadata": {},
     "output_type": "execute_result"
    },
    {
     "data": {
      "image/png": "[encoded data removed]",
      "text/plain": [
       "<Figure size 800x800 with 1 Axes>"
      ]
     },
     "metadata": {},
     "output_type": "display_data"
    }
   ],
   "source": [
    "data44['forecast']=model_fit.predict(start=1305,end=3320,dynamic=True)\n",
    "data44[['High','forecast']].plot(figsize=(8,8))"
   ]
  },
  {
   "cell_type": "code",
   "execution_count": 211,
   "id": "be97c764",
   "metadata": {},
   "outputs": [
    {
     "name": "stderr",
     "output_type": "stream",
     "text": [
      "C:\\ProgramData\\Anaconda3\\lib\\site-packages\\statsmodels\\tsa\\base\\tsa_model.py:471: ValueWarning: A date index has been provided, but it has no associated frequency information and so will be ignored when e.g. forecasting.\n",
      "  self._init_dates(dates, freq)\n",
      "C:\\ProgramData\\Anaconda3\\lib\\site-packages\\statsmodels\\tsa\\base\\tsa_model.py:471: ValueWarning: A date index has been provided, but it has no associated frequency information and so will be ignored when e.g. forecasting.\n",
      "  self._init_dates(dates, freq)\n"
     ]
    }
   ],
   "source": [
    "#Seasonal Model \n",
    "model=sm.tsa.statespace.SARIMAX(data44['High'],order=(1, 1, 0),seasonal_order=(1,1,0,12))\n",
    "results=model.fit()"
   ]
  },
  {
   "cell_type": "code",
   "execution_count": 227,
   "id": "d32d0938",
   "metadata": {},
   "outputs": [
    {
     "data": {
      "text/plain": [
       "<AxesSubplot:xlabel='Date'>"
      ]
     },
     "execution_count": 227,
     "metadata": {},
     "output_type": "execute_result"
    },
    {
     "data": {
      "image/png": "[encoded data removed]",
      "text/plain": [
       "<Figure size 800x800 with 1 Axes>"
      ]
     },
     "metadata": {},
     "output_type": "display_data"
    }
   ],
   "source": [
    "data44['forecast']=results.predict(start=3205,end=3320,dynamic=True)\n",
    "data44[['High','forecast']].plot(figsize=(8,8))"
   ]
  },
  {
   "cell_type": "code",
   "execution_count": 228,
   "id": "93ba2642",
   "metadata": {},
   "outputs": [],
   "source": [
    "from pandas.tseries.offsets import DateOffset\n",
    "future_dates=[data44.index[-1]+ DateOffset(months=x)for x in range(0,24)]"
   ]
  },
  {
   "cell_type": "code",
   "execution_count": 229,
   "id": "ada2e48d",
   "metadata": {},
   "outputs": [],
   "source": [
    "future_datest_df=pd.DataFrame(index=future_dates[1:],columns=data44.columns)"
   ]
  },
  {
   "cell_type": "code",
   "execution_count": 230,
   "id": "7cefd8c5",
   "metadata": {},
   "outputs": [
    {
     "data": {
      "text/html": [
       "<div>\n",
       "<style scoped>\n",
       "    .dataframe tbody tr th:only-of-type {\n",
       "        vertical-align: middle;\n",
       "    }\n",
       "\n",
       "    .dataframe tbody tr th {\n",
       "        vertical-align: top;\n",
       "    }\n",
       "\n",
       "    .dataframe thead th {\n",
       "        text-align: right;\n",
       "    }\n",
       "</style>\n",
       "<table border=\"1\" class=\"dataframe\">\n",
       "  <thead>\n",
       "    <tr style=\"text-align: right;\">\n",
       "      <th></th>\n",
       "      <th>High</th>\n",
       "      <th>LastFirstDifference</th>\n",
       "      <th>forecast</th>\n",
       "    </tr>\n",
       "  </thead>\n",
       "  <tbody>\n",
       "    <tr>\n",
       "      <th>2022-11-30</th>\n",
       "      <td>NaN</td>\n",
       "      <td>NaN</td>\n",
       "      <td>NaN</td>\n",
       "    </tr>\n",
       "    <tr>\n",
       "      <th>2022-12-30</th>\n",
       "      <td>NaN</td>\n",
       "      <td>NaN</td>\n",
       "      <td>NaN</td>\n",
       "    </tr>\n",
       "    <tr>\n",
       "      <th>2023-01-30</th>\n",
       "      <td>NaN</td>\n",
       "      <td>NaN</td>\n",
       "      <td>NaN</td>\n",
       "    </tr>\n",
       "    <tr>\n",
       "      <th>2023-02-28</th>\n",
       "      <td>NaN</td>\n",
       "      <td>NaN</td>\n",
       "      <td>NaN</td>\n",
       "    </tr>\n",
       "    <tr>\n",
       "      <th>2023-03-30</th>\n",
       "      <td>NaN</td>\n",
       "      <td>NaN</td>\n",
       "      <td>NaN</td>\n",
       "    </tr>\n",
       "  </tbody>\n",
       "</table>\n",
       "</div>"
      ],
      "text/plain": [
       "           High LastFirstDifference forecast\n",
       "2022-11-30  NaN                 NaN      NaN\n",
       "2022-12-30  NaN                 NaN      NaN\n",
       "2023-01-30  NaN                 NaN      NaN\n",
       "2023-02-28  NaN                 NaN      NaN\n",
       "2023-03-30  NaN                 NaN      NaN"
      ]
     },
     "execution_count": 230,
     "metadata": {},
     "output_type": "execute_result"
    }
   ],
   "source": [
    "future_datest_df.tail()"
   ]
  },
  {
   "cell_type": "code",
   "execution_count": 231,
   "id": "7f663d69",
   "metadata": {},
   "outputs": [],
   "source": [
    "future_df=pd.concat([data44,future_datest_df])"
   ]
  },
  {
   "cell_type": "code",
   "execution_count": 234,
   "id": "db62ed66",
   "metadata": {},
   "outputs": [
    {
     "data": {
      "text/plain": [
       "<AxesSubplot:>"
      ]
     },
     "execution_count": 234,
     "metadata": {},
     "output_type": "execute_result"
    },
    {
     "data": {
      "image/png": "[encoded data removed]",
      "text/plain": [
       "<Figure size 1000x800 with 1 Axes>"
      ]
     },
     "metadata": {},
     "output_type": "display_data"
    }
   ],
   "source": [
    "future_df['forecast'] = results.predict(start =3250, end= 3320, dynamic= True)  \n",
    "future_df[['High','forecast']].plot(figsize=(10, 8)) "
   ]
  },
  {
   "cell_type": "code",
   "execution_count": null,
   "id": "69ab946c",
   "metadata": {},
   "outputs": [],
   "source": []
  }
 ],
 "metadata": {
  "kernelspec": {
   "display_name": "Python 3 (ipykernel)",
   "language": "python",
   "name": "python3"
  },
  "language_info": {
   "codemirror_mode": {
    "name": "ipython",
    "version": 3
   },
   "file_extension": ".py",
   "mimetype": "text/x-python",
   "name": "python",
   "nbconvert_exporter": "python",
   "pygments_lexer": "ipython3",
   "version": "3.9.13"
  }
 },
 "nbformat": 4,
 "nbformat_minor": 5
}
