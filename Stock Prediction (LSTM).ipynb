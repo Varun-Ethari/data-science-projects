{
 "cells": [
  {
   "cell_type": "code",
   "execution_count": 5,
   "id": "8af62253",
   "metadata": {},
   "outputs": [
    {
     "name": "stdout",
     "output_type": "stream",
     "text": [
      "Collecting matplotlib\n",
      "  Downloading matplotlib-3.6.3-cp39-cp39-win_amd64.whl (7.2 MB)\n",
      "     ---------------------------------------- 7.2/7.2 MB 3.4 MB/s eta 0:00:00\n",
      "Requirement already satisfied: packaging>=20.0 in c:\\users\\admin\\.conda\\envs\\tf\\lib\\site-packages (from matplotlib) (22.0)\n",
      "Collecting kiwisolver>=1.0.1\n",
      "  Downloading kiwisolver-1.4.4-cp39-cp39-win_amd64.whl (55 kB)\n",
      "     -------------------------------------- 55.4/55.4 kB 982.0 kB/s eta 0:00:00\n",
      "Collecting cycler>=0.10\n",
      "  Downloading cycler-0.11.0-py3-none-any.whl (6.4 kB)\n",
      "Requirement already satisfied: python-dateutil>=2.7 in c:\\users\\admin\\.conda\\envs\\tf\\lib\\site-packages (from matplotlib) (2.8.2)\n",
      "Requirement already satisfied: numpy>=1.19 in c:\\users\\admin\\.conda\\envs\\tf\\lib\\site-packages (from matplotlib) (1.23.5)\n",
      "Collecting pyparsing>=2.2.1\n",
      "  Downloading pyparsing-3.0.9-py3-none-any.whl (98 kB)\n",
      "     ---------------------------------------- 98.3/98.3 kB 1.4 MB/s eta 0:00:00\n",
      "Collecting pillow>=6.2.0\n",
      "  Downloading Pillow-9.4.0-cp39-cp39-win_amd64.whl (2.5 MB)\n",
      "     ---------------------------------------- 2.5/2.5 MB 2.8 MB/s eta 0:00:00\n",
      "Collecting fonttools>=4.22.0\n",
      "  Downloading fonttools-4.38.0-py3-none-any.whl (965 kB)\n",
      "     -------------------------------------- 965.4/965.4 kB 2.9 MB/s eta 0:00:00\n",
      "Collecting contourpy>=1.0.1\n",
      "  Downloading contourpy-1.0.7-cp39-cp39-win_amd64.whl (160 kB)\n",
      "     -------------------------------------- 160.2/160.2 kB 3.2 MB/s eta 0:00:00\n",
      "Requirement already satisfied: six>=1.5 in c:\\users\\admin\\.conda\\envs\\tf\\lib\\site-packages (from python-dateutil>=2.7->matplotlib) (1.16.0)\n",
      "Installing collected packages: pyparsing, pillow, kiwisolver, fonttools, cycler, contourpy, matplotlib\n",
      "Successfully installed contourpy-1.0.7 cycler-0.11.0 fonttools-4.38.0 kiwisolver-1.4.4 matplotlib-3.6.3 pillow-9.4.0 pyparsing-3.0.9\n"
     ]
    }
   ],
   "source": [
    "import pandas as pd\n",
    "import numpy as np\n",
    "!pip install matplotlib\n",
    "import matplotlib.pyplot as plt"
   ]
  },
  {
   "cell_type": "code",
   "execution_count": 6,
   "id": "15bd7a32",
   "metadata": {},
   "outputs": [],
   "source": [
    "df=pd.read_csv(\"ADANIPORTS.csv\")"
   ]
  },
  {
   "cell_type": "code",
   "execution_count": 173,
   "id": "b4549e85",
   "metadata": {},
   "outputs": [
    {
     "data": {
      "text/plain": [
       "(3322, 14)"
      ]
     },
     "execution_count": 173,
     "metadata": {},
     "output_type": "execute_result"
    }
   ],
   "source": [
    "df.shape"
   ]
  },
  {
   "cell_type": "code",
   "execution_count": 7,
   "id": "1f95e5c5",
   "metadata": {},
   "outputs": [
    {
     "data": {
      "text/html": [
       "<div>\n",
       "<style scoped>\n",
       "    .dataframe tbody tr th:only-of-type {\n",
       "        vertical-align: middle;\n",
       "    }\n",
       "\n",
       "    .dataframe tbody tr th {\n",
       "        vertical-align: top;\n",
       "    }\n",
       "\n",
       "    .dataframe thead th {\n",
       "        text-align: right;\n",
       "    }\n",
       "</style>\n",
       "<table border=\"1\" class=\"dataframe\">\n",
       "  <thead>\n",
       "    <tr style=\"text-align: right;\">\n",
       "      <th></th>\n",
       "      <th>Date</th>\n",
       "      <th>Symbol</th>\n",
       "      <th>Series</th>\n",
       "      <th>Prev Close</th>\n",
       "      <th>Open</th>\n",
       "      <th>High</th>\n",
       "      <th>Low</th>\n",
       "      <th>Last</th>\n",
       "      <th>Close</th>\n",
       "      <th>VWAP</th>\n",
       "      <th>Volume</th>\n",
       "      <th>Turnover</th>\n",
       "      <th>Trades</th>\n",
       "      <th>Deliverable Volume</th>\n",
       "      <th>%Deliverble</th>\n",
       "    </tr>\n",
       "  </thead>\n",
       "  <tbody>\n",
       "    <tr>\n",
       "      <th>0</th>\n",
       "      <td>2007-11-27</td>\n",
       "      <td>MUNDRAPORT</td>\n",
       "      <td>EQ</td>\n",
       "      <td>440.00</td>\n",
       "      <td>770.00</td>\n",
       "      <td>1050.00</td>\n",
       "      <td>770.0</td>\n",
       "      <td>959.0</td>\n",
       "      <td>962.90</td>\n",
       "      <td>984.72</td>\n",
       "      <td>27294366</td>\n",
       "      <td>2.687719e+15</td>\n",
       "      <td>NaN</td>\n",
       "      <td>9859619</td>\n",
       "      <td>0.3612</td>\n",
       "    </tr>\n",
       "    <tr>\n",
       "      <th>1</th>\n",
       "      <td>2007-11-28</td>\n",
       "      <td>MUNDRAPORT</td>\n",
       "      <td>EQ</td>\n",
       "      <td>962.90</td>\n",
       "      <td>984.00</td>\n",
       "      <td>990.00</td>\n",
       "      <td>874.0</td>\n",
       "      <td>885.0</td>\n",
       "      <td>893.90</td>\n",
       "      <td>941.38</td>\n",
       "      <td>4581338</td>\n",
       "      <td>4.312765e+14</td>\n",
       "      <td>NaN</td>\n",
       "      <td>1453278</td>\n",
       "      <td>0.3172</td>\n",
       "    </tr>\n",
       "    <tr>\n",
       "      <th>2</th>\n",
       "      <td>2007-11-29</td>\n",
       "      <td>MUNDRAPORT</td>\n",
       "      <td>EQ</td>\n",
       "      <td>893.90</td>\n",
       "      <td>909.00</td>\n",
       "      <td>914.75</td>\n",
       "      <td>841.0</td>\n",
       "      <td>887.0</td>\n",
       "      <td>884.20</td>\n",
       "      <td>888.09</td>\n",
       "      <td>5124121</td>\n",
       "      <td>4.550658e+14</td>\n",
       "      <td>NaN</td>\n",
       "      <td>1069678</td>\n",
       "      <td>0.2088</td>\n",
       "    </tr>\n",
       "    <tr>\n",
       "      <th>3</th>\n",
       "      <td>2007-11-30</td>\n",
       "      <td>MUNDRAPORT</td>\n",
       "      <td>EQ</td>\n",
       "      <td>884.20</td>\n",
       "      <td>890.00</td>\n",
       "      <td>958.00</td>\n",
       "      <td>890.0</td>\n",
       "      <td>929.0</td>\n",
       "      <td>921.55</td>\n",
       "      <td>929.17</td>\n",
       "      <td>4609762</td>\n",
       "      <td>4.283257e+14</td>\n",
       "      <td>NaN</td>\n",
       "      <td>1260913</td>\n",
       "      <td>0.2735</td>\n",
       "    </tr>\n",
       "    <tr>\n",
       "      <th>4</th>\n",
       "      <td>2007-12-03</td>\n",
       "      <td>MUNDRAPORT</td>\n",
       "      <td>EQ</td>\n",
       "      <td>921.55</td>\n",
       "      <td>939.75</td>\n",
       "      <td>995.00</td>\n",
       "      <td>922.0</td>\n",
       "      <td>980.0</td>\n",
       "      <td>969.30</td>\n",
       "      <td>965.65</td>\n",
       "      <td>2977470</td>\n",
       "      <td>2.875200e+14</td>\n",
       "      <td>NaN</td>\n",
       "      <td>816123</td>\n",
       "      <td>0.2741</td>\n",
       "    </tr>\n",
       "  </tbody>\n",
       "</table>\n",
       "</div>"
      ],
      "text/plain": [
       "         Date      Symbol Series  Prev Close    Open     High    Low   Last  \\\n",
       "0  2007-11-27  MUNDRAPORT     EQ      440.00  770.00  1050.00  770.0  959.0   \n",
       "1  2007-11-28  MUNDRAPORT     EQ      962.90  984.00   990.00  874.0  885.0   \n",
       "2  2007-11-29  MUNDRAPORT     EQ      893.90  909.00   914.75  841.0  887.0   \n",
       "3  2007-11-30  MUNDRAPORT     EQ      884.20  890.00   958.00  890.0  929.0   \n",
       "4  2007-12-03  MUNDRAPORT     EQ      921.55  939.75   995.00  922.0  980.0   \n",
       "\n",
       "    Close    VWAP    Volume      Turnover  Trades  Deliverable Volume  \\\n",
       "0  962.90  984.72  27294366  2.687719e+15     NaN             9859619   \n",
       "1  893.90  941.38   4581338  4.312765e+14     NaN             1453278   \n",
       "2  884.20  888.09   5124121  4.550658e+14     NaN             1069678   \n",
       "3  921.55  929.17   4609762  4.283257e+14     NaN             1260913   \n",
       "4  969.30  965.65   2977470  2.875200e+14     NaN              816123   \n",
       "\n",
       "   %Deliverble  \n",
       "0       0.3612  \n",
       "1       0.3172  \n",
       "2       0.2088  \n",
       "3       0.2735  \n",
       "4       0.2741  "
      ]
     },
     "execution_count": 7,
     "metadata": {},
     "output_type": "execute_result"
    }
   ],
   "source": [
    "df.head()"
   ]
  },
  {
   "cell_type": "code",
   "execution_count": 174,
   "id": "a000d442",
   "metadata": {},
   "outputs": [
    {
     "data": {
      "text/html": [
       "<div>\n",
       "<style scoped>\n",
       "    .dataframe tbody tr th:only-of-type {\n",
       "        vertical-align: middle;\n",
       "    }\n",
       "\n",
       "    .dataframe tbody tr th {\n",
       "        vertical-align: top;\n",
       "    }\n",
       "\n",
       "    .dataframe thead th {\n",
       "        text-align: right;\n",
       "    }\n",
       "</style>\n",
       "<table border=\"1\" class=\"dataframe\">\n",
       "  <thead>\n",
       "    <tr style=\"text-align: right;\">\n",
       "      <th></th>\n",
       "      <th>Date</th>\n",
       "      <th>Symbol</th>\n",
       "      <th>Series</th>\n",
       "      <th>Prev Close</th>\n",
       "      <th>Open</th>\n",
       "      <th>High</th>\n",
       "      <th>Low</th>\n",
       "      <th>Last</th>\n",
       "      <th>Close</th>\n",
       "      <th>VWAP</th>\n",
       "      <th>Volume</th>\n",
       "      <th>Turnover</th>\n",
       "      <th>Deliverable Volume</th>\n",
       "      <th>%Deliverble</th>\n",
       "    </tr>\n",
       "  </thead>\n",
       "  <tbody>\n",
       "    <tr>\n",
       "      <th>3317</th>\n",
       "      <td>2021-04-26</td>\n",
       "      <td>ADANIPORTS</td>\n",
       "      <td>EQ</td>\n",
       "      <td>725.35</td>\n",
       "      <td>733.0</td>\n",
       "      <td>739.65</td>\n",
       "      <td>728.90</td>\n",
       "      <td>729.2</td>\n",
       "      <td>730.75</td>\n",
       "      <td>733.25</td>\n",
       "      <td>9390549</td>\n",
       "      <td>6.885658e+14</td>\n",
       "      <td>838079</td>\n",
       "      <td>0.0892</td>\n",
       "    </tr>\n",
       "    <tr>\n",
       "      <th>3318</th>\n",
       "      <td>2021-04-27</td>\n",
       "      <td>ADANIPORTS</td>\n",
       "      <td>EQ</td>\n",
       "      <td>730.75</td>\n",
       "      <td>735.0</td>\n",
       "      <td>757.50</td>\n",
       "      <td>727.35</td>\n",
       "      <td>748.6</td>\n",
       "      <td>749.15</td>\n",
       "      <td>747.67</td>\n",
       "      <td>20573107</td>\n",
       "      <td>1.538191e+15</td>\n",
       "      <td>1779639</td>\n",
       "      <td>0.0865</td>\n",
       "    </tr>\n",
       "    <tr>\n",
       "      <th>3319</th>\n",
       "      <td>2021-04-28</td>\n",
       "      <td>ADANIPORTS</td>\n",
       "      <td>EQ</td>\n",
       "      <td>749.15</td>\n",
       "      <td>755.0</td>\n",
       "      <td>760.00</td>\n",
       "      <td>741.10</td>\n",
       "      <td>743.4</td>\n",
       "      <td>746.25</td>\n",
       "      <td>751.02</td>\n",
       "      <td>11156977</td>\n",
       "      <td>8.379106e+14</td>\n",
       "      <td>1342353</td>\n",
       "      <td>0.1203</td>\n",
       "    </tr>\n",
       "    <tr>\n",
       "      <th>3320</th>\n",
       "      <td>2021-04-29</td>\n",
       "      <td>ADANIPORTS</td>\n",
       "      <td>EQ</td>\n",
       "      <td>746.25</td>\n",
       "      <td>753.2</td>\n",
       "      <td>765.85</td>\n",
       "      <td>743.40</td>\n",
       "      <td>746.4</td>\n",
       "      <td>746.75</td>\n",
       "      <td>753.06</td>\n",
       "      <td>13851910</td>\n",
       "      <td>1.043139e+15</td>\n",
       "      <td>1304895</td>\n",
       "      <td>0.0942</td>\n",
       "    </tr>\n",
       "    <tr>\n",
       "      <th>3321</th>\n",
       "      <td>2021-04-30</td>\n",
       "      <td>ADANIPORTS</td>\n",
       "      <td>EQ</td>\n",
       "      <td>746.75</td>\n",
       "      <td>739.0</td>\n",
       "      <td>759.45</td>\n",
       "      <td>724.50</td>\n",
       "      <td>726.4</td>\n",
       "      <td>730.05</td>\n",
       "      <td>743.35</td>\n",
       "      <td>12600934</td>\n",
       "      <td>9.366911e+14</td>\n",
       "      <td>3514692</td>\n",
       "      <td>0.2789</td>\n",
       "    </tr>\n",
       "  </tbody>\n",
       "</table>\n",
       "</div>"
      ],
      "text/plain": [
       "            Date      Symbol Series  Prev Close   Open    High     Low   Last  \\\n",
       "3317  2021-04-26  ADANIPORTS     EQ      725.35  733.0  739.65  728.90  729.2   \n",
       "3318  2021-04-27  ADANIPORTS     EQ      730.75  735.0  757.50  727.35  748.6   \n",
       "3319  2021-04-28  ADANIPORTS     EQ      749.15  755.0  760.00  741.10  743.4   \n",
       "3320  2021-04-29  ADANIPORTS     EQ      746.25  753.2  765.85  743.40  746.4   \n",
       "3321  2021-04-30  ADANIPORTS     EQ      746.75  739.0  759.45  724.50  726.4   \n",
       "\n",
       "       Close    VWAP    Volume      Turnover  Deliverable Volume  %Deliverble  \n",
       "3317  730.75  733.25   9390549  6.885658e+14              838079       0.0892  \n",
       "3318  749.15  747.67  20573107  1.538191e+15             1779639       0.0865  \n",
       "3319  746.25  751.02  11156977  8.379106e+14             1342353       0.1203  \n",
       "3320  746.75  753.06  13851910  1.043139e+15             1304895       0.0942  \n",
       "3321  730.05  743.35  12600934  9.366911e+14             3514692       0.2789  "
      ]
     },
     "execution_count": 174,
     "metadata": {},
     "output_type": "execute_result"
    }
   ],
   "source": [
    "df.tail()"
   ]
  },
  {
   "cell_type": "code",
   "execution_count": 8,
   "id": "621b1777",
   "metadata": {},
   "outputs": [
    {
     "data": {
      "text/plain": [
       "Date                    0\n",
       "Symbol                  0\n",
       "Series                  0\n",
       "Prev Close              0\n",
       "Open                    0\n",
       "High                    0\n",
       "Low                     0\n",
       "Last                    0\n",
       "Close                   0\n",
       "VWAP                    0\n",
       "Volume                  0\n",
       "Turnover                0\n",
       "Trades                866\n",
       "Deliverable Volume      0\n",
       "%Deliverble             0\n",
       "dtype: int64"
      ]
     },
     "execution_count": 8,
     "metadata": {},
     "output_type": "execute_result"
    }
   ],
   "source": [
    "df.isnull().sum()"
   ]
  },
  {
   "cell_type": "code",
   "execution_count": 9,
   "id": "e4f16e5f",
   "metadata": {},
   "outputs": [],
   "source": [
    "df.drop(\"Trades\",axis=1,inplace=True)"
   ]
  },
  {
   "cell_type": "code",
   "execution_count": 47,
   "id": "348969c7",
   "metadata": {},
   "outputs": [
    {
     "data": {
      "text/plain": [
       "(3322,)"
      ]
     },
     "execution_count": 47,
     "metadata": {},
     "output_type": "execute_result"
    }
   ],
   "source": [
    "df1=df.reset_index()[\"High\"]\n",
    "df1.shape"
   ]
  },
  {
   "cell_type": "code",
   "execution_count": 48,
   "id": "6e71e487",
   "metadata": {},
   "outputs": [
    {
     "data": {
      "text/plain": [
       "0       1050.00\n",
       "1        990.00\n",
       "2        914.75\n",
       "3        958.00\n",
       "4        995.00\n",
       "         ...   \n",
       "3317     739.65\n",
       "3318     757.50\n",
       "3319     760.00\n",
       "3320     765.85\n",
       "3321     759.45\n",
       "Name: High, Length: 3322, dtype: float64"
      ]
     },
     "execution_count": 48,
     "metadata": {},
     "output_type": "execute_result"
    }
   ],
   "source": [
    "df1"
   ]
  },
  {
   "cell_type": "code",
   "execution_count": 49,
   "id": "1fcaff61",
   "metadata": {},
   "outputs": [
    {
     "data": {
      "text/plain": [
       "[<matplotlib.lines.Line2D at 0x2608d438b80>]"
      ]
     },
     "execution_count": 49,
     "metadata": {},
     "output_type": "execute_result"
    },
    {
     "data": {
      "image/png": "[encoded data removed]",
      "text/plain": [
       "<Figure size 640x480 with 1 Axes>"
      ]
     },
     "metadata": {},
     "output_type": "display_data"
    }
   ],
   "source": [
    "plt.plot(df1)"
   ]
  },
  {
   "cell_type": "markdown",
   "id": "3de82f84",
   "metadata": {},
   "source": [
    "# #Scaling the data"
   ]
  },
  {
   "cell_type": "code",
   "execution_count": 50,
   "id": "6b511474",
   "metadata": {},
   "outputs": [],
   "source": [
    "from sklearn.preprocessing import MinMaxScaler\n",
    "scaler=MinMaxScaler(feature_range=(0,1))\n",
    "df1=scaler.fit_transform(np.array(df1).reshape(-1,1))"
   ]
  },
  {
   "cell_type": "code",
   "execution_count": 51,
   "id": "f639fa2a",
   "metadata": {},
   "outputs": [
    {
     "data": {
      "text/plain": [
       "array([[0.77421614],\n",
       "       [0.72477442],\n",
       "       [0.66276626],\n",
       "       ...,\n",
       "       [0.53524783],\n",
       "       [0.54006839],\n",
       "       [0.53479461]])"
      ]
     },
     "execution_count": 51,
     "metadata": {},
     "output_type": "execute_result"
    }
   ],
   "source": [
    "df1"
   ]
  },
  {
   "cell_type": "markdown",
   "id": "36477234",
   "metadata": {},
   "source": [
    "# #Splitting dataset into train_data, test_data"
   ]
  },
  {
   "cell_type": "code",
   "execution_count": 52,
   "id": "9ef4e243",
   "metadata": {},
   "outputs": [],
   "source": [
    "train_size=int(len(df1)*0.85)\n",
    "test_size=len(df1)-train_size\n",
    "train_data, test_data= df1[0:train_size,:], df1[train_size:len(df1),:]"
   ]
  },
  {
   "cell_type": "code",
   "execution_count": 53,
   "id": "2adec8f5",
   "metadata": {},
   "outputs": [
    {
     "data": {
      "text/plain": [
       "(2823, 499, 2823, 499)"
      ]
     },
     "execution_count": 53,
     "metadata": {},
     "output_type": "execute_result"
    }
   ],
   "source": [
    "train_size,test_size, len(train_data), len(test_data)"
   ]
  },
  {
   "cell_type": "markdown",
   "id": "8292354b",
   "metadata": {},
   "source": [
    "# Converting an array of values into a dataset matrix"
   ]
  },
  {
   "cell_type": "code",
   "execution_count": 117,
   "id": "64e283ec",
   "metadata": {},
   "outputs": [],
   "source": [
    "\n",
    "def create_dataset(dataset, time_step=1):\n",
    "    datax, datay = [], []\n",
    "    for i in range(len(dataset)-time_step-1):\n",
    "        a = dataset[i:(i+time_step), 0]      ###i=0, 0,1,2,3-----99   100 \n",
    "        datax.append(a)\n",
    "        datay.append(dataset[i + time_step, 0])\n",
    "    return numpy.array(datax), numpy.array(datay)"
   ]
  },
  {
   "cell_type": "markdown",
   "id": "c44d931d",
   "metadata": {},
   "source": [
    "## Reshaping into x=t, t+1, t+2, t+3 and y=t+4"
   ]
  },
  {
   "cell_type": "code",
   "execution_count": 118,
   "id": "18bac559",
   "metadata": {},
   "outputs": [],
   "source": [
    "time_step= 100\n",
    "x_train, y_train = create_dataset(train_data, time_step)\n",
    "x_test, y_test= create_dataset(test_data, time_step)"
   ]
  },
  {
   "cell_type": "code",
   "execution_count": 119,
   "id": "384cf276",
   "metadata": {},
   "outputs": [
    {
     "name": "stdout",
     "output_type": "stream",
     "text": [
      "[[0.77421614 0.72477442 0.66276626 ... 0.44868361 0.46388694 0.46759507]\n",
      " [0.72477442 0.66276626 0.6984055  ... 0.46388694 0.46759507 0.46755387]\n",
      " [0.66276626 0.6984055  0.72889457 ... 0.46759507 0.46755387 0.50063862]\n",
      " ...\n",
      " [0.21461827 0.21420625 0.21634873 ... 0.22788513 0.22953319 0.2357546 ]\n",
      " [0.21420625 0.21634873 0.21305261 ... 0.22953319 0.2357546  0.23488937]\n",
      " [0.21634873 0.21305261 0.21498908 ... 0.2357546  0.23488937 0.23184047]]\n"
     ]
    }
   ],
   "source": [
    "print(x_train)"
   ]
  },
  {
   "cell_type": "code",
   "execution_count": 120,
   "id": "9526571b",
   "metadata": {},
   "outputs": [
    {
     "name": "stdout",
     "output_type": "stream",
     "text": [
      "[0.46755387 0.50063862 0.51967368 ... 0.23488937 0.23184047 0.23175807]\n"
     ]
    }
   ],
   "source": [
    "print(y_train)"
   ]
  },
  {
   "cell_type": "code",
   "execution_count": 121,
   "id": "b128bdc7",
   "metadata": {},
   "outputs": [
    {
     "name": "stdout",
     "output_type": "stream",
     "text": [
      "[[0.2327469  0.23340612 0.23361213 ... 0.21247579 0.21099254 0.22607227]\n",
      " [0.23340612 0.23361213 0.23612542 ... 0.21099254 0.22607227 0.25301801]\n",
      " [0.23361213 0.23612542 0.23727906 ... 0.22607227 0.25301801 0.25301801]\n",
      " ...\n",
      " [0.24930988 0.25178196 0.26002225 ... 0.52280499 0.52445305 0.51847884]\n",
      " [0.25178196 0.26002225 0.27320671 ... 0.52445305 0.51847884 0.53318775]\n",
      " [0.26002225 0.27320671 0.27526678 ... 0.51847884 0.53318775 0.53524783]]\n"
     ]
    }
   ],
   "source": [
    "print(x_test)"
   ]
  },
  {
   "cell_type": "code",
   "execution_count": 123,
   "id": "941b85fc",
   "metadata": {},
   "outputs": [
    {
     "name": "stdout",
     "output_type": "stream",
     "text": [
      "(2722, 100)\n",
      "(2722,)\n"
     ]
    },
    {
     "data": {
      "text/plain": [
       "(None, None)"
      ]
     },
     "execution_count": 123,
     "metadata": {},
     "output_type": "execute_result"
    }
   ],
   "source": [
    "print(x_train.shape),print(y_train.shape)"
   ]
  },
  {
   "cell_type": "code",
   "execution_count": 124,
   "id": "c93b6188",
   "metadata": {},
   "outputs": [
    {
     "name": "stdout",
     "output_type": "stream",
     "text": [
      "(398, 100)\n",
      "(398,)\n"
     ]
    },
    {
     "data": {
      "text/plain": [
       "(None, None)"
      ]
     },
     "execution_count": 124,
     "metadata": {},
     "output_type": "execute_result"
    }
   ],
   "source": [
    "print(x_test.shape),print(y_test.shape)"
   ]
  },
  {
   "cell_type": "markdown",
   "id": "a26d4b07",
   "metadata": {},
   "source": [
    "# #Reshaping from 2d array to 3d array"
   ]
  },
  {
   "cell_type": "code",
   "execution_count": 126,
   "id": "0ac3dd00",
   "metadata": {},
   "outputs": [],
   "source": [
    "x_train=x_train.reshape(x_train.shape[0],x_train.shape[1],1)\n",
    "x_test=x_test.reshape(x_test.shape[0],x_test.shape[1],1)"
   ]
  },
  {
   "cell_type": "code",
   "execution_count": 128,
   "id": "9ab3becc",
   "metadata": {},
   "outputs": [
    {
     "name": "stdout",
     "output_type": "stream",
     "text": [
      "[[[0.77421614]\n",
      "  [0.72477442]\n",
      "  [0.66276626]\n",
      "  ...\n",
      "  [0.44868361]\n",
      "  [0.46388694]\n",
      "  [0.46759507]]\n",
      "\n",
      " [[0.72477442]\n",
      "  [0.66276626]\n",
      "  [0.6984055 ]\n",
      "  ...\n",
      "  [0.46388694]\n",
      "  [0.46759507]\n",
      "  [0.46755387]]\n",
      "\n",
      " [[0.66276626]\n",
      "  [0.6984055 ]\n",
      "  [0.72889457]\n",
      "  ...\n",
      "  [0.46759507]\n",
      "  [0.46755387]\n",
      "  [0.50063862]]\n",
      "\n",
      " ...\n",
      "\n",
      " [[0.21461827]\n",
      "  [0.21420625]\n",
      "  [0.21634873]\n",
      "  ...\n",
      "  [0.22788513]\n",
      "  [0.22953319]\n",
      "  [0.2357546 ]]\n",
      "\n",
      " [[0.21420625]\n",
      "  [0.21634873]\n",
      "  [0.21305261]\n",
      "  ...\n",
      "  [0.22953319]\n",
      "  [0.2357546 ]\n",
      "  [0.23488937]]\n",
      "\n",
      " [[0.21634873]\n",
      "  [0.21305261]\n",
      "  [0.21498908]\n",
      "  ...\n",
      "  [0.2357546 ]\n",
      "  [0.23488937]\n",
      "  [0.23184047]]]\n"
     ]
    }
   ],
   "source": [
    "print(x_train)"
   ]
  },
  {
   "cell_type": "markdown",
   "id": "1dfeb3ba",
   "metadata": {},
   "source": [
    "## Creating stack LSTM model"
   ]
  },
  {
   "cell_type": "code",
   "execution_count": 132,
   "id": "74f1353c",
   "metadata": {},
   "outputs": [],
   "source": [
    "from tensorflow.keras.models import Sequential\n",
    "from tensorflow.keras.layers import Dense\n",
    "from tensorflow.keras.layers import LSTM"
   ]
  },
  {
   "cell_type": "code",
   "execution_count": 134,
   "id": "6a89929e",
   "metadata": {},
   "outputs": [],
   "source": [
    "model=Sequential()\n",
    "#input layer\n",
    "model.add(LSTM(50, return_sequences=True, input_shape=(100,1))) #5star x_train.shape[1],1 from reshape 2d to 3d or time_step=100\n",
    "#1st hidden layer\n",
    "model.add(LSTM(50, return_sequences=True))\n",
    "#2nd hidden layer\n",
    "model.add(LSTM(50))\n",
    "#output layer\n",
    "model.add(Dense(1))\n",
    "#Compiling\n",
    "model.compile(optimizer=\"adam\",loss=\"mean_squared_error\")"
   ]
  },
  {
   "cell_type": "code",
   "execution_count": 135,
   "id": "bdb8c7a3",
   "metadata": {},
   "outputs": [
    {
     "name": "stdout",
     "output_type": "stream",
     "text": [
      "Model: \"sequential\"\n",
      "_________________________________________________________________\n",
      "Layer (type)                 Output Shape              Param #   \n",
      "=================================================================\n",
      "lstm (LSTM)                  (None, 100, 50)           10400     \n",
      "_________________________________________________________________\n",
      "lstm_1 (LSTM)                (None, 100, 50)           20200     \n",
      "_________________________________________________________________\n",
      "lstm_2 (LSTM)                (None, 50)                20200     \n",
      "_________________________________________________________________\n",
      "dense (Dense)                (None, 1)                 51        \n",
      "=================================================================\n",
      "Total params: 50,851\n",
      "Trainable params: 50,851\n",
      "Non-trainable params: 0\n",
      "_________________________________________________________________\n"
     ]
    }
   ],
   "source": [
    "model.summary()"
   ]
  },
  {
   "cell_type": "code",
   "execution_count": 136,
   "id": "b1a1e229",
   "metadata": {},
   "outputs": [
    {
     "name": "stdout",
     "output_type": "stream",
     "text": [
      "Model: \"sequential\"\n",
      "_________________________________________________________________\n",
      "Layer (type)                 Output Shape              Param #   \n",
      "=================================================================\n",
      "lstm (LSTM)                  (None, 100, 50)           10400     \n",
      "_________________________________________________________________\n",
      "lstm_1 (LSTM)                (None, 100, 50)           20200     \n",
      "_________________________________________________________________\n",
      "lstm_2 (LSTM)                (None, 50)                20200     \n",
      "_________________________________________________________________\n",
      "dense (Dense)                (None, 1)                 51        \n",
      "=================================================================\n",
      "Total params: 50,851\n",
      "Trainable params: 50,851\n",
      "Non-trainable params: 0\n",
      "_________________________________________________________________\n"
     ]
    }
   ],
   "source": [
    "model.summary()"
   ]
  },
  {
   "cell_type": "code",
   "execution_count": 137,
   "id": "7eb59969",
   "metadata": {},
   "outputs": [
    {
     "name": "stdout",
     "output_type": "stream",
     "text": [
      "Epoch 1/100\n",
      "43/43 [==============================] - 36s 592ms/step - loss: 0.0065 - val_loss: 0.0012\n",
      "Epoch 2/100\n",
      "43/43 [==============================] - 17s 394ms/step - loss: 0.0013 - val_loss: 9.1878e-04\n",
      "Epoch 3/100\n",
      "43/43 [==============================] - 20s 472ms/step - loss: 0.0011 - val_loss: 5.5375e-04\n",
      "Epoch 4/100\n",
      "43/43 [==============================] - 21s 483ms/step - loss: 9.2638e-04 - val_loss: 0.0013\n",
      "Epoch 5/100\n",
      "43/43 [==============================] - 17s 404ms/step - loss: 9.2763e-04 - val_loss: 5.0806e-04\n",
      "Epoch 6/100\n",
      "43/43 [==============================] - 15s 343ms/step - loss: 8.1251e-04 - val_loss: 5.8540e-04\n",
      "Epoch 7/100\n",
      "43/43 [==============================] - 15s 361ms/step - loss: 8.6139e-04 - val_loss: 7.5863e-04\n",
      "Epoch 8/100\n",
      "43/43 [==============================] - 17s 403ms/step - loss: 7.9842e-04 - val_loss: 0.0011\n",
      "Epoch 9/100\n",
      "43/43 [==============================] - 20s 458ms/step - loss: 7.4478e-04 - val_loss: 7.1712e-04\n",
      "Epoch 10/100\n",
      "43/43 [==============================] - 16s 364ms/step - loss: 7.6620e-04 - val_loss: 0.0011\n",
      "Epoch 11/100\n",
      "43/43 [==============================] - 18s 425ms/step - loss: 6.7580e-04 - val_loss: 3.9703e-04\n",
      "Epoch 12/100\n",
      "43/43 [==============================] - 16s 369ms/step - loss: 6.8927e-04 - val_loss: 4.6446e-04\n",
      "Epoch 13/100\n",
      "43/43 [==============================] - 16s 368ms/step - loss: 6.1380e-04 - val_loss: 9.2964e-04\n",
      "Epoch 14/100\n",
      "43/43 [==============================] - 17s 387ms/step - loss: 6.3011e-04 - val_loss: 3.2414e-04\n",
      "Epoch 15/100\n",
      "43/43 [==============================] - 18s 410ms/step - loss: 5.1298e-04 - val_loss: 3.4164e-04\n",
      "Epoch 16/100\n",
      "43/43 [==============================] - 17s 406ms/step - loss: 4.8600e-04 - val_loss: 2.6245e-04\n",
      "Epoch 17/100\n",
      "43/43 [==============================] - 17s 385ms/step - loss: 4.6788e-04 - val_loss: 2.4690e-04\n",
      "Epoch 18/100\n",
      "43/43 [==============================] - 17s 405ms/step - loss: 4.1951e-04 - val_loss: 3.6658e-04\n",
      "Epoch 19/100\n",
      "43/43 [==============================] - 22s 507ms/step - loss: 4.1808e-04 - val_loss: 2.6197e-04\n",
      "Epoch 20/100\n",
      "43/43 [==============================] - 26s 598ms/step - loss: 3.6195e-04 - val_loss: 2.3476e-04\n",
      "Epoch 21/100\n",
      "43/43 [==============================] - 25s 584ms/step - loss: 4.0540e-04 - val_loss: 5.3693e-04\n",
      "Epoch 22/100\n",
      "43/43 [==============================] - 34s 804ms/step - loss: 4.1545e-04 - val_loss: 2.4410e-04\n",
      "Epoch 23/100\n",
      "43/43 [==============================] - 18s 415ms/step - loss: 3.3815e-04 - val_loss: 2.0440e-04\n",
      "Epoch 24/100\n",
      "43/43 [==============================] - 17s 393ms/step - loss: 3.9040e-04 - val_loss: 2.2256e-04\n",
      "Epoch 25/100\n",
      "43/43 [==============================] - 17s 399ms/step - loss: 3.2758e-04 - val_loss: 2.1759e-04\n",
      "Epoch 26/100\n",
      "43/43 [==============================] - 17s 398ms/step - loss: 3.0205e-04 - val_loss: 1.8101e-04\n",
      "Epoch 27/100\n",
      "43/43 [==============================] - 19s 433ms/step - loss: 3.3321e-04 - val_loss: 1.9256e-04\n",
      "Epoch 28/100\n",
      "43/43 [==============================] - 19s 446ms/step - loss: 2.7968e-04 - val_loss: 1.8271e-04\n",
      "Epoch 29/100\n",
      "43/43 [==============================] - 19s 436ms/step - loss: 2.7104e-04 - val_loss: 1.5960e-04\n",
      "Epoch 30/100\n",
      "43/43 [==============================] - 23s 537ms/step - loss: 2.7489e-04 - val_loss: 2.3180e-04\n",
      "Epoch 31/100\n",
      "43/43 [==============================] - 22s 508ms/step - loss: 2.3969e-04 - val_loss: 1.4465e-04\n",
      "Epoch 32/100\n",
      "43/43 [==============================] - 24s 555ms/step - loss: 2.8274e-04 - val_loss: 1.6363e-04\n",
      "Epoch 33/100\n",
      "43/43 [==============================] - 18s 413ms/step - loss: 2.5443e-04 - val_loss: 1.3590e-04\n",
      "Epoch 34/100\n",
      "43/43 [==============================] - 18s 425ms/step - loss: 2.8634e-04 - val_loss: 1.3305e-04\n",
      "Epoch 35/100\n",
      "43/43 [==============================] - 22s 517ms/step - loss: 2.4133e-04 - val_loss: 1.5473e-04\n",
      "Epoch 36/100\n",
      "43/43 [==============================] - 18s 413ms/step - loss: 2.1143e-04 - val_loss: 1.3544e-04\n",
      "Epoch 37/100\n",
      "43/43 [==============================] - 24s 559ms/step - loss: 2.2269e-04 - val_loss: 1.2549e-04\n",
      "Epoch 38/100\n",
      "43/43 [==============================] - 30s 693ms/step - loss: 2.1577e-04 - val_loss: 3.2739e-04\n",
      "Epoch 39/100\n",
      "43/43 [==============================] - 22s 517ms/step - loss: 2.2171e-04 - val_loss: 1.5560e-04\n",
      "Epoch 40/100\n",
      "43/43 [==============================] - 19s 453ms/step - loss: 2.7391e-04 - val_loss: 1.7627e-04\n",
      "Epoch 41/100\n",
      "43/43 [==============================] - 19s 450ms/step - loss: 2.3976e-04 - val_loss: 1.2206e-04\n",
      "Epoch 42/100\n",
      "43/43 [==============================] - 23s 531ms/step - loss: 2.4910e-04 - val_loss: 1.4090e-04\n",
      "Epoch 43/100\n",
      "43/43 [==============================] - 23s 536ms/step - loss: 2.2733e-04 - val_loss: 1.4199e-04\n",
      "Epoch 44/100\n",
      "43/43 [==============================] - 17s 389ms/step - loss: 2.0916e-04 - val_loss: 1.6642e-04\n",
      "Epoch 45/100\n",
      "43/43 [==============================] - 16s 384ms/step - loss: 2.1585e-04 - val_loss: 1.3602e-04\n",
      "Epoch 46/100\n",
      "43/43 [==============================] - 16s 371ms/step - loss: 2.0786e-04 - val_loss: 1.2468e-04\n",
      "Epoch 47/100\n",
      "43/43 [==============================] - 16s 369ms/step - loss: 2.1969e-04 - val_loss: 1.3215e-04\n",
      "Epoch 48/100\n",
      "43/43 [==============================] - 16s 376ms/step - loss: 2.2505e-04 - val_loss: 1.1912e-04\n",
      "Epoch 49/100\n",
      "43/43 [==============================] - 17s 395ms/step - loss: 2.0932e-04 - val_loss: 1.2439e-04\n",
      "Epoch 50/100\n",
      "43/43 [==============================] - 16s 377ms/step - loss: 2.2782e-04 - val_loss: 1.4172e-04\n",
      "Epoch 51/100\n",
      "43/43 [==============================] - 15s 355ms/step - loss: 2.4793e-04 - val_loss: 1.7280e-04\n",
      "Epoch 52/100\n",
      "43/43 [==============================] - 17s 384ms/step - loss: 2.1216e-04 - val_loss: 1.4412e-04\n",
      "Epoch 53/100\n",
      "43/43 [==============================] - 16s 363ms/step - loss: 2.1840e-04 - val_loss: 2.1493e-04\n",
      "Epoch 54/100\n",
      "43/43 [==============================] - 16s 381ms/step - loss: 2.3253e-04 - val_loss: 1.8389e-04\n",
      "Epoch 55/100\n",
      "43/43 [==============================] - 16s 380ms/step - loss: 2.3055e-04 - val_loss: 1.3029e-04\n",
      "Epoch 56/100\n",
      "43/43 [==============================] - 21s 481ms/step - loss: 2.0737e-04 - val_loss: 1.3804e-04\n",
      "Epoch 57/100\n",
      "43/43 [==============================] - 22s 518ms/step - loss: 2.2247e-04 - val_loss: 1.4580e-04\n",
      "Epoch 58/100\n",
      "43/43 [==============================] - 20s 473ms/step - loss: 1.8855e-04 - val_loss: 4.2162e-04\n",
      "Epoch 59/100\n",
      "43/43 [==============================] - 22s 520ms/step - loss: 3.4751e-04 - val_loss: 2.9782e-04\n",
      "Epoch 60/100\n",
      "43/43 [==============================] - 21s 498ms/step - loss: 2.0899e-04 - val_loss: 2.3419e-04\n",
      "Epoch 61/100\n",
      "43/43 [==============================] - 19s 443ms/step - loss: 2.8402e-04 - val_loss: 1.2674e-04\n",
      "Epoch 62/100\n",
      "43/43 [==============================] - 17s 392ms/step - loss: 2.0642e-04 - val_loss: 2.6455e-04\n",
      "Epoch 63/100\n",
      "43/43 [==============================] - 17s 391ms/step - loss: 2.6311e-04 - val_loss: 1.2820e-04\n",
      "Epoch 64/100\n",
      "43/43 [==============================] - 16s 379ms/step - loss: 2.1405e-04 - val_loss: 1.1720e-04\n",
      "Epoch 65/100\n",
      "43/43 [==============================] - 16s 379ms/step - loss: 1.9953e-04 - val_loss: 1.1689e-04\n",
      "Epoch 66/100\n",
      "43/43 [==============================] - 16s 371ms/step - loss: 2.1909e-04 - val_loss: 1.1354e-04\n",
      "Epoch 67/100\n",
      "43/43 [==============================] - 17s 388ms/step - loss: 1.9380e-04 - val_loss: 1.8390e-04\n",
      "Epoch 68/100\n",
      "43/43 [==============================] - 16s 378ms/step - loss: 2.4432e-04 - val_loss: 1.2154e-04\n",
      "Epoch 69/100\n",
      "43/43 [==============================] - 16s 371ms/step - loss: 1.9562e-04 - val_loss: 1.8581e-04\n",
      "Epoch 70/100\n",
      "43/43 [==============================] - 16s 376ms/step - loss: 2.1501e-04 - val_loss: 1.1948e-04\n",
      "Epoch 71/100\n",
      "43/43 [==============================] - 16s 378ms/step - loss: 2.0858e-04 - val_loss: 1.1846e-04\n",
      "Epoch 72/100\n",
      "43/43 [==============================] - 17s 399ms/step - loss: 1.9369e-04 - val_loss: 1.1509e-04\n",
      "Epoch 73/100\n",
      "43/43 [==============================] - 17s 394ms/step - loss: 2.0547e-04 - val_loss: 1.2931e-04\n",
      "Epoch 74/100\n",
      "43/43 [==============================] - 17s 400ms/step - loss: 1.9842e-04 - val_loss: 1.2297e-04\n",
      "Epoch 75/100\n"
     ]
    },
    {
     "name": "stdout",
     "output_type": "stream",
     "text": [
      "43/43 [==============================] - 21s 481ms/step - loss: 2.0040e-04 - val_loss: 1.2861e-04\n",
      "Epoch 76/100\n",
      "43/43 [==============================] - 21s 488ms/step - loss: 1.9489e-04 - val_loss: 1.2550e-04\n",
      "Epoch 77/100\n",
      "43/43 [==============================] - 18s 413ms/step - loss: 1.9783e-04 - val_loss: 1.2164e-04\n",
      "Epoch 78/100\n",
      "43/43 [==============================] - 20s 465ms/step - loss: 2.0642e-04 - val_loss: 1.4079e-04\n",
      "Epoch 79/100\n",
      "43/43 [==============================] - 20s 463ms/step - loss: 1.8838e-04 - val_loss: 1.1654e-04\n",
      "Epoch 80/100\n",
      "43/43 [==============================] - 20s 476ms/step - loss: 1.8915e-04 - val_loss: 1.1744e-04\n",
      "Epoch 81/100\n",
      "43/43 [==============================] - 23s 533ms/step - loss: 2.0887e-04 - val_loss: 1.2896e-04\n",
      "Epoch 82/100\n",
      "43/43 [==============================] - 22s 515ms/step - loss: 2.2750e-04 - val_loss: 1.1266e-04\n",
      "Epoch 83/100\n",
      "43/43 [==============================] - 16s 368ms/step - loss: 1.9251e-04 - val_loss: 1.1634e-04\n",
      "Epoch 84/100\n",
      "43/43 [==============================] - 17s 391ms/step - loss: 1.9182e-04 - val_loss: 1.1304e-04\n",
      "Epoch 85/100\n",
      "43/43 [==============================] - 19s 442ms/step - loss: 1.9445e-04 - val_loss: 1.2467e-04\n",
      "Epoch 86/100\n",
      "43/43 [==============================] - 19s 437ms/step - loss: 1.8151e-04 - val_loss: 1.6871e-04\n",
      "Epoch 87/100\n",
      "43/43 [==============================] - 19s 437ms/step - loss: 2.3178e-04 - val_loss: 1.1494e-04\n",
      "Epoch 88/100\n",
      "43/43 [==============================] - 19s 431ms/step - loss: 1.9495e-04 - val_loss: 1.4318e-04\n",
      "Epoch 89/100\n",
      "43/43 [==============================] - 18s 411ms/step - loss: 1.9861e-04 - val_loss: 1.9732e-04\n",
      "Epoch 90/100\n",
      "43/43 [==============================] - 18s 414ms/step - loss: 1.9280e-04 - val_loss: 1.3561e-04\n",
      "Epoch 91/100\n",
      "43/43 [==============================] - 18s 407ms/step - loss: 1.9879e-04 - val_loss: 1.1387e-04\n",
      "Epoch 92/100\n",
      "43/43 [==============================] - 18s 416ms/step - loss: 1.9341e-04 - val_loss: 1.1384e-04\n",
      "Epoch 93/100\n",
      "43/43 [==============================] - 18s 415ms/step - loss: 1.9830e-04 - val_loss: 1.6547e-04\n",
      "Epoch 94/100\n",
      "43/43 [==============================] - 17s 390ms/step - loss: 2.0841e-04 - val_loss: 1.4634e-04\n",
      "Epoch 95/100\n",
      "43/43 [==============================] - 16s 372ms/step - loss: 2.5446e-04 - val_loss: 1.2354e-04\n",
      "Epoch 96/100\n",
      "43/43 [==============================] - 16s 371ms/step - loss: 1.9676e-04 - val_loss: 1.2717e-04\n",
      "Epoch 97/100\n",
      "43/43 [==============================] - 16s 361ms/step - loss: 1.9567e-04 - val_loss: 1.4794e-04\n",
      "Epoch 98/100\n",
      "43/43 [==============================] - 15s 351ms/step - loss: 1.9543e-04 - val_loss: 1.2222e-04\n",
      "Epoch 99/100\n",
      "43/43 [==============================] - 16s 365ms/step - loss: 2.0365e-04 - val_loss: 1.5400e-04\n",
      "Epoch 100/100\n",
      "43/43 [==============================] - 16s 380ms/step - loss: 1.8034e-04 - val_loss: 1.5620e-04\n"
     ]
    },
    {
     "data": {
      "text/plain": [
       "<keras.callbacks.History at 0x260943f3370>"
      ]
     },
     "execution_count": 137,
     "metadata": {},
     "output_type": "execute_result"
    }
   ],
   "source": [
    "#fitting\n",
    "model.fit(x_train,y_train,validation_data=(x_test,y_test),epochs=100,batch_size=64,verbose=1)"
   ]
  },
  {
   "cell_type": "code",
   "execution_count": 145,
   "id": "63f73bcd",
   "metadata": {},
   "outputs": [
    {
     "data": {
      "text/plain": [
       "'1.23.5'"
      ]
     },
     "execution_count": 145,
     "metadata": {},
     "output_type": "execute_result"
    }
   ],
   "source": [
    "np.__version__"
   ]
  },
  {
   "cell_type": "code",
   "execution_count": 146,
   "id": "012e177f",
   "metadata": {},
   "outputs": [
    {
     "name": "stdout",
     "output_type": "stream",
     "text": [
      "WARNING:tensorflow:AutoGraph could not transform <function Model.make_predict_function.<locals>.predict_function at 0x000002609D35DC10> and will run it as-is.\n",
      "Please report this to the TensorFlow team. When filing the bug, set the verbosity to 10 (on Linux, `export AUTOGRAPH_VERBOSITY=10`) and attach the full output.\n",
      "Cause: closure mismatch, requested ('self', 'step_function'), but source function had ()\n",
      "To silence this warning, decorate the function with @tf.autograph.experimental.do_not_convert\n",
      "WARNING: AutoGraph could not transform <function Model.make_predict_function.<locals>.predict_function at 0x000002609D35DC10> and will run it as-is.\n",
      "Please report this to the TensorFlow team. When filing the bug, set the verbosity to 10 (on Linux, `export AUTOGRAPH_VERBOSITY=10`) and attach the full output.\n",
      "Cause: closure mismatch, requested ('self', 'step_function'), but source function had ()\n",
      "To silence this warning, decorate the function with @tf.autograph.experimental.do_not_convert\n"
     ]
    }
   ],
   "source": [
    "#Predictions\n",
    "train_predict=model.predict(x_train)\n",
    "test_predict=model.predict(x_test)"
   ]
  },
  {
   "cell_type": "code",
   "execution_count": 147,
   "id": "fc7a3d2a",
   "metadata": {},
   "outputs": [],
   "source": [
    "#Transforming back to original form.\n",
    "train_predict=scaler.inverse_transform(train_predict)\n",
    "test_predict=scaler.inverse_transform(test_predict)"
   ]
  },
  {
   "cell_type": "code",
   "execution_count": 148,
   "id": "af4c8d26",
   "metadata": {},
   "outputs": [
    {
     "name": "stdout",
     "output_type": "stream",
     "text": [
      "364.0411438856868\n",
      "437.50025939877\n"
     ]
    }
   ],
   "source": [
    "#Calculating RMSE for train and test\n",
    "import math\n",
    "from sklearn.metrics import mean_squared_error\n",
    "print(math.sqrt(mean_squared_error(y_train,train_predict)))\n",
    "print(math.sqrt(mean_squared_error(y_test,test_predict)))"
   ]
  },
  {
   "cell_type": "markdown",
   "id": "04be18f4",
   "metadata": {},
   "source": [
    "# Plotting"
   ]
  },
  {
   "cell_type": "code",
   "execution_count": 149,
   "id": "dad81ab4",
   "metadata": {},
   "outputs": [
    {
     "data": {
      "image/png": "[encoded data removed]",
      "text/plain": [
       "<Figure size 640x480 with 1 Axes>"
      ]
     },
     "metadata": {},
     "output_type": "display_data"
    }
   ],
   "source": [
    "#shift train predictions for plotting\n",
    "look_back=100 #time_step=100\n",
    "trainpredictplot= np.empty_like(df1)\n",
    "trainpredictplot[:,:]=np.nan\n",
    "trainpredictplot[look_back:len(train_predict)+look_back, :]=train_predict\n",
    "#shift test predictions for plotting\n",
    "testpredictplot= np.empty_like(df1)\n",
    "testpredictplot[:,:]=np.nan\n",
    "testpredictplot[len(train_predict)+(look_back*2)+1:len(df1)-1, :]=test_predict\n",
    "#plot baseline and predictions\n",
    "plt.plot(scaler.inverse_transform(df1))\n",
    "plt.plot(trainpredictplot)\n",
    "plt.plot(testpredictplot)\n",
    "plt.show()"
   ]
  },
  {
   "cell_type": "markdown",
   "id": "26b8b8ff",
   "metadata": {},
   "source": [
    "In the above diagram blue=total data, orange= train data, green= test data"
   ]
  },
  {
   "cell_type": "markdown",
   "id": "cdfd46be",
   "metadata": {},
   "source": [
    "# Future prediction"
   ]
  },
  {
   "cell_type": "code",
   "execution_count": 151,
   "id": "5db87c78",
   "metadata": {},
   "outputs": [
    {
     "data": {
      "text/plain": [
       "499"
      ]
     },
     "execution_count": 151,
     "metadata": {},
     "output_type": "execute_result"
    }
   ],
   "source": [
    "len(test_data)"
   ]
  },
  {
   "cell_type": "code",
   "execution_count": 157,
   "id": "4672eb72",
   "metadata": {},
   "outputs": [
    {
     "data": {
      "text/plain": [
       "(1, 100)"
      ]
     },
     "execution_count": 157,
     "metadata": {},
     "output_type": "execute_result"
    }
   ],
   "source": [
    "x_input=test_data[399:].reshape(1,-1)\n",
    "x_input.shape"
   ]
  },
  {
   "cell_type": "code",
   "execution_count": 158,
   "id": "9a70e17f",
   "metadata": {},
   "outputs": [],
   "source": [
    "#coverting the 100 rows of array to 100 values of list\n",
    "temp_input=list(x_input)\n",
    "temp_input=temp_input[0].tolist()"
   ]
  },
  {
   "cell_type": "code",
   "execution_count": 162,
   "id": "766f6fa7",
   "metadata": {},
   "outputs": [
    {
     "name": "stdout",
     "output_type": "stream",
     "text": [
      "[0.27526677928391907, 0.28663837501545053, 0.30031725104033624, 0.30015244530509666, 0.2961971076593465, 0.2996580280993779, 0.300399653907956, 0.29829838078365123, 0.3042313872522764, 0.3048906101932347, 0.30353096287750814, 0.29871039512175024, 0.2938074244983725, 0.29669152486506534, 0.3018005026574925, 0.3069094804499196, 0.31519096864570884, 0.31263647974949527, 0.31078241522804995, 0.31341930699188336, 0.3275926002224877, 0.3299822833834617, 0.324708499855795, 0.32507931276008406, 0.3382225701454411, 0.34353755510691775, 0.33954101602735776, 0.3380165629763916, 0.35396151786082153, 0.35598038811750654, 0.35478554653701955, 0.3476164970540975, 0.3498413744798319, 0.37250216307527506, 0.3719665444357464, 0.3683820196942854, 0.3601005314984962, 0.3506654031560298, 0.3440319723126365, 0.3482757199950558, 0.3584524741461004, 0.3661983437023608, 0.37233735734003537, 0.3814840756458324, 0.38193729141774135, 0.3984590663755099, 0.39499814593547855, 0.3926908656421244, 0.39821185777265056, 0.4212434592723826, 0.4362819826129949, 0.43924848584730747, 0.46108524576655263, 0.46108524576655263, 0.46656503646326886, 0.4680894895142351, 0.47155040995426645, 0.46190927444275054, 0.4951588315273372, 0.48864900498537356, 0.48963783939681094, 0.5061596143545796, 0.531086481809567, 0.5399447900786948, 0.5360718553005644, 0.5416752502987103, 0.5347534094186477, 0.5345062008157884, 0.5287380000824029, 0.508714103250793, 0.5152239297927568, 0.4997733921140456, 0.4903382637715792, 0.47880186230480815, 0.5074368588026863, 0.5311276832433769, 0.5274195542004861, 0.4959828602035351, 0.4946232128878085, 0.5006386222240534, 0.5022042767088294, 0.5204153104528038, 0.5228873964813976, 0.6116352849079149, 0.638251411149108, 0.5995220633678052, 0.5986980346916072, 0.5763668575666433, 0.5317457047505253, 0.5307156689052779, 0.5639652259898644, 0.5112685921470067, 0.5236290222899757, 0.5228049936137777, 0.5244530509661736, 0.5184788430637386, 0.5331877549338717, 0.5352478266243665, 0.5400683943801244, 0.5347946108524577]\n"
     ]
    }
   ],
   "source": [
    "print(temp_input) #100 values in a list"
   ]
  },
  {
   "cell_type": "code",
   "execution_count": 164,
   "id": "c7007dde",
   "metadata": {},
   "outputs": [
    {
     "name": "stdout",
     "output_type": "stream",
     "text": [
      "[0.52639407]\n",
      "101\n",
      "1 day input [0.28663838 0.30031725 0.30015245 0.29619711 0.29965803 0.30039965\n",
      " 0.29829838 0.30423139 0.30489061 0.30353096 0.2987104  0.29380742\n",
      " 0.29669152 0.3018005  0.30690948 0.31519097 0.31263648 0.31078242\n",
      " 0.31341931 0.3275926  0.32998228 0.3247085  0.32507931 0.33822257\n",
      " 0.34353756 0.33954102 0.33801656 0.35396152 0.35598039 0.35478555\n",
      " 0.3476165  0.34984137 0.37250216 0.37196654 0.36838202 0.36010053\n",
      " 0.3506654  0.34403197 0.34827572 0.35845247 0.36619834 0.37233736\n",
      " 0.38148408 0.38193729 0.39845907 0.39499815 0.39269087 0.39821186\n",
      " 0.42124346 0.43628198 0.43924849 0.46108525 0.46108525 0.46656504\n",
      " 0.46808949 0.47155041 0.46190927 0.49515883 0.488649   0.48963784\n",
      " 0.50615961 0.53108648 0.53994479 0.53607186 0.54167525 0.53475341\n",
      " 0.5345062  0.528738   0.5087141  0.51522393 0.49977339 0.49033826\n",
      " 0.47880186 0.50743686 0.53112768 0.52741955 0.49598286 0.49462321\n",
      " 0.50063862 0.50220428 0.52041531 0.5228874  0.61163528 0.63825141\n",
      " 0.59952206 0.59869803 0.57636686 0.5317457  0.53071567 0.56396523\n",
      " 0.51126859 0.52362902 0.52280499 0.52445305 0.51847884 0.53318775\n",
      " 0.53524783 0.54006839 0.53479461 0.52639407]\n",
      "1/1 [==============================] - 0s 62ms/step\n",
      "1 day output [[0.5160057]]\n",
      "2 day input [0.30031725 0.30015245 0.29619711 0.29965803 0.30039965 0.29829838\n",
      " 0.30423139 0.30489061 0.30353096 0.2987104  0.29380742 0.29669152\n",
      " 0.3018005  0.30690948 0.31519097 0.31263648 0.31078242 0.31341931\n",
      " 0.3275926  0.32998228 0.3247085  0.32507931 0.33822257 0.34353756\n",
      " 0.33954102 0.33801656 0.35396152 0.35598039 0.35478555 0.3476165\n",
      " 0.34984137 0.37250216 0.37196654 0.36838202 0.36010053 0.3506654\n",
      " 0.34403197 0.34827572 0.35845247 0.36619834 0.37233736 0.38148408\n",
      " 0.38193729 0.39845907 0.39499815 0.39269087 0.39821186 0.42124346\n",
      " 0.43628198 0.43924849 0.46108525 0.46108525 0.46656504 0.46808949\n",
      " 0.47155041 0.46190927 0.49515883 0.488649   0.48963784 0.50615961\n",
      " 0.53108648 0.53994479 0.53607186 0.54167525 0.53475341 0.5345062\n",
      " 0.528738   0.5087141  0.51522393 0.49977339 0.49033826 0.47880186\n",
      " 0.50743686 0.53112768 0.52741955 0.49598286 0.49462321 0.50063862\n",
      " 0.50220428 0.52041531 0.5228874  0.61163528 0.63825141 0.59952206\n",
      " 0.59869803 0.57636686 0.5317457  0.53071567 0.56396523 0.51126859\n",
      " 0.52362902 0.52280499 0.52445305 0.51847884 0.53318775 0.53524783\n",
      " 0.54006839 0.53479461 0.52639407 0.51600569]\n",
      "1/1 [==============================] - 0s 63ms/step\n",
      "2 day output [[0.5051958]]\n",
      "3 day input [0.30015245 0.29619711 0.29965803 0.30039965 0.29829838 0.30423139\n",
      " 0.30489061 0.30353096 0.2987104  0.29380742 0.29669152 0.3018005\n",
      " 0.30690948 0.31519097 0.31263648 0.31078242 0.31341931 0.3275926\n",
      " 0.32998228 0.3247085  0.32507931 0.33822257 0.34353756 0.33954102\n",
      " 0.33801656 0.35396152 0.35598039 0.35478555 0.3476165  0.34984137\n",
      " 0.37250216 0.37196654 0.36838202 0.36010053 0.3506654  0.34403197\n",
      " 0.34827572 0.35845247 0.36619834 0.37233736 0.38148408 0.38193729\n",
      " 0.39845907 0.39499815 0.39269087 0.39821186 0.42124346 0.43628198\n",
      " 0.43924849 0.46108525 0.46108525 0.46656504 0.46808949 0.47155041\n",
      " 0.46190927 0.49515883 0.488649   0.48963784 0.50615961 0.53108648\n",
      " 0.53994479 0.53607186 0.54167525 0.53475341 0.5345062  0.528738\n",
      " 0.5087141  0.51522393 0.49977339 0.49033826 0.47880186 0.50743686\n",
      " 0.53112768 0.52741955 0.49598286 0.49462321 0.50063862 0.50220428\n",
      " 0.52041531 0.5228874  0.61163528 0.63825141 0.59952206 0.59869803\n",
      " 0.57636686 0.5317457  0.53071567 0.56396523 0.51126859 0.52362902\n",
      " 0.52280499 0.52445305 0.51847884 0.53318775 0.53524783 0.54006839\n",
      " 0.53479461 0.52639407 0.51600569 0.5051958 ]\n",
      "1/1 [==============================] - 0s 67ms/step\n",
      "3 day output [[0.4942084]]\n",
      "4 day input [0.29619711 0.29965803 0.30039965 0.29829838 0.30423139 0.30489061\n",
      " 0.30353096 0.2987104  0.29380742 0.29669152 0.3018005  0.30690948\n",
      " 0.31519097 0.31263648 0.31078242 0.31341931 0.3275926  0.32998228\n",
      " 0.3247085  0.32507931 0.33822257 0.34353756 0.33954102 0.33801656\n",
      " 0.35396152 0.35598039 0.35478555 0.3476165  0.34984137 0.37250216\n",
      " 0.37196654 0.36838202 0.36010053 0.3506654  0.34403197 0.34827572\n",
      " 0.35845247 0.36619834 0.37233736 0.38148408 0.38193729 0.39845907\n",
      " 0.39499815 0.39269087 0.39821186 0.42124346 0.43628198 0.43924849\n",
      " 0.46108525 0.46108525 0.46656504 0.46808949 0.47155041 0.46190927\n",
      " 0.49515883 0.488649   0.48963784 0.50615961 0.53108648 0.53994479\n",
      " 0.53607186 0.54167525 0.53475341 0.5345062  0.528738   0.5087141\n",
      " 0.51522393 0.49977339 0.49033826 0.47880186 0.50743686 0.53112768\n",
      " 0.52741955 0.49598286 0.49462321 0.50063862 0.50220428 0.52041531\n",
      " 0.5228874  0.61163528 0.63825141 0.59952206 0.59869803 0.57636686\n",
      " 0.5317457  0.53071567 0.56396523 0.51126859 0.52362902 0.52280499\n",
      " 0.52445305 0.51847884 0.53318775 0.53524783 0.54006839 0.53479461\n",
      " 0.52639407 0.51600569 0.5051958  0.4942084 ]\n",
      "1/1 [==============================] - 0s 48ms/step\n",
      "4 day output [[0.48269868]]\n",
      "5 day input [0.29965803 0.30039965 0.29829838 0.30423139 0.30489061 0.30353096\n",
      " 0.2987104  0.29380742 0.29669152 0.3018005  0.30690948 0.31519097\n",
      " 0.31263648 0.31078242 0.31341931 0.3275926  0.32998228 0.3247085\n",
      " 0.32507931 0.33822257 0.34353756 0.33954102 0.33801656 0.35396152\n",
      " 0.35598039 0.35478555 0.3476165  0.34984137 0.37250216 0.37196654\n",
      " 0.36838202 0.36010053 0.3506654  0.34403197 0.34827572 0.35845247\n",
      " 0.36619834 0.37233736 0.38148408 0.38193729 0.39845907 0.39499815\n",
      " 0.39269087 0.39821186 0.42124346 0.43628198 0.43924849 0.46108525\n",
      " 0.46108525 0.46656504 0.46808949 0.47155041 0.46190927 0.49515883\n",
      " 0.488649   0.48963784 0.50615961 0.53108648 0.53994479 0.53607186\n",
      " 0.54167525 0.53475341 0.5345062  0.528738   0.5087141  0.51522393\n",
      " 0.49977339 0.49033826 0.47880186 0.50743686 0.53112768 0.52741955\n",
      " 0.49598286 0.49462321 0.50063862 0.50220428 0.52041531 0.5228874\n",
      " 0.61163528 0.63825141 0.59952206 0.59869803 0.57636686 0.5317457\n",
      " 0.53071567 0.56396523 0.51126859 0.52362902 0.52280499 0.52445305\n",
      " 0.51847884 0.53318775 0.53524783 0.54006839 0.53479461 0.52639407\n",
      " 0.51600569 0.5051958  0.4942084  0.48269868]\n",
      "1/1 [==============================] - 0s 61ms/step\n",
      "5 day output [[0.47030863]]\n",
      "6 day input [0.30039965 0.29829838 0.30423139 0.30489061 0.30353096 0.2987104\n",
      " 0.29380742 0.29669152 0.3018005  0.30690948 0.31519097 0.31263648\n",
      " 0.31078242 0.31341931 0.3275926  0.32998228 0.3247085  0.32507931\n",
      " 0.33822257 0.34353756 0.33954102 0.33801656 0.35396152 0.35598039\n",
      " 0.35478555 0.3476165  0.34984137 0.37250216 0.37196654 0.36838202\n",
      " 0.36010053 0.3506654  0.34403197 0.34827572 0.35845247 0.36619834\n",
      " 0.37233736 0.38148408 0.38193729 0.39845907 0.39499815 0.39269087\n",
      " 0.39821186 0.42124346 0.43628198 0.43924849 0.46108525 0.46108525\n",
      " 0.46656504 0.46808949 0.47155041 0.46190927 0.49515883 0.488649\n",
      " 0.48963784 0.50615961 0.53108648 0.53994479 0.53607186 0.54167525\n",
      " 0.53475341 0.5345062  0.528738   0.5087141  0.51522393 0.49977339\n",
      " 0.49033826 0.47880186 0.50743686 0.53112768 0.52741955 0.49598286\n",
      " 0.49462321 0.50063862 0.50220428 0.52041531 0.5228874  0.61163528\n",
      " 0.63825141 0.59952206 0.59869803 0.57636686 0.5317457  0.53071567\n",
      " 0.56396523 0.51126859 0.52362902 0.52280499 0.52445305 0.51847884\n",
      " 0.53318775 0.53524783 0.54006839 0.53479461 0.52639407 0.51600569\n",
      " 0.5051958  0.4942084  0.48269868 0.47030863]\n",
      "1/1 [==============================] - 0s 75ms/step\n",
      "6 day output [[0.4569718]]\n",
      "7 day input [0.29829838 0.30423139 0.30489061 0.30353096 0.2987104  0.29380742\n",
      " 0.29669152 0.3018005  0.30690948 0.31519097 0.31263648 0.31078242\n",
      " 0.31341931 0.3275926  0.32998228 0.3247085  0.32507931 0.33822257\n",
      " 0.34353756 0.33954102 0.33801656 0.35396152 0.35598039 0.35478555\n",
      " 0.3476165  0.34984137 0.37250216 0.37196654 0.36838202 0.36010053\n",
      " 0.3506654  0.34403197 0.34827572 0.35845247 0.36619834 0.37233736\n",
      " 0.38148408 0.38193729 0.39845907 0.39499815 0.39269087 0.39821186\n",
      " 0.42124346 0.43628198 0.43924849 0.46108525 0.46108525 0.46656504\n",
      " 0.46808949 0.47155041 0.46190927 0.49515883 0.488649   0.48963784\n",
      " 0.50615961 0.53108648 0.53994479 0.53607186 0.54167525 0.53475341\n",
      " 0.5345062  0.528738   0.5087141  0.51522393 0.49977339 0.49033826\n",
      " 0.47880186 0.50743686 0.53112768 0.52741955 0.49598286 0.49462321\n",
      " 0.50063862 0.50220428 0.52041531 0.5228874  0.61163528 0.63825141\n",
      " 0.59952206 0.59869803 0.57636686 0.5317457  0.53071567 0.56396523\n",
      " 0.51126859 0.52362902 0.52280499 0.52445305 0.51847884 0.53318775\n",
      " 0.53524783 0.54006839 0.53479461 0.52639407 0.51600569 0.5051958\n",
      " 0.4942084  0.48269868 0.47030863 0.45697179]\n"
     ]
    },
    {
     "name": "stdout",
     "output_type": "stream",
     "text": [
      "1/1 [==============================] - 0s 75ms/step\n",
      "7 day output [[0.44294277]]\n",
      "8 day input [0.30423139 0.30489061 0.30353096 0.2987104  0.29380742 0.29669152\n",
      " 0.3018005  0.30690948 0.31519097 0.31263648 0.31078242 0.31341931\n",
      " 0.3275926  0.32998228 0.3247085  0.32507931 0.33822257 0.34353756\n",
      " 0.33954102 0.33801656 0.35396152 0.35598039 0.35478555 0.3476165\n",
      " 0.34984137 0.37250216 0.37196654 0.36838202 0.36010053 0.3506654\n",
      " 0.34403197 0.34827572 0.35845247 0.36619834 0.37233736 0.38148408\n",
      " 0.38193729 0.39845907 0.39499815 0.39269087 0.39821186 0.42124346\n",
      " 0.43628198 0.43924849 0.46108525 0.46108525 0.46656504 0.46808949\n",
      " 0.47155041 0.46190927 0.49515883 0.488649   0.48963784 0.50615961\n",
      " 0.53108648 0.53994479 0.53607186 0.54167525 0.53475341 0.5345062\n",
      " 0.528738   0.5087141  0.51522393 0.49977339 0.49033826 0.47880186\n",
      " 0.50743686 0.53112768 0.52741955 0.49598286 0.49462321 0.50063862\n",
      " 0.50220428 0.52041531 0.5228874  0.61163528 0.63825141 0.59952206\n",
      " 0.59869803 0.57636686 0.5317457  0.53071567 0.56396523 0.51126859\n",
      " 0.52362902 0.52280499 0.52445305 0.51847884 0.53318775 0.53524783\n",
      " 0.54006839 0.53479461 0.52639407 0.51600569 0.5051958  0.4942084\n",
      " 0.48269868 0.47030863 0.45697179 0.44294277]\n",
      "1/1 [==============================] - 0s 84ms/step\n",
      "8 day output [[0.42866492]]\n",
      "9 day input [0.30489061 0.30353096 0.2987104  0.29380742 0.29669152 0.3018005\n",
      " 0.30690948 0.31519097 0.31263648 0.31078242 0.31341931 0.3275926\n",
      " 0.32998228 0.3247085  0.32507931 0.33822257 0.34353756 0.33954102\n",
      " 0.33801656 0.35396152 0.35598039 0.35478555 0.3476165  0.34984137\n",
      " 0.37250216 0.37196654 0.36838202 0.36010053 0.3506654  0.34403197\n",
      " 0.34827572 0.35845247 0.36619834 0.37233736 0.38148408 0.38193729\n",
      " 0.39845907 0.39499815 0.39269087 0.39821186 0.42124346 0.43628198\n",
      " 0.43924849 0.46108525 0.46108525 0.46656504 0.46808949 0.47155041\n",
      " 0.46190927 0.49515883 0.488649   0.48963784 0.50615961 0.53108648\n",
      " 0.53994479 0.53607186 0.54167525 0.53475341 0.5345062  0.528738\n",
      " 0.5087141  0.51522393 0.49977339 0.49033826 0.47880186 0.50743686\n",
      " 0.53112768 0.52741955 0.49598286 0.49462321 0.50063862 0.50220428\n",
      " 0.52041531 0.5228874  0.61163528 0.63825141 0.59952206 0.59869803\n",
      " 0.57636686 0.5317457  0.53071567 0.56396523 0.51126859 0.52362902\n",
      " 0.52280499 0.52445305 0.51847884 0.53318775 0.53524783 0.54006839\n",
      " 0.53479461 0.52639407 0.51600569 0.5051958  0.4942084  0.48269868\n",
      " 0.47030863 0.45697179 0.44294277 0.42866492]\n",
      "1/1 [==============================] - 0s 91ms/step\n",
      "9 day output [[0.41460517]]\n",
      "10 day input [0.30353096 0.2987104  0.29380742 0.29669152 0.3018005  0.30690948\n",
      " 0.31519097 0.31263648 0.31078242 0.31341931 0.3275926  0.32998228\n",
      " 0.3247085  0.32507931 0.33822257 0.34353756 0.33954102 0.33801656\n",
      " 0.35396152 0.35598039 0.35478555 0.3476165  0.34984137 0.37250216\n",
      " 0.37196654 0.36838202 0.36010053 0.3506654  0.34403197 0.34827572\n",
      " 0.35845247 0.36619834 0.37233736 0.38148408 0.38193729 0.39845907\n",
      " 0.39499815 0.39269087 0.39821186 0.42124346 0.43628198 0.43924849\n",
      " 0.46108525 0.46108525 0.46656504 0.46808949 0.47155041 0.46190927\n",
      " 0.49515883 0.488649   0.48963784 0.50615961 0.53108648 0.53994479\n",
      " 0.53607186 0.54167525 0.53475341 0.5345062  0.528738   0.5087141\n",
      " 0.51522393 0.49977339 0.49033826 0.47880186 0.50743686 0.53112768\n",
      " 0.52741955 0.49598286 0.49462321 0.50063862 0.50220428 0.52041531\n",
      " 0.5228874  0.61163528 0.63825141 0.59952206 0.59869803 0.57636686\n",
      " 0.5317457  0.53071567 0.56396523 0.51126859 0.52362902 0.52280499\n",
      " 0.52445305 0.51847884 0.53318775 0.53524783 0.54006839 0.53479461\n",
      " 0.52639407 0.51600569 0.5051958  0.4942084  0.48269868 0.47030863\n",
      " 0.45697179 0.44294277 0.42866492 0.41460517]\n",
      "1/1 [==============================] - 0s 70ms/step\n",
      "10 day output [[0.40113443]]\n",
      "11 day input [0.2987104  0.29380742 0.29669152 0.3018005  0.30690948 0.31519097\n",
      " 0.31263648 0.31078242 0.31341931 0.3275926  0.32998228 0.3247085\n",
      " 0.32507931 0.33822257 0.34353756 0.33954102 0.33801656 0.35396152\n",
      " 0.35598039 0.35478555 0.3476165  0.34984137 0.37250216 0.37196654\n",
      " 0.36838202 0.36010053 0.3506654  0.34403197 0.34827572 0.35845247\n",
      " 0.36619834 0.37233736 0.38148408 0.38193729 0.39845907 0.39499815\n",
      " 0.39269087 0.39821186 0.42124346 0.43628198 0.43924849 0.46108525\n",
      " 0.46108525 0.46656504 0.46808949 0.47155041 0.46190927 0.49515883\n",
      " 0.488649   0.48963784 0.50615961 0.53108648 0.53994479 0.53607186\n",
      " 0.54167525 0.53475341 0.5345062  0.528738   0.5087141  0.51522393\n",
      " 0.49977339 0.49033826 0.47880186 0.50743686 0.53112768 0.52741955\n",
      " 0.49598286 0.49462321 0.50063862 0.50220428 0.52041531 0.5228874\n",
      " 0.61163528 0.63825141 0.59952206 0.59869803 0.57636686 0.5317457\n",
      " 0.53071567 0.56396523 0.51126859 0.52362902 0.52280499 0.52445305\n",
      " 0.51847884 0.53318775 0.53524783 0.54006839 0.53479461 0.52639407\n",
      " 0.51600569 0.5051958  0.4942084  0.48269868 0.47030863 0.45697179\n",
      " 0.44294277 0.42866492 0.41460517 0.40113443]\n",
      "1/1 [==============================] - 0s 62ms/step\n",
      "11 day output [[0.38848284]]\n",
      "12 day input [0.29380742 0.29669152 0.3018005  0.30690948 0.31519097 0.31263648\n",
      " 0.31078242 0.31341931 0.3275926  0.32998228 0.3247085  0.32507931\n",
      " 0.33822257 0.34353756 0.33954102 0.33801656 0.35396152 0.35598039\n",
      " 0.35478555 0.3476165  0.34984137 0.37250216 0.37196654 0.36838202\n",
      " 0.36010053 0.3506654  0.34403197 0.34827572 0.35845247 0.36619834\n",
      " 0.37233736 0.38148408 0.38193729 0.39845907 0.39499815 0.39269087\n",
      " 0.39821186 0.42124346 0.43628198 0.43924849 0.46108525 0.46108525\n",
      " 0.46656504 0.46808949 0.47155041 0.46190927 0.49515883 0.488649\n",
      " 0.48963784 0.50615961 0.53108648 0.53994479 0.53607186 0.54167525\n",
      " 0.53475341 0.5345062  0.528738   0.5087141  0.51522393 0.49977339\n",
      " 0.49033826 0.47880186 0.50743686 0.53112768 0.52741955 0.49598286\n",
      " 0.49462321 0.50063862 0.50220428 0.52041531 0.5228874  0.61163528\n",
      " 0.63825141 0.59952206 0.59869803 0.57636686 0.5317457  0.53071567\n",
      " 0.56396523 0.51126859 0.52362902 0.52280499 0.52445305 0.51847884\n",
      " 0.53318775 0.53524783 0.54006839 0.53479461 0.52639407 0.51600569\n",
      " 0.5051958  0.4942084  0.48269868 0.47030863 0.45697179 0.44294277\n",
      " 0.42866492 0.41460517 0.40113443 0.38848284]\n",
      "1/1 [==============================] - 0s 47ms/step\n",
      "12 day output [[0.37675023]]\n",
      "13 day input [0.29669152 0.3018005  0.30690948 0.31519097 0.31263648 0.31078242\n",
      " 0.31341931 0.3275926  0.32998228 0.3247085  0.32507931 0.33822257\n",
      " 0.34353756 0.33954102 0.33801656 0.35396152 0.35598039 0.35478555\n",
      " 0.3476165  0.34984137 0.37250216 0.37196654 0.36838202 0.36010053\n",
      " 0.3506654  0.34403197 0.34827572 0.35845247 0.36619834 0.37233736\n",
      " 0.38148408 0.38193729 0.39845907 0.39499815 0.39269087 0.39821186\n",
      " 0.42124346 0.43628198 0.43924849 0.46108525 0.46108525 0.46656504\n",
      " 0.46808949 0.47155041 0.46190927 0.49515883 0.488649   0.48963784\n",
      " 0.50615961 0.53108648 0.53994479 0.53607186 0.54167525 0.53475341\n",
      " 0.5345062  0.528738   0.5087141  0.51522393 0.49977339 0.49033826\n",
      " 0.47880186 0.50743686 0.53112768 0.52741955 0.49598286 0.49462321\n",
      " 0.50063862 0.50220428 0.52041531 0.5228874  0.61163528 0.63825141\n",
      " 0.59952206 0.59869803 0.57636686 0.5317457  0.53071567 0.56396523\n",
      " 0.51126859 0.52362902 0.52280499 0.52445305 0.51847884 0.53318775\n",
      " 0.53524783 0.54006839 0.53479461 0.52639407 0.51600569 0.5051958\n",
      " 0.4942084  0.48269868 0.47030863 0.45697179 0.44294277 0.42866492\n",
      " 0.41460517 0.40113443 0.38848284 0.37675023]\n",
      "1/1 [==============================] - 0s 44ms/step\n",
      "13 day output [[0.36594194]]\n",
      "14 day input [0.3018005  0.30690948 0.31519097 0.31263648 0.31078242 0.31341931\n",
      " 0.3275926  0.32998228 0.3247085  0.32507931 0.33822257 0.34353756\n",
      " 0.33954102 0.33801656 0.35396152 0.35598039 0.35478555 0.3476165\n",
      " 0.34984137 0.37250216 0.37196654 0.36838202 0.36010053 0.3506654\n",
      " 0.34403197 0.34827572 0.35845247 0.36619834 0.37233736 0.38148408\n",
      " 0.38193729 0.39845907 0.39499815 0.39269087 0.39821186 0.42124346\n",
      " 0.43628198 0.43924849 0.46108525 0.46108525 0.46656504 0.46808949\n",
      " 0.47155041 0.46190927 0.49515883 0.488649   0.48963784 0.50615961\n",
      " 0.53108648 0.53994479 0.53607186 0.54167525 0.53475341 0.5345062\n",
      " 0.528738   0.5087141  0.51522393 0.49977339 0.49033826 0.47880186\n",
      " 0.50743686 0.53112768 0.52741955 0.49598286 0.49462321 0.50063862\n",
      " 0.50220428 0.52041531 0.5228874  0.61163528 0.63825141 0.59952206\n",
      " 0.59869803 0.57636686 0.5317457  0.53071567 0.56396523 0.51126859\n",
      " 0.52362902 0.52280499 0.52445305 0.51847884 0.53318775 0.53524783\n",
      " 0.54006839 0.53479461 0.52639407 0.51600569 0.5051958  0.4942084\n",
      " 0.48269868 0.47030863 0.45697179 0.44294277 0.42866492 0.41460517\n",
      " 0.40113443 0.38848284 0.37675023 0.36594194]\n"
     ]
    },
    {
     "name": "stdout",
     "output_type": "stream",
     "text": [
      "1/1 [==============================] - 0s 72ms/step\n",
      "14 day output [[0.35600802]]\n",
      "15 day input [0.30690948 0.31519097 0.31263648 0.31078242 0.31341931 0.3275926\n",
      " 0.32998228 0.3247085  0.32507931 0.33822257 0.34353756 0.33954102\n",
      " 0.33801656 0.35396152 0.35598039 0.35478555 0.3476165  0.34984137\n",
      " 0.37250216 0.37196654 0.36838202 0.36010053 0.3506654  0.34403197\n",
      " 0.34827572 0.35845247 0.36619834 0.37233736 0.38148408 0.38193729\n",
      " 0.39845907 0.39499815 0.39269087 0.39821186 0.42124346 0.43628198\n",
      " 0.43924849 0.46108525 0.46108525 0.46656504 0.46808949 0.47155041\n",
      " 0.46190927 0.49515883 0.488649   0.48963784 0.50615961 0.53108648\n",
      " 0.53994479 0.53607186 0.54167525 0.53475341 0.5345062  0.528738\n",
      " 0.5087141  0.51522393 0.49977339 0.49033826 0.47880186 0.50743686\n",
      " 0.53112768 0.52741955 0.49598286 0.49462321 0.50063862 0.50220428\n",
      " 0.52041531 0.5228874  0.61163528 0.63825141 0.59952206 0.59869803\n",
      " 0.57636686 0.5317457  0.53071567 0.56396523 0.51126859 0.52362902\n",
      " 0.52280499 0.52445305 0.51847884 0.53318775 0.53524783 0.54006839\n",
      " 0.53479461 0.52639407 0.51600569 0.5051958  0.4942084  0.48269868\n",
      " 0.47030863 0.45697179 0.44294277 0.42866492 0.41460517 0.40113443\n",
      " 0.38848284 0.37675023 0.36594194 0.35600802]\n",
      "1/1 [==============================] - 0s 45ms/step\n",
      "15 day output [[0.34687272]]\n",
      "16 day input [0.31519097 0.31263648 0.31078242 0.31341931 0.3275926  0.32998228\n",
      " 0.3247085  0.32507931 0.33822257 0.34353756 0.33954102 0.33801656\n",
      " 0.35396152 0.35598039 0.35478555 0.3476165  0.34984137 0.37250216\n",
      " 0.37196654 0.36838202 0.36010053 0.3506654  0.34403197 0.34827572\n",
      " 0.35845247 0.36619834 0.37233736 0.38148408 0.38193729 0.39845907\n",
      " 0.39499815 0.39269087 0.39821186 0.42124346 0.43628198 0.43924849\n",
      " 0.46108525 0.46108525 0.46656504 0.46808949 0.47155041 0.46190927\n",
      " 0.49515883 0.488649   0.48963784 0.50615961 0.53108648 0.53994479\n",
      " 0.53607186 0.54167525 0.53475341 0.5345062  0.528738   0.5087141\n",
      " 0.51522393 0.49977339 0.49033826 0.47880186 0.50743686 0.53112768\n",
      " 0.52741955 0.49598286 0.49462321 0.50063862 0.50220428 0.52041531\n",
      " 0.5228874  0.61163528 0.63825141 0.59952206 0.59869803 0.57636686\n",
      " 0.5317457  0.53071567 0.56396523 0.51126859 0.52362902 0.52280499\n",
      " 0.52445305 0.51847884 0.53318775 0.53524783 0.54006839 0.53479461\n",
      " 0.52639407 0.51600569 0.5051958  0.4942084  0.48269868 0.47030863\n",
      " 0.45697179 0.44294277 0.42866492 0.41460517 0.40113443 0.38848284\n",
      " 0.37675023 0.36594194 0.35600802 0.34687272]\n",
      "1/1 [==============================] - 0s 51ms/step\n",
      "16 day output [[0.33845413]]\n",
      "17 day input [0.31263648 0.31078242 0.31341931 0.3275926  0.32998228 0.3247085\n",
      " 0.32507931 0.33822257 0.34353756 0.33954102 0.33801656 0.35396152\n",
      " 0.35598039 0.35478555 0.3476165  0.34984137 0.37250216 0.37196654\n",
      " 0.36838202 0.36010053 0.3506654  0.34403197 0.34827572 0.35845247\n",
      " 0.36619834 0.37233736 0.38148408 0.38193729 0.39845907 0.39499815\n",
      " 0.39269087 0.39821186 0.42124346 0.43628198 0.43924849 0.46108525\n",
      " 0.46108525 0.46656504 0.46808949 0.47155041 0.46190927 0.49515883\n",
      " 0.488649   0.48963784 0.50615961 0.53108648 0.53994479 0.53607186\n",
      " 0.54167525 0.53475341 0.5345062  0.528738   0.5087141  0.51522393\n",
      " 0.49977339 0.49033826 0.47880186 0.50743686 0.53112768 0.52741955\n",
      " 0.49598286 0.49462321 0.50063862 0.50220428 0.52041531 0.5228874\n",
      " 0.61163528 0.63825141 0.59952206 0.59869803 0.57636686 0.5317457\n",
      " 0.53071567 0.56396523 0.51126859 0.52362902 0.52280499 0.52445305\n",
      " 0.51847884 0.53318775 0.53524783 0.54006839 0.53479461 0.52639407\n",
      " 0.51600569 0.5051958  0.4942084  0.48269868 0.47030863 0.45697179\n",
      " 0.44294277 0.42866492 0.41460517 0.40113443 0.38848284 0.37675023\n",
      " 0.36594194 0.35600802 0.34687272 0.33845413]\n",
      "1/1 [==============================] - 0s 48ms/step\n",
      "17 day output [[0.3306766]]\n",
      "18 day input [0.31078242 0.31341931 0.3275926  0.32998228 0.3247085  0.32507931\n",
      " 0.33822257 0.34353756 0.33954102 0.33801656 0.35396152 0.35598039\n",
      " 0.35478555 0.3476165  0.34984137 0.37250216 0.37196654 0.36838202\n",
      " 0.36010053 0.3506654  0.34403197 0.34827572 0.35845247 0.36619834\n",
      " 0.37233736 0.38148408 0.38193729 0.39845907 0.39499815 0.39269087\n",
      " 0.39821186 0.42124346 0.43628198 0.43924849 0.46108525 0.46108525\n",
      " 0.46656504 0.46808949 0.47155041 0.46190927 0.49515883 0.488649\n",
      " 0.48963784 0.50615961 0.53108648 0.53994479 0.53607186 0.54167525\n",
      " 0.53475341 0.5345062  0.528738   0.5087141  0.51522393 0.49977339\n",
      " 0.49033826 0.47880186 0.50743686 0.53112768 0.52741955 0.49598286\n",
      " 0.49462321 0.50063862 0.50220428 0.52041531 0.5228874  0.61163528\n",
      " 0.63825141 0.59952206 0.59869803 0.57636686 0.5317457  0.53071567\n",
      " 0.56396523 0.51126859 0.52362902 0.52280499 0.52445305 0.51847884\n",
      " 0.53318775 0.53524783 0.54006839 0.53479461 0.52639407 0.51600569\n",
      " 0.5051958  0.4942084  0.48269868 0.47030863 0.45697179 0.44294277\n",
      " 0.42866492 0.41460517 0.40113443 0.38848284 0.37675023 0.36594194\n",
      " 0.35600802 0.34687272 0.33845413 0.33067659]\n",
      "1/1 [==============================] - 0s 48ms/step\n",
      "18 day output [[0.3234754]]\n",
      "19 day input [0.31341931 0.3275926  0.32998228 0.3247085  0.32507931 0.33822257\n",
      " 0.34353756 0.33954102 0.33801656 0.35396152 0.35598039 0.35478555\n",
      " 0.3476165  0.34984137 0.37250216 0.37196654 0.36838202 0.36010053\n",
      " 0.3506654  0.34403197 0.34827572 0.35845247 0.36619834 0.37233736\n",
      " 0.38148408 0.38193729 0.39845907 0.39499815 0.39269087 0.39821186\n",
      " 0.42124346 0.43628198 0.43924849 0.46108525 0.46108525 0.46656504\n",
      " 0.46808949 0.47155041 0.46190927 0.49515883 0.488649   0.48963784\n",
      " 0.50615961 0.53108648 0.53994479 0.53607186 0.54167525 0.53475341\n",
      " 0.5345062  0.528738   0.5087141  0.51522393 0.49977339 0.49033826\n",
      " 0.47880186 0.50743686 0.53112768 0.52741955 0.49598286 0.49462321\n",
      " 0.50063862 0.50220428 0.52041531 0.5228874  0.61163528 0.63825141\n",
      " 0.59952206 0.59869803 0.57636686 0.5317457  0.53071567 0.56396523\n",
      " 0.51126859 0.52362902 0.52280499 0.52445305 0.51847884 0.53318775\n",
      " 0.53524783 0.54006839 0.53479461 0.52639407 0.51600569 0.5051958\n",
      " 0.4942084  0.48269868 0.47030863 0.45697179 0.44294277 0.42866492\n",
      " 0.41460517 0.40113443 0.38848284 0.37675023 0.36594194 0.35600802\n",
      " 0.34687272 0.33845413 0.33067659 0.32347539]\n",
      "1/1 [==============================] - 0s 51ms/step\n",
      "19 day output [[0.31680137]]\n",
      "20 day input [0.3275926  0.32998228 0.3247085  0.32507931 0.33822257 0.34353756\n",
      " 0.33954102 0.33801656 0.35396152 0.35598039 0.35478555 0.3476165\n",
      " 0.34984137 0.37250216 0.37196654 0.36838202 0.36010053 0.3506654\n",
      " 0.34403197 0.34827572 0.35845247 0.36619834 0.37233736 0.38148408\n",
      " 0.38193729 0.39845907 0.39499815 0.39269087 0.39821186 0.42124346\n",
      " 0.43628198 0.43924849 0.46108525 0.46108525 0.46656504 0.46808949\n",
      " 0.47155041 0.46190927 0.49515883 0.488649   0.48963784 0.50615961\n",
      " 0.53108648 0.53994479 0.53607186 0.54167525 0.53475341 0.5345062\n",
      " 0.528738   0.5087141  0.51522393 0.49977339 0.49033826 0.47880186\n",
      " 0.50743686 0.53112768 0.52741955 0.49598286 0.49462321 0.50063862\n",
      " 0.50220428 0.52041531 0.5228874  0.61163528 0.63825141 0.59952206\n",
      " 0.59869803 0.57636686 0.5317457  0.53071567 0.56396523 0.51126859\n",
      " 0.52362902 0.52280499 0.52445305 0.51847884 0.53318775 0.53524783\n",
      " 0.54006839 0.53479461 0.52639407 0.51600569 0.5051958  0.4942084\n",
      " 0.48269868 0.47030863 0.45697179 0.44294277 0.42866492 0.41460517\n",
      " 0.40113443 0.38848284 0.37675023 0.36594194 0.35600802 0.34687272\n",
      " 0.33845413 0.33067659 0.32347539 0.31680137]\n",
      "1/1 [==============================] - 0s 50ms/step\n",
      "20 day output [[0.31062096]]\n",
      "21 day input [0.32998228 0.3247085  0.32507931 0.33822257 0.34353756 0.33954102\n",
      " 0.33801656 0.35396152 0.35598039 0.35478555 0.3476165  0.34984137\n",
      " 0.37250216 0.37196654 0.36838202 0.36010053 0.3506654  0.34403197\n",
      " 0.34827572 0.35845247 0.36619834 0.37233736 0.38148408 0.38193729\n",
      " 0.39845907 0.39499815 0.39269087 0.39821186 0.42124346 0.43628198\n",
      " 0.43924849 0.46108525 0.46108525 0.46656504 0.46808949 0.47155041\n",
      " 0.46190927 0.49515883 0.488649   0.48963784 0.50615961 0.53108648\n",
      " 0.53994479 0.53607186 0.54167525 0.53475341 0.5345062  0.528738\n",
      " 0.5087141  0.51522393 0.49977339 0.49033826 0.47880186 0.50743686\n",
      " 0.53112768 0.52741955 0.49598286 0.49462321 0.50063862 0.50220428\n",
      " 0.52041531 0.5228874  0.61163528 0.63825141 0.59952206 0.59869803\n",
      " 0.57636686 0.5317457  0.53071567 0.56396523 0.51126859 0.52362902\n",
      " 0.52280499 0.52445305 0.51847884 0.53318775 0.53524783 0.54006839\n",
      " 0.53479461 0.52639407 0.51600569 0.5051958  0.4942084  0.48269868\n",
      " 0.47030863 0.45697179 0.44294277 0.42866492 0.41460517 0.40113443\n",
      " 0.38848284 0.37675023 0.36594194 0.35600802 0.34687272 0.33845413\n",
      " 0.33067659 0.32347539 0.31680137 0.31062096]\n"
     ]
    },
    {
     "name": "stdout",
     "output_type": "stream",
     "text": [
      "1/1 [==============================] - 0s 49ms/step\n",
      "21 day output [[0.30491516]]\n",
      "22 day input [0.3247085  0.32507931 0.33822257 0.34353756 0.33954102 0.33801656\n",
      " 0.35396152 0.35598039 0.35478555 0.3476165  0.34984137 0.37250216\n",
      " 0.37196654 0.36838202 0.36010053 0.3506654  0.34403197 0.34827572\n",
      " 0.35845247 0.36619834 0.37233736 0.38148408 0.38193729 0.39845907\n",
      " 0.39499815 0.39269087 0.39821186 0.42124346 0.43628198 0.43924849\n",
      " 0.46108525 0.46108525 0.46656504 0.46808949 0.47155041 0.46190927\n",
      " 0.49515883 0.488649   0.48963784 0.50615961 0.53108648 0.53994479\n",
      " 0.53607186 0.54167525 0.53475341 0.5345062  0.528738   0.5087141\n",
      " 0.51522393 0.49977339 0.49033826 0.47880186 0.50743686 0.53112768\n",
      " 0.52741955 0.49598286 0.49462321 0.50063862 0.50220428 0.52041531\n",
      " 0.5228874  0.61163528 0.63825141 0.59952206 0.59869803 0.57636686\n",
      " 0.5317457  0.53071567 0.56396523 0.51126859 0.52362902 0.52280499\n",
      " 0.52445305 0.51847884 0.53318775 0.53524783 0.54006839 0.53479461\n",
      " 0.52639407 0.51600569 0.5051958  0.4942084  0.48269868 0.47030863\n",
      " 0.45697179 0.44294277 0.42866492 0.41460517 0.40113443 0.38848284\n",
      " 0.37675023 0.36594194 0.35600802 0.34687272 0.33845413 0.33067659\n",
      " 0.32347539 0.31680137 0.31062096 0.30491516]\n",
      "1/1 [==============================] - 0s 66ms/step\n",
      "22 day output [[0.29967475]]\n",
      "23 day input [0.32507931 0.33822257 0.34353756 0.33954102 0.33801656 0.35396152\n",
      " 0.35598039 0.35478555 0.3476165  0.34984137 0.37250216 0.37196654\n",
      " 0.36838202 0.36010053 0.3506654  0.34403197 0.34827572 0.35845247\n",
      " 0.36619834 0.37233736 0.38148408 0.38193729 0.39845907 0.39499815\n",
      " 0.39269087 0.39821186 0.42124346 0.43628198 0.43924849 0.46108525\n",
      " 0.46108525 0.46656504 0.46808949 0.47155041 0.46190927 0.49515883\n",
      " 0.488649   0.48963784 0.50615961 0.53108648 0.53994479 0.53607186\n",
      " 0.54167525 0.53475341 0.5345062  0.528738   0.5087141  0.51522393\n",
      " 0.49977339 0.49033826 0.47880186 0.50743686 0.53112768 0.52741955\n",
      " 0.49598286 0.49462321 0.50063862 0.50220428 0.52041531 0.5228874\n",
      " 0.61163528 0.63825141 0.59952206 0.59869803 0.57636686 0.5317457\n",
      " 0.53071567 0.56396523 0.51126859 0.52362902 0.52280499 0.52445305\n",
      " 0.51847884 0.53318775 0.53524783 0.54006839 0.53479461 0.52639407\n",
      " 0.51600569 0.5051958  0.4942084  0.48269868 0.47030863 0.45697179\n",
      " 0.44294277 0.42866492 0.41460517 0.40113443 0.38848284 0.37675023\n",
      " 0.36594194 0.35600802 0.34687272 0.33845413 0.33067659 0.32347539\n",
      " 0.31680137 0.31062096 0.30491516 0.29967475]\n",
      "1/1 [==============================] - 0s 49ms/step\n",
      "23 day output [[0.29489693]]\n",
      "24 day input [0.33822257 0.34353756 0.33954102 0.33801656 0.35396152 0.35598039\n",
      " 0.35478555 0.3476165  0.34984137 0.37250216 0.37196654 0.36838202\n",
      " 0.36010053 0.3506654  0.34403197 0.34827572 0.35845247 0.36619834\n",
      " 0.37233736 0.38148408 0.38193729 0.39845907 0.39499815 0.39269087\n",
      " 0.39821186 0.42124346 0.43628198 0.43924849 0.46108525 0.46108525\n",
      " 0.46656504 0.46808949 0.47155041 0.46190927 0.49515883 0.488649\n",
      " 0.48963784 0.50615961 0.53108648 0.53994479 0.53607186 0.54167525\n",
      " 0.53475341 0.5345062  0.528738   0.5087141  0.51522393 0.49977339\n",
      " 0.49033826 0.47880186 0.50743686 0.53112768 0.52741955 0.49598286\n",
      " 0.49462321 0.50063862 0.50220428 0.52041531 0.5228874  0.61163528\n",
      " 0.63825141 0.59952206 0.59869803 0.57636686 0.5317457  0.53071567\n",
      " 0.56396523 0.51126859 0.52362902 0.52280499 0.52445305 0.51847884\n",
      " 0.53318775 0.53524783 0.54006839 0.53479461 0.52639407 0.51600569\n",
      " 0.5051958  0.4942084  0.48269868 0.47030863 0.45697179 0.44294277\n",
      " 0.42866492 0.41460517 0.40113443 0.38848284 0.37675023 0.36594194\n",
      " 0.35600802 0.34687272 0.33845413 0.33067659 0.32347539 0.31680137\n",
      " 0.31062096 0.30491516 0.29967475 0.29489693]\n",
      "1/1 [==============================] - 0s 63ms/step\n",
      "24 day output [[0.29058337]]\n",
      "25 day input [0.34353756 0.33954102 0.33801656 0.35396152 0.35598039 0.35478555\n",
      " 0.3476165  0.34984137 0.37250216 0.37196654 0.36838202 0.36010053\n",
      " 0.3506654  0.34403197 0.34827572 0.35845247 0.36619834 0.37233736\n",
      " 0.38148408 0.38193729 0.39845907 0.39499815 0.39269087 0.39821186\n",
      " 0.42124346 0.43628198 0.43924849 0.46108525 0.46108525 0.46656504\n",
      " 0.46808949 0.47155041 0.46190927 0.49515883 0.488649   0.48963784\n",
      " 0.50615961 0.53108648 0.53994479 0.53607186 0.54167525 0.53475341\n",
      " 0.5345062  0.528738   0.5087141  0.51522393 0.49977339 0.49033826\n",
      " 0.47880186 0.50743686 0.53112768 0.52741955 0.49598286 0.49462321\n",
      " 0.50063862 0.50220428 0.52041531 0.5228874  0.61163528 0.63825141\n",
      " 0.59952206 0.59869803 0.57636686 0.5317457  0.53071567 0.56396523\n",
      " 0.51126859 0.52362902 0.52280499 0.52445305 0.51847884 0.53318775\n",
      " 0.53524783 0.54006839 0.53479461 0.52639407 0.51600569 0.5051958\n",
      " 0.4942084  0.48269868 0.47030863 0.45697179 0.44294277 0.42866492\n",
      " 0.41460517 0.40113443 0.38848284 0.37675023 0.36594194 0.35600802\n",
      " 0.34687272 0.33845413 0.33067659 0.32347539 0.31680137 0.31062096\n",
      " 0.30491516 0.29967475 0.29489693 0.29058337]\n",
      "1/1 [==============================] - 0s 98ms/step\n",
      "25 day output [[0.28673637]]\n",
      "26 day input [0.33954102 0.33801656 0.35396152 0.35598039 0.35478555 0.3476165\n",
      " 0.34984137 0.37250216 0.37196654 0.36838202 0.36010053 0.3506654\n",
      " 0.34403197 0.34827572 0.35845247 0.36619834 0.37233736 0.38148408\n",
      " 0.38193729 0.39845907 0.39499815 0.39269087 0.39821186 0.42124346\n",
      " 0.43628198 0.43924849 0.46108525 0.46108525 0.46656504 0.46808949\n",
      " 0.47155041 0.46190927 0.49515883 0.488649   0.48963784 0.50615961\n",
      " 0.53108648 0.53994479 0.53607186 0.54167525 0.53475341 0.5345062\n",
      " 0.528738   0.5087141  0.51522393 0.49977339 0.49033826 0.47880186\n",
      " 0.50743686 0.53112768 0.52741955 0.49598286 0.49462321 0.50063862\n",
      " 0.50220428 0.52041531 0.5228874  0.61163528 0.63825141 0.59952206\n",
      " 0.59869803 0.57636686 0.5317457  0.53071567 0.56396523 0.51126859\n",
      " 0.52362902 0.52280499 0.52445305 0.51847884 0.53318775 0.53524783\n",
      " 0.54006839 0.53479461 0.52639407 0.51600569 0.5051958  0.4942084\n",
      " 0.48269868 0.47030863 0.45697179 0.44294277 0.42866492 0.41460517\n",
      " 0.40113443 0.38848284 0.37675023 0.36594194 0.35600802 0.34687272\n",
      " 0.33845413 0.33067659 0.32347539 0.31680137 0.31062096 0.30491516\n",
      " 0.29967475 0.29489693 0.29058337 0.28673637]\n",
      "1/1 [==============================] - 0s 69ms/step\n",
      "26 day output [[0.2833544]]\n",
      "27 day input [0.33801656 0.35396152 0.35598039 0.35478555 0.3476165  0.34984137\n",
      " 0.37250216 0.37196654 0.36838202 0.36010053 0.3506654  0.34403197\n",
      " 0.34827572 0.35845247 0.36619834 0.37233736 0.38148408 0.38193729\n",
      " 0.39845907 0.39499815 0.39269087 0.39821186 0.42124346 0.43628198\n",
      " 0.43924849 0.46108525 0.46108525 0.46656504 0.46808949 0.47155041\n",
      " 0.46190927 0.49515883 0.488649   0.48963784 0.50615961 0.53108648\n",
      " 0.53994479 0.53607186 0.54167525 0.53475341 0.5345062  0.528738\n",
      " 0.5087141  0.51522393 0.49977339 0.49033826 0.47880186 0.50743686\n",
      " 0.53112768 0.52741955 0.49598286 0.49462321 0.50063862 0.50220428\n",
      " 0.52041531 0.5228874  0.61163528 0.63825141 0.59952206 0.59869803\n",
      " 0.57636686 0.5317457  0.53071567 0.56396523 0.51126859 0.52362902\n",
      " 0.52280499 0.52445305 0.51847884 0.53318775 0.53524783 0.54006839\n",
      " 0.53479461 0.52639407 0.51600569 0.5051958  0.4942084  0.48269868\n",
      " 0.47030863 0.45697179 0.44294277 0.42866492 0.41460517 0.40113443\n",
      " 0.38848284 0.37675023 0.36594194 0.35600802 0.34687272 0.33845413\n",
      " 0.33067659 0.32347539 0.31680137 0.31062096 0.30491516 0.29967475\n",
      " 0.29489693 0.29058337 0.28673637 0.2833544 ]\n",
      "1/1 [==============================] - 0s 58ms/step\n",
      "27 day output [[0.28043008]]\n",
      "28 day input [0.35396152 0.35598039 0.35478555 0.3476165  0.34984137 0.37250216\n",
      " 0.37196654 0.36838202 0.36010053 0.3506654  0.34403197 0.34827572\n",
      " 0.35845247 0.36619834 0.37233736 0.38148408 0.38193729 0.39845907\n",
      " 0.39499815 0.39269087 0.39821186 0.42124346 0.43628198 0.43924849\n",
      " 0.46108525 0.46108525 0.46656504 0.46808949 0.47155041 0.46190927\n",
      " 0.49515883 0.488649   0.48963784 0.50615961 0.53108648 0.53994479\n",
      " 0.53607186 0.54167525 0.53475341 0.5345062  0.528738   0.5087141\n",
      " 0.51522393 0.49977339 0.49033826 0.47880186 0.50743686 0.53112768\n",
      " 0.52741955 0.49598286 0.49462321 0.50063862 0.50220428 0.52041531\n",
      " 0.5228874  0.61163528 0.63825141 0.59952206 0.59869803 0.57636686\n",
      " 0.5317457  0.53071567 0.56396523 0.51126859 0.52362902 0.52280499\n",
      " 0.52445305 0.51847884 0.53318775 0.53524783 0.54006839 0.53479461\n",
      " 0.52639407 0.51600569 0.5051958  0.4942084  0.48269868 0.47030863\n",
      " 0.45697179 0.44294277 0.42866492 0.41460517 0.40113443 0.38848284\n",
      " 0.37675023 0.36594194 0.35600802 0.34687272 0.33845413 0.33067659\n",
      " 0.32347539 0.31680137 0.31062096 0.30491516 0.29967475 0.29489693\n",
      " 0.29058337 0.28673637 0.2833544  0.28043008]\n"
     ]
    },
    {
     "name": "stdout",
     "output_type": "stream",
     "text": [
      "1/1 [==============================] - 0s 45ms/step\n",
      "28 day output [[0.27795067]]\n",
      "29 day input [0.35598039 0.35478555 0.3476165  0.34984137 0.37250216 0.37196654\n",
      " 0.36838202 0.36010053 0.3506654  0.34403197 0.34827572 0.35845247\n",
      " 0.36619834 0.37233736 0.38148408 0.38193729 0.39845907 0.39499815\n",
      " 0.39269087 0.39821186 0.42124346 0.43628198 0.43924849 0.46108525\n",
      " 0.46108525 0.46656504 0.46808949 0.47155041 0.46190927 0.49515883\n",
      " 0.488649   0.48963784 0.50615961 0.53108648 0.53994479 0.53607186\n",
      " 0.54167525 0.53475341 0.5345062  0.528738   0.5087141  0.51522393\n",
      " 0.49977339 0.49033826 0.47880186 0.50743686 0.53112768 0.52741955\n",
      " 0.49598286 0.49462321 0.50063862 0.50220428 0.52041531 0.5228874\n",
      " 0.61163528 0.63825141 0.59952206 0.59869803 0.57636686 0.5317457\n",
      " 0.53071567 0.56396523 0.51126859 0.52362902 0.52280499 0.52445305\n",
      " 0.51847884 0.53318775 0.53524783 0.54006839 0.53479461 0.52639407\n",
      " 0.51600569 0.5051958  0.4942084  0.48269868 0.47030863 0.45697179\n",
      " 0.44294277 0.42866492 0.41460517 0.40113443 0.38848284 0.37675023\n",
      " 0.36594194 0.35600802 0.34687272 0.33845413 0.33067659 0.32347539\n",
      " 0.31680137 0.31062096 0.30491516 0.29967475 0.29489693 0.29058337\n",
      " 0.28673637 0.2833544  0.28043008 0.27795067]\n",
      "1/1 [==============================] - 0s 69ms/step\n",
      "29 day output [[0.27589822]]\n",
      "[[0.5263940691947937], [0.5160056948661804], [0.5051957964897156], [0.4942083954811096], [0.4826986789703369], [0.4703086316585541], [0.45697179436683655], [0.4429427683353424], [0.4286649227142334], [0.41460517048835754], [0.4011344313621521], [0.38848283886909485], [0.37675023078918457], [0.36594194173812866], [0.35600802302360535], [0.3468727171421051], [0.33845412731170654], [0.3306765854358673], [0.3234753906726837], [0.31680136919021606], [0.3106209635734558], [0.3049151599407196], [0.29967474937438965], [0.2948969304561615], [0.29058337211608887], [0.2867363691329956], [0.28335440158843994], [0.2804300785064697], [0.2779506742954254], [0.2758982181549072]]\n"
     ]
    }
   ],
   "source": [
    "#demonstrating prediction for next 10 days\n",
    "from numpy import array\n",
    "lst_output=[]\n",
    "n_steps=100\n",
    "i=0\n",
    "while(i<30):\n",
    "    \n",
    "    if(len(temp_input)>100):\n",
    "        #print(temp_input)\n",
    "        x_input=np.array(temp_input[1:])\n",
    "        print(\"{} day input {}\".format(i,x_input))\n",
    "        x_input=x_input.reshape(1,-1)\n",
    "        x_input=x_input.reshape((1,n_steps,1))\n",
    "        #print(x_input)\n",
    "        yhat=model.predict(x_input, verbose=1)\n",
    "        print(\"{} day output {}\".format(i,yhat))\n",
    "        temp_input.extend(yhat[0].tolist())\n",
    "        temp_input=temp_input[1:]\n",
    "        #print(temp_input)\n",
    "        lst_output.extend(yhat.tolist())\n",
    "        i=i+1\n",
    "    else:\n",
    "        x_input=x_input.reshape((1, n_steps, 1))\n",
    "        yhat=model.predict(x_input,verbose=0)\n",
    "        print(yhat[0])\n",
    "        temp_input.extend(yhat[0].tolist())\n",
    "        print(len(temp_input))\n",
    "        lst_output.extend(yhat.tolist())\n",
    "        i=i+1\n",
    "\n",
    "print(lst_output)"
   ]
  },
  {
   "cell_type": "code",
   "execution_count": 166,
   "id": "9e6b1673",
   "metadata": {},
   "outputs": [],
   "source": [
    "day_new=np.arange(1,101)\n",
    "day_pred=np.arange(101,131)"
   ]
  },
  {
   "cell_type": "code",
   "execution_count": 167,
   "id": "37d69f99",
   "metadata": {},
   "outputs": [
    {
     "data": {
      "text/plain": [
       "3322"
      ]
     },
     "execution_count": 167,
     "metadata": {},
     "output_type": "execute_result"
    }
   ],
   "source": [
    "len(df1)"
   ]
  },
  {
   "cell_type": "code",
   "execution_count": 168,
   "id": "63fef004",
   "metadata": {},
   "outputs": [],
   "source": [
    "df3=df1.tolist()\n",
    "df3.extend(lst_output)"
   ]
  },
  {
   "cell_type": "code",
   "execution_count": 172,
   "id": "f025baf2",
   "metadata": {},
   "outputs": [
    {
     "data": {
      "text/plain": [
       "[<matplotlib.lines.Line2D at 0x260a4521250>]"
      ]
     },
     "execution_count": 172,
     "metadata": {},
     "output_type": "execute_result"
    },
    {
     "data": {
      "image/png": "[encoded data removed]",
      "text/plain": [
       "<Figure size 640x480 with 1 Axes>"
      ]
     },
     "metadata": {},
     "output_type": "display_data"
    }
   ],
   "source": [
    "plt.plot(day_new,scaler.inverse_transform(df1[3222:]))\n",
    "plt.plot(day_pred,scaler.inverse_transform(lst_output))"
   ]
  },
  {
   "cell_type": "code",
   "execution_count": null,
   "id": "d1f4b1df",
   "metadata": {},
   "outputs": [],
   "source": []
  },
  {
   "cell_type": "code",
   "execution_count": null,
   "id": "b1ea713b",
   "metadata": {},
   "outputs": [],
   "source": []
  }
 ],
 "metadata": {
  "kernelspec": {
   "display_name": "Python 3 (ipykernel)",
   "language": "python",
   "name": "python3"
  },
  "language_info": {
   "codemirror_mode": {
    "name": "ipython",
    "version": 3
   },
   "file_extension": ".py",
   "mimetype": "text/x-python",
   "name": "python",
   "nbconvert_exporter": "python",
   "pygments_lexer": "ipython3",
   "version": "3.9.16"
  }
 },
 "nbformat": 4,
 "nbformat_minor": 5
}
